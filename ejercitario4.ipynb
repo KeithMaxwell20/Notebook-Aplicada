{
 "cells": [
  {
   "cell_type": "markdown",
   "metadata": {},
   "source": [
    "# __Ejercitario 4__: Lógica Difusa\n",
    "\n",
    "Responde a las preguntas de abajo utilizando este mismo notebook. Recuerda de seguir las instrucciones de envío que están en la plataforma Educa."
   ]
  },
  {
   "cell_type": "markdown",
   "metadata": {},
   "source": [
    "---\n",
    "**Ejercicio 1.** Escribe las tablas de verdad de las siguientes expresiones.\n",
    "\n",
    "1. $(A\\Rightarrow B)\\land (\\lnot B)$.\n",
    "2. $(A\\Rightarrow (B\\Rightarrow C)) \\Leftrightarrow (A\\Rightarrow B)$.\n",
    "3. $A\\lor \\lnot A$."
   ]
  },
  {
   "cell_type": "markdown",
   "metadata": {},
   "source": [
    "**Solución**:"
   ]
  },
  {
   "cell_type": "markdown",
   "metadata": {},
   "source": [
    "**Item 1**\n",
    "1. $(A\\Rightarrow B)\\land (\\lnot B)$.\n",
    "\\begin{bmatrix} \n",
    "\tA & B & A\\Rightarrow B & \\lnot B & (A\\Rightarrow B)\\land (\\lnot B) \\\\\n",
    "    V & V & V & F & F \\\\\n",
    "    V & F & F & V & F\\\\\n",
    "    F & V & V & F & F\\\\\n",
    "    F & F & V & V & V\\\\\n",
    "\t\\end{bmatrix}\n"
   ]
  },
  {
   "cell_type": "markdown",
   "metadata": {},
   "source": [
    "**Item 2**\n",
    "1. $(A\\Rightarrow (B\\Rightarrow C)) \\Leftrightarrow (A\\Rightarrow B)$.\n",
    "\\begin{bmatrix} \n",
    "\tA & B & C & (B\\Rightarrow C) & A\\Rightarrow (B\\Rightarrow C) & A\\Rightarrow B & (A\\Rightarrow (B\\Rightarrow C)) \\Leftrightarrow (A\\Rightarrow B)\\\\\n",
    "    F & F & F & V & V & V & V\\\\\n",
    "    F & F & V & V & V & V & V\\\\\n",
    "    F & V & F & F & V & V & V\\\\\n",
    "    F & V & V & V & V & V & V\\\\\n",
    "    V & F & F & V & V & F & F\\\\\n",
    "    V & F & V & V & V & F & F\\\\\n",
    "    V & V & F & F & F & V & F\\\\\n",
    "    V & V & V & V & V & V & V\\\\\n",
    "\t\\end{bmatrix}\n"
   ]
  },
  {
   "cell_type": "markdown",
   "metadata": {},
   "source": [
    "**Item 3**\n",
    "1. $A\\lor \\lnot A$.\n",
    "\\begin{bmatrix} \n",
    "\tA & \\lnot A & A \\lor \\lnot A \\\\\n",
    "    V & F & V \\\\\n",
    "    F & V & V\\\\\n",
    "\t\\end{bmatrix}\n"
   ]
  },
  {
   "cell_type": "markdown",
   "metadata": {},
   "source": [
    "---\n",
    "**Ejercicio 2.** Demuestra que $A\\Rightarrow B$ es lógicamente equivalente a $\\lnot(A\\land \\lnot B)$."
   ]
  },
  {
   "cell_type": "markdown",
   "metadata": {},
   "source": [
    "**Solución**:\n",
    "\n",
    "Para demostrar equivalencia lógica, construiremos las tablas de verdad y mostraremos que son iguales mediante el operador $\\Leftrightarrow$ :\n",
    "\n"
   ]
  },
  {
   "cell_type": "markdown",
   "metadata": {},
   "source": [
    "Tabla de verdad de $A \\Rightarrow B$\n",
    "\n",
    "\\begin{bmatrix} \n",
    "\tA & B & A\\Rightarrow B\\\\\n",
    "    V & V & V\\\\\n",
    "    V & F & F\\\\\n",
    "    F & V & V\\\\\n",
    "    F & F & V\\\\\n",
    "\t\\end{bmatrix}\n"
   ]
  },
  {
   "cell_type": "markdown",
   "metadata": {},
   "source": [
    "Tabla de verdad de $\\lnot(A\\land \\lnot B)$\n",
    "\n",
    "\\begin{bmatrix} \n",
    "\tA & B & \\lnot B & A \\land \\lnot B & \\lnot(A\\land \\lnot B)\\\\\n",
    "    V & V & F & F & V\\\\\n",
    "    V & F & V & V & F\\\\\n",
    "    F & V & F & F & V\\\\\n",
    "    F & F & V & F & V\\\\\n",
    "\t\\end{bmatrix}\n"
   ]
  },
  {
   "cell_type": "markdown",
   "metadata": {},
   "source": [
    "Si realizamos $(A\\Rightarrow B)$ $\\Leftrightarrow (\\lnot(A\\land \\lnot B))$\n",
    "\n",
    "\\begin{bmatrix} \n",
    "\tA\\Rightarrow B & \\lnot(A\\land \\lnot B) & A\\Rightarrow B \\Leftrightarrow \\lnot(A\\land \\lnot B)\\\\\n",
    "    V & V & V \\\\\n",
    "    F & F & V \\\\\n",
    "    V & V & V \\\\\n",
    "    V & V & V \\\\\n",
    "\t\\end{bmatrix}\n"
   ]
  },
  {
   "cell_type": "markdown",
   "metadata": {},
   "source": [
    "Por tanto, queda demostrada la equivalencia lógica\n"
   ]
  },
  {
   "cell_type": "markdown",
   "metadata": {},
   "source": [
    "---\n",
    "**Ejercicio 3.** Demuestra en BL (lógica difusa básica) las siguientes expresiones.\n",
    "\n",
    "1. $A\\to (B\\to (A\\&B))$.\n",
    "2. $(A\\to B)\\to ((A\\&C)\\to (B\\&C))$.\n",
    "3. $((A\\to B)\\land (A\\to C))\\to (A\\to (B\\land C))$."
   ]
  },
  {
   "cell_type": "markdown",
   "metadata": {},
   "source": [
    "**Solución**:"
   ]
  },
  {
   "cell_type": "markdown",
   "metadata": {},
   "source": [
    "**Item 1**\n",
    "1. $A\\to (B\\to (A\\&B))$.\n",
    "\n",
    "$((A$&$B)\\rightarrow (A$&$B))\\rightarrow(A\\rightarrow B\\rightarrow (A$&$B))$ por (A6)\n",
    "\n",
    "$(A$&$B)\\rightarrow (A$&$B)$ por (iii)\n",
    "\n",
    "$A\\to (B\\to (A\\&B))$\n",
    "\n",
    "Por tanto, queda demostrada la primera expresión\n"
   ]
  },
  {
   "cell_type": "markdown",
   "metadata": {},
   "source": [
    "**Item 2**\n",
    "\n",
    "2. $(A\\to B)\\to ((A\\&C)\\to (B\\&C))$\n",
    "\n",
    "$((A$&$B)\\rightarrow ((A$&$C) \\rightarrow (B$&$C)))\\to ((A\\to B)\\to ((A$&$C)\\to (B$&$C))$ por (A6)\n",
    "\n",
    "$((A$&$C)\\to ((A$&$B)\\to(B$&$C)))\\to ((A$&$B)\\rightarrow ((A$&$C) \\rightarrow (B$&$C)))$ por (ii)\n",
    "\n",
    "$$\n"
   ]
  },
  {
   "cell_type": "markdown",
   "metadata": {},
   "source": [
    "---\n",
    "**Ejercicio 4.** Demostrar que ${\\mathbf 0}$ es equivalente a $A\\odot {\\mathbf 0}$ en BL."
   ]
  },
  {
   "cell_type": "markdown",
   "metadata": {},
   "source": [
    "**Solución**:"
   ]
  },
  {
   "cell_type": "markdown",
   "metadata": {
    "tags": []
   },
   "source": [
    "Para demostrar la equivalencia, utilizamos el siguiente conector lógico de la lógica de Hajek:\n",
    "\n",
    "$ A \\equiv B = (A\\rightarrow B) $&$ (B\\rightarrow A) $\n",
    "\n",
    "Tenemos que el operador $\\odot$ está definido de la siguiente manera:\n",
    "\n",
    "$s1\\odot s2$ = {${x|x=s1\\cdot s2, s1 \\in S1 \\land s2 \\in S2}$}\n",
    "\n",
    "Por tanto, independientemente de los valores hallados en A, se da que $A\\odot 0 = 0$\n",
    "\n",
    "$\\mathbf0 \\equiv A\\odot \\mathbf0 = (\\mathbf0 \\rightarrow \\mathbf0) $&$ (\\mathbf0 \\rightarrow \\mathbf0)$\n",
    "\n",
    "Hallamos el grado de verdad de $0 \\rightarrow 0$, y teniendo en cuenta que $T(\\mathbf0)=0$\n",
    "\n",
    "$\\mathbf0 \\equiv A\\odot \\mathbf0 = (0=>0) $&$ (0=>0)$\n",
    "\n",
    "Debido a que para todos los residuos considerados tenemos que si $a \\leq b$, entonces $a=>b = 1$ escribimos el siguiente resultado:\n",
    "\n",
    "$\\mathbf0 \\equiv A\\odot \\mathbf0 = 1$&$1$\n",
    "\n",
    "Convertimos a t-norma para hallar su grado de verdad\n",
    "\n",
    "$\\mathbf0 \\equiv A\\odot \\mathbf0 = 1*1$\n",
    "\n",
    "Utilizamos la propiedad de la \"boundary condition\", que dice que $a*1=a$\n",
    "\n",
    "En este caso, tenemos que $\\mathbf0 \\equiv A\\odot \\mathbf0 = 1*1=1$\n",
    "\n",
    "Por tanto, $\\mathbf0 \\equiv A\\odot \\mathbf0 = 1$\n",
    "\n"
   ]
  },
  {
   "cell_type": "markdown",
   "metadata": {},
   "source": [
    "---\n",
    "**Ejercicio 5.** Sea $U=\\{1,2,3,4\\}$ un universo, $P=0/1+0.6/2+1/3+0.5/4$ y $S=0/1+1/2+0.6/3+0.2/4$. Calcular ${\\mathrm cyl}\\bar P\\oplus {\\mathrm cyl}S$, donde $\\bar P$ es el complemento de $P$."
   ]
  },
  {
   "cell_type": "markdown",
   "metadata": {},
   "source": [
    "**Solución**:\n",
    "\n",
    "En primer lugar, escribimos el valor de $\\bar P$\n",
    "\n",
    "$\\bar P = 1/1+0.4/2+0/3+0.5/4$\n",
    "\n",
    "En segundo lugar, hallamos ${\\mathrm cyl} \\bar P$ y ${\\mathrm cyl} S$\n",
    "\n",
    "${\\mathrm cyl} \\bar P = $\n",
    "\n",
    " \\begin{bmatrix} \n",
    "    1\\\\\n",
    "    0.4\\\\\n",
    "    0\\\\\n",
    "    0.5\\\\\n",
    "\t\\end{bmatrix}\n",
    "    \n",
    "${\\mathrm cyl} S$ =\n",
    " \\begin{bmatrix} \n",
    "    0 \\\\\n",
    "    1\\\\\n",
    "    0.6\\\\\n",
    "    0.2\\\\\n",
    "\t\\end{bmatrix}\n",
    "\n",
    "Los elementos no sufren variación alguna debido a que cyl se usa para igualar sus dimensiones. Como sus dimensiones ya son iguales, entonces permanecen inalterados.\n",
    "\n",
    "\n",
    "En tercer lugar, calculamos ${\\mathrm cyl}\\bar P\\oplus {\\mathrm cyl}S$:\n",
    " \\begin{bmatrix} \n",
    "    1\\\\\n",
    "    1\\\\\n",
    "    0.6\\\\\n",
    "    0.7\\\\\n",
    "\t\\end{bmatrix}\n",
    "    \n",
    "Con este resultado concluimos el ejercicio\n"
   ]
  },
  {
   "cell_type": "markdown",
   "metadata": {},
   "source": [
    "---\n",
    "**Ejercicio 6.** Considera los conjuntos difusos $A=0.1/1+0.9/2+0.6/3+0/4$ y $B=0.8/1+0.8/2+0.3/3$. Calcula la relación inducida por las implicancias de (1) Łukasiewicz, (2) Gödel y (3) Goguen. Presenta la relación como una matriz."
   ]
  },
  {
   "cell_type": "markdown",
   "metadata": {},
   "source": [
    "**Solución**:"
   ]
  },
  {
   "cell_type": "markdown",
   "metadata": {},
   "source": [
    "Calculamos $a=>b$ para cada una de las tres implicancias.\n",
    "\n",
    "Tenemos que si $a<=b$ entonces el valor de la implicancia es 1, en caso contrario aplicamos la operación concreta de cada implicancia.\n",
    "\n",
    "En primer lugar, presentamos la matriz resultante con la implicancia de Łukasiewicz:\n",
    "\n",
    " \\begin{bmatrix} \n",
    "    1 & 1 & 1 \\\\\n",
    "    0.9 & 0.9 & 0.4 \\\\\n",
    "    1 & 1 & 0.7 \\\\\n",
    "    1 & 1 & 1 \\\\\n",
    "\t\\end{bmatrix}\n",
    "\n",
    "En segundo lugar, presentamos la matriz resultante luego de aplicar la implicancia de Gödel:\n",
    "\n",
    " \\begin{bmatrix} \n",
    "    1 & 1 & 1 \\\\\n",
    "    0.8 & 0.8 & 0.3 \\\\\n",
    "    1 & 1 & 0.6 \\\\\n",
    "    1 & 1 & 1 \\\\\n",
    "\t\\end{bmatrix}\n",
    "\n",
    "En tercer lugar, presentamos la matriz resultante producida por la implicancia de Goguen:\n",
    "\n",
    " \\begin{bmatrix} \n",
    "    1 & 1 & 1 \\\\\n",
    "    0.888 & 0.888 & 0.333 \\\\\n",
    "    1 & 1 & 0.5 \\\\\n",
    "    1 & 1 & 1 \\\\\n",
    "\t\\end{bmatrix}\n",
    "\n"
   ]
  },
  {
   "cell_type": "markdown",
   "metadata": {},
   "source": [
    "---\n",
    "**Ejercicio 7.** Considera el ejemplo de la página 180 de libro de Syropoulos y Grammenos (2020) en donde se definen los conjuntos _\"small\"_ y _\"approximately equal\"_. Aplica los modificadores _\"very\"_ y _\"somewhat\"_ a los conjuntos _\"small\"_ y _\"approximately equal\"_, respectivamente. Luego vuelve a aplicar la regla de inferencia composicional sobre estos conjuntos modificados y presenta la matriz que corresponde a la relación difusa resultante."
   ]
  },
  {
   "cell_type": "markdown",
   "metadata": {},
   "source": [
    "**Solución**:\n"
   ]
  },
  {
   "cell_type": "markdown",
   "metadata": {},
   "source": [
    "Conjunto \"*small*\": \n",
    "\n",
    "\\begin{bmatrix} \n",
    "    1 & 0.6 & 0.2 & 0 \\\\\n",
    "\t\\end{bmatrix}\n",
    "   \n",
    "Conjunto \"*aproximadamente igual*\":\n",
    "\n",
    " \\begin{bmatrix} \n",
    "    1 & 0.5 & 0 & 0 \\\\\n",
    "    0.5 & 1 & 0.5 & 0 \\\\\n",
    "    0 & 0.5 & 1 & 0.5 \\\\\n",
    "    0 & 0 & 0.5 & 1 \\\\\n",
    "\t\\end{bmatrix}\n",
    "\n"
   ]
  },
  {
   "cell_type": "markdown",
   "metadata": {},
   "source": [
    "Operador very: $A_{very}(x) = (A(x))^2$\n",
    "\n",
    "Operador somewhat: $A_{somewhat}(x) = min(A_{morl}(x), 1-A_{slightly})(x))$"
   ]
  },
  {
   "cell_type": "markdown",
   "metadata": {},
   "source": [
    "**Aplicamos los operadores a los conjuntos**"
   ]
  },
  {
   "cell_type": "markdown",
   "metadata": {},
   "source": [
    "Aplicamos el operador \"*very*\" al conjunto \"small\":\n",
    "\n",
    "\\begin{bmatrix} \n",
    "    1 & 0.36 & 0.04 & 0 \\\\\n",
    "\t\\end{bmatrix}"
   ]
  },
  {
   "cell_type": "markdown",
   "metadata": {},
   "source": [
    "Aplicamos el operador \"*somewhat*\" al conjunto \"aproximadamente igual\":\n",
    "\n",
    "Inicialmente tenemos la matriz sin modificar:\n",
    "\n",
    " \\begin{bmatrix} \n",
    "    1 & 0.5 & 0 & 0 \\\\\n",
    "    0.5 & 1 & 0.5 & 0 \\\\\n",
    "    0 & 0.5 & 1 & 0.5 \\\\\n",
    "    0 & 0 & 0.5 & 1 \\\\\n",
    "\t\\end{bmatrix}\n",
    "\n",
    "Los valores de 0 permanecen inalterados, pues $min(0,0) = 0$\n",
    "    \n",
    "Modificar valor de 1: $min(1, 0) = 0$\n",
    " \\begin{bmatrix} \n",
    "    0 & 0.5 & 0 & 0 \\\\\n",
    "    0.5 & 0 & 0.5 & 0 \\\\\n",
    "    0 & 0.5 & 0 & 0.5 \\\\\n",
    "    0 & 0 & 0.5 & 0 \\\\\n",
    "\t\\end{bmatrix}\n",
    "    \n",
    "Modificar valor de 0.5: $min(0.7, 0.206) = 0.206$\n",
    "\n",
    " \\begin{bmatrix} \n",
    "    0 & 0.206 & 0 & 0 \\\\\n",
    "    0.206 & 0 & 0.206 & 0 \\\\\n",
    "    0 & 0.206 & 0 & 0.206 \\\\\n",
    "    0 & 0 & 0.206 & 0 \\\\\n",
    "\t\\end{bmatrix}\n",
    "\n",
    "De este modo tenemos la matriz resultante\n",
    "    "
   ]
  },
  {
   "cell_type": "markdown",
   "metadata": {},
   "source": [
    "**Finalmente, aplicamos la regla de inferencia composicional entre los 2 conjuntos resultantes**\n",
    "$small \\circ aproximadamenteigual$ = \n",
    "$\n",
    "\\begin{bmatrix} \n",
    "    1 & 0.36 & 0.04 & 0 \\\\\n",
    "\t\\end{bmatrix} \n",
    "    °\n",
    "    \\begin{bmatrix} \n",
    "    0 & 0.206 & 0 & 0 \\\\\n",
    "    0.206 & 0 & 0.206 & 0 \\\\\n",
    "    0 & 0.206 & 0 & 0.206 \\\\\n",
    "    0 & 0 & 0.206 & 0 \\\\\n",
    "\t\\end{bmatrix}\n",
    "$\n",
    "\n"
   ]
  },
  {
   "cell_type": "markdown",
   "metadata": {},
   "source": [
    "La matriz resultante de esta operación es:\n",
    "\\begin{bmatrix} \n",
    "    0.206 & 0.206 & 0.206 & 0.04 \\\\\n",
    "\t\\end{bmatrix}\n",
    "    \n",
    "Con esto finalizamos el ejercicio\n"
   ]
  },
  {
   "cell_type": "markdown",
   "metadata": {},
   "source": [
    "---\n",
    "**Ejercicio 8.** Considera los conjuntos difusos $P=0/1+0.9/2+0.6/3$, $Q=0.9/1+0.3/2+0.2/3$ y $S=0.3/1+0.1/2+0.3/3$. Calcula el conjunto difuso resultante de aplicar el modus ponens difuso (ver p.181 de Syropoulos y Grammenos (2020)). Hacer el modus ponens para las tres reglas de implicancia (1) Łukasiewicz, (2) Gödel y (3) Goguen."
   ]
  },
  {
   "cell_type": "markdown",
   "metadata": {},
   "source": [
    "**Solución**:"
   ]
  },
  {
   "cell_type": "markdown",
   "metadata": {},
   "source": [
    "**En primer lugar**, aplicamos el Modus Ponens Difuso con el producto cartesiano\n",
    "\n",
    "$$P$$\n",
    "\n",
    "$$R=QxS$$\n",
    "\n",
    "$$S'=P\\circ R$$"
   ]
  },
  {
   "cell_type": "markdown",
   "metadata": {},
   "source": [
    "\n",
    "$R=$\n",
    " $\\begin{bmatrix} \n",
    "    0.3 & 0.1 & 0.3 \\\\\n",
    "    0.3 & 0.1 & 0.3 \\\\\n",
    "    0.2 & 0.1 & 0.2  \\\\\n",
    "\t\\end{bmatrix}\n",
    "$    \n",
    "$S'=P \\circ R$ = \n",
    "$\n",
    "\\begin{bmatrix} \n",
    "    0 & 0.9 & 0.6 \\\\\n",
    "\t\\end{bmatrix} \n",
    "    °\n",
    "     \\begin{bmatrix} \n",
    "    0.3 & 0.1 & 0.3 \\\\\n",
    "    0.3 & 0.1 & 0.3 \\\\\n",
    "    0.2 & 0.1 & 0.2  \\\\\n",
    "\t\\end{bmatrix}= \n",
    "    \\begin{bmatrix} \n",
    "    0.3 & 0.1 & 0.2 \\\\\n",
    "\t\\end{bmatrix}\n",
    "$\n"
   ]
  },
  {
   "cell_type": "markdown",
   "metadata": {},
   "source": [
    "**En segundo lugar**, aplicamos el Modus Ponens Difuso con la implicancia de Łukasiewicz\n",
    "\n",
    "$$P$$\n",
    "\n",
    "$$R=Q=>S$$\n",
    "\n",
    "$$S'=P\\circ R$$"
   ]
  },
  {
   "cell_type": "markdown",
   "metadata": {},
   "source": [
    "$ R=\n",
    " \\begin{bmatrix} \n",
    "    0.4 & 0.2 & 0.4 \\\\\n",
    "    1 & 0.8 & 1 \\\\\n",
    "    1 & 0.9 & 1  \\\\\n",
    "\t\\end{bmatrix}\n",
    "$"
   ]
  },
  {
   "cell_type": "markdown",
   "metadata": {},
   "source": [
    "    \n",
    "$S'=P \\circ R$ = \n",
    "$\n",
    "\\begin{bmatrix} \n",
    "    0 & 0.9 & 0.6 \\\\\n",
    "\t\\end{bmatrix} \n",
    "    °\n",
    "     \\begin{bmatrix} \n",
    "    0.4 & 0.2 & 0.4 \\\\\n",
    "    1 & 0.8 & 1 \\\\\n",
    "    1 & 0.9 & 1  \\\\\n",
    "\t\\end{bmatrix}= \n",
    "    \\begin{bmatrix} \n",
    "    0.9 & 0.8 & 0.6 \\\\\n",
    "\t\\end{bmatrix}\n",
    "$\n"
   ]
  },
  {
   "cell_type": "markdown",
   "metadata": {},
   "source": [
    "**En tercer lugar**, aplicamos el Modus Ponens Difuso con la implicancia de Gödel\n",
    "\n",
    "$$P$$\n",
    "\n",
    "$$R=Q=>S$$\n",
    "\n",
    "$$S'=P\\circ R$$\n",
    "$R=\n",
    " \\begin{bmatrix} \n",
    "    0.3 & 0.1 & 0.3 \\\\\n",
    "    1 & 0.1 & 1 \\\\\n",
    "    1 & 0.1 & 1  \\\\\n",
    "\t\\end{bmatrix}\n",
    "$"
   ]
  },
  {
   "cell_type": "markdown",
   "metadata": {},
   "source": [
    "    \n",
    "$S'=P \\circ R$ = \n",
    "$\n",
    "\\begin{bmatrix} \n",
    "    0 & 0.9 & 0.6 \\\\\n",
    "\t\\end{bmatrix} \n",
    "    °\n",
    "     \\begin{bmatrix} \n",
    "    0.3 & 0.1 & 0.3 \\\\\n",
    "    1 & 0.1 & 1 \\\\\n",
    "    1 & 0.1 & 1  \\\\\n",
    "\t\\end{bmatrix}= \n",
    "    \\begin{bmatrix} \n",
    "    0.9 & 0.1 & 0.9 \\\\\n",
    "\t\\end{bmatrix}\n",
    "$"
   ]
  },
  {
   "cell_type": "markdown",
   "metadata": {},
   "source": [
    "**En último lugar**, aplicamos el Modus Ponens Difuso con la implicancia de Gödel\n",
    "\n",
    "$$P$$\n",
    "\n",
    "$$R=Q=>S$$\n",
    "\n",
    "$$S'=P\\circ R$$\n",
    "\n",
    "$R=\n",
    " \\begin{bmatrix} \n",
    "    0.333 & 0.111 & 0.333 \\\\\n",
    "    1 & 0.333 & 1 \\\\\n",
    "    1 & 0.5 & 1  \\\\\n",
    "\t\\end{bmatrix}\n",
    "$"
   ]
  },
  {
   "cell_type": "markdown",
   "metadata": {},
   "source": [
    "    \n",
    "$S'=P \\circ R$ = \n",
    "$\n",
    "\\begin{bmatrix} \n",
    "    0 & 0.9 & 0.6 \\\\\n",
    "\t\\end{bmatrix} \n",
    "    °\n",
    "     \\begin{bmatrix} \n",
    "    0.333 & 0.111 & 0.333 \\\\\n",
    "    1 & 0.333 & 1 \\\\\n",
    "    1 & 0.5 & 1  \\\\\n",
    "\t\\end{bmatrix}= \n",
    "    \\begin{bmatrix} \n",
    "    0.9 & 0.5 & 0.9 \\\\\n",
    "\t\\end{bmatrix}\n",
    "$"
   ]
  }
 ],
 "metadata": {
  "kernelspec": {
   "display_name": "Python 3 (ipykernel)",
   "language": "python",
   "name": "python3"
  },
  "language_info": {
   "codemirror_mode": {
    "name": "ipython",
    "version": 3
   },
   "file_extension": ".py",
   "mimetype": "text/x-python",
   "name": "python",
   "nbconvert_exporter": "python",
   "pygments_lexer": "ipython3",
   "version": "3.10.2"
  }
 },
 "nbformat": 4,
 "nbformat_minor": 4
}
