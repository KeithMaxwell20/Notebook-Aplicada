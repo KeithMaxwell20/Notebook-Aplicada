{
 "cells": [
  {
   "cell_type": "markdown",
   "metadata": {},
   "source": [
    "# __Ejercitario 2__: Números Difusos y su Aritmética\n",
    "\n",
    "Responde a las preguntas de abajo utilizando este mismo notebook. Recuerda de seguir las instrucciones de envío que están en la plataforma Educa."
   ]
  },
  {
   "cell_type": "markdown",
   "metadata": {},
   "source": [
    "---\n",
    "**Ejercicio 1.** Escribe una expresión para la función de membresía y los cortes alfa en forma intervalar para un número difuso triangular $\\text{tfn}(\\bar x,e_1,e_2)$. Utiliza este resultado para:\n",
    "\n",
    "1. Calcular los cortes alfa en forma intervalar del número $\\text{tfn}(2,4,5)$.\n",
    "2. Calcular la función de membresía del número $\\text{tfn}(2,4,5)$.\n",
    "3. Presenta un dibujo de $\\text{tfn}(2,4,5)$."
   ]
  },
  {
   "cell_type": "markdown",
   "metadata": {},
   "source": [
    "**Solución:**\n",
    "\n",
    "**En primer lugar**, escribimos la función de membresía para un número difuso triangular:\n",
    "\n",
    "$$A(x)=\\left\\{ \\begin{array}{ll}\n",
    "0             & \\text{ si } x\\leq\\bar x-e_1\\\\\n",
    "1+\\frac{x-\\bar x}{e_1} & \\text{ si } \\bar x-e_1 < x < \\bar x\\\\\n",
    "1-\\frac{x- \\bar x}{e_2}& \\text{ si } \\bar x \\leq x < \\bar x + e_2\\\\\n",
    "0             & \\text{ si } x \\ge \\bar x + e_2,\n",
    "\\end{array}\\right.\n",
    "$$"
   ]
  },
  {
   "cell_type": "markdown",
   "metadata": {},
   "source": [
    "**En segundo lugar**, hallamos los cortes $\\alpha$:\n",
    "\n",
    "Para un número difuso triangular podemos hallar estos cortes con la ecuación punto-pendiente:\n",
    "    $$y-y_1 = m_1(x-e_1)$$\n",
    "    $$y-y_2 = m_2(x-e_2)$$\n",
    "    \n",
    "Los cortes alfa corresponden a los valores surgidos de despejar las 2 rectas en función a x:\n",
    "\n",
    "$$ ^{\\alpha}A = [\\frac{y-y_1}{m_1}+e_1,\\frac{y-y_2}{m_2}+e_2]$$\n"
   ]
  },
  {
   "cell_type": "markdown",
   "metadata": {},
   "source": [
    "**Item 1.** Calcular los cortes alfa en forma intervalar del número $\\text{tfn}(2,4,5)$."
   ]
  },
  {
   "cell_type": "code",
   "execution_count": 14,
   "metadata": {},
   "outputs": [],
   "source": [
    "x,y = SR.var('x,y') # Definimos que x e y son variables\n",
    "ec_izquierda = y-0==(1-0)*(x-2)/(4-2) # Ecuación de la izquierda\n",
    "ec_izquierda = solve(ec_izquierda, x) # Despejar y\n",
    "ec_derecha = y-1==(0-1)*(x-4)/(9-4) # Ecuación de la derecha\n",
    "ec_derecha = solve(ec_derecha, x) # Despejar y\n"
   ]
  },
  {
   "cell_type": "markdown",
   "metadata": {},
   "source": [
    "El corte $\\alpha$ izquierdo está dado por la siguiente ecuación:"
   ]
  },
  {
   "cell_type": "code",
   "execution_count": 15,
   "metadata": {},
   "outputs": [
    {
     "data": {
      "text/plain": [
       "x == 2*y + 2"
      ]
     },
     "execution_count": 15,
     "metadata": {},
     "output_type": "execute_result"
    }
   ],
   "source": [
    "ec_izquierda[0]"
   ]
  },
  {
   "cell_type": "markdown",
   "metadata": {},
   "source": [
    "El corte $\\alpha$ derecho está dado por la siguiente ecuación:"
   ]
  },
  {
   "cell_type": "code",
   "execution_count": 16,
   "metadata": {},
   "outputs": [
    {
     "data": {
      "text/plain": [
       "x == -5*y + 9"
      ]
     },
     "execution_count": 16,
     "metadata": {},
     "output_type": "execute_result"
    }
   ],
   "source": [
    "ec_derecha[0]"
   ]
  },
  {
   "cell_type": "markdown",
   "metadata": {},
   "source": [
    "En resumen, tenemos que $$ ^{\\alpha}A = [2 \\alpha +2, -5\\alpha +9]$$"
   ]
  },
  {
   "cell_type": "markdown",
   "metadata": {},
   "source": [
    "Se puede verificar el resultado hallando el núcleo y el soporte.\n",
    "\n",
    "Para $\\alpha = 1$ tenemos:"
   ]
  },
  {
   "cell_type": "code",
   "execution_count": 17,
   "metadata": {},
   "outputs": [
    {
     "data": {
      "text/plain": [
       "x == 4"
      ]
     },
     "execution_count": 17,
     "metadata": {},
     "output_type": "execute_result"
    }
   ],
   "source": [
    "ec_izquierda[0].subs(y=1)"
   ]
  },
  {
   "cell_type": "code",
   "execution_count": 18,
   "metadata": {},
   "outputs": [
    {
     "data": {
      "text/plain": [
       "x == 4"
      ]
     },
     "execution_count": 18,
     "metadata": {},
     "output_type": "execute_result"
    }
   ],
   "source": [
    "ec_derecha[0].subs(y=1)"
   ]
  },
  {
   "cell_type": "markdown",
   "metadata": {},
   "source": [
    "Este resultado coincide con el núcleo de $A$. Si hacemos $\\alpha=0$ tenemos:"
   ]
  },
  {
   "cell_type": "code",
   "execution_count": 20,
   "metadata": {},
   "outputs": [
    {
     "data": {
      "text/plain": [
       "x == 2"
      ]
     },
     "execution_count": 20,
     "metadata": {},
     "output_type": "execute_result"
    }
   ],
   "source": [
    "ec_izquierda[0].subs(y=0)"
   ]
  },
  {
   "cell_type": "code",
   "execution_count": 21,
   "metadata": {},
   "outputs": [
    {
     "data": {
      "text/plain": [
       "x == 9"
      ]
     },
     "execution_count": 21,
     "metadata": {},
     "output_type": "execute_result"
    }
   ],
   "source": [
    "ec_derecha[0].subs(y=0)"
   ]
  },
  {
   "cell_type": "markdown",
   "metadata": {},
   "source": [
    "Es resultado coincide con el soporte de **A**"
   ]
  },
  {
   "cell_type": "markdown",
   "metadata": {},
   "source": [
    "**Item 2.** Calcular la función de membresía del número $\\text{tfn}(2,4,5)$."
   ]
  },
  {
   "cell_type": "markdown",
   "metadata": {},
   "source": [
    "\n",
    "$$A(x)=\\left\\{ \\begin{array}{ll}\n",
    "0             & \\text{ si } x\\leq 2\\\\\n",
    "1+\\frac{x-4}{2} & \\text{ si } 2 < x < 4\\\\\n",
    "1-\\frac{x-4}{5}& \\text{ si } 4 \\leq x < 9\\\\\n",
    "0             & \\text{ si } x \\ge 9,\n",
    "\\end{array}\\right.\n",
    "$$"
   ]
  },
  {
   "cell_type": "markdown",
   "metadata": {},
   "source": [
    "**Item 3.** Presenta un dibujo de $\\text{tfn}(2,4,5)$."
   ]
  },
  {
   "cell_type": "code",
   "execution_count": 23,
   "metadata": {},
   "outputs": [
    {
     "data": {
      "image/png": "[encoded data removed]",
      "text/plain": [
       "Graphics object consisting of 2 graphics primitives"
      ]
     },
     "execution_count": 23,
     "metadata": {},
     "output_type": "execute_result"
    }
   ],
   "source": [
    "# Funciones de A(x) que no son iguales a 0\n",
    "f1(x)=1+(x-4)/2 \n",
    "f2(x)=1-(x-4)/5 \n",
    "\n",
    "plot(f1, (x, 2, 4), legend_label='lado izquierdo') + plot(f2, (x, 4, 9), legend_label='lado derecho')"
   ]
  },
  {
   "cell_type": "markdown",
   "metadata": {},
   "source": [
    "---\n",
    "**Ejercicio 2.** Dado el número difuso exponencial $A=\\text{efn}(2,0.5,1,0.4)$.\n",
    "\n",
    "1. Escribe su función de membresía.\n",
    "2. Encuentra una expresión intervalar para los cortes alfa.\n",
    "3. Encuentra una expresión intervalar para los cortes alfa de $A^2$.\n",
    "4. Dibuja $A$ y $A^2$ en una misma gráfica para compararlos."
   ]
  },
  {
   "cell_type": "markdown",
   "metadata": {},
   "source": [
    "**Solución:**"
   ]
  },
  {
   "cell_type": "markdown",
   "metadata": {},
   "source": [
    "**Item 1.** Escribe su función de membresía."
   ]
  },
  {
   "cell_type": "markdown",
   "metadata": {},
   "source": [
    "Forma General: $\\text{efn}(\\bar x,\\tau_1,\\tau_2,a)$\n",
    "\n",
    "Forma particular: $A=\\text{efn}(2,0.5,1,0.4)$ "
   ]
  },
  {
   "cell_type": "markdown",
   "metadata": {},
   "source": [
    "\n",
    "$$A(x)=\\left\\{ \\begin{array}{ll}\n",
    "0             & \\text{ si } x < 1.8\\\\\\\n",
    "\\frac{x-2}{0.5} & \\text{ si } 1.8 \\leq x < 2 \\\\\n",
    "2-x & \\text{ si } 2 \\leq x < 2.4\\\\\n",
    "0             & \\text{ si } x \\ge 2.4,\n",
    "\\end{array}\\right.\n",
    "$$"
   ]
  },
  {
   "cell_type": "markdown",
   "metadata": {},
   "source": [
    "**Item 2.** Encuentra una expresión intervalar para los cortes alfa."
   ]
  },
  {
   "cell_type": "markdown",
   "metadata": {},
   "source": []
  },
  {
   "cell_type": "markdown",
   "metadata": {},
   "source": [
    "**Item 3.** Encuentra una expresión intervalar para los cortes alfa de $A^2$."
   ]
  },
  {
   "cell_type": "markdown",
   "metadata": {},
   "source": []
  },
  {
   "cell_type": "markdown",
   "metadata": {},
   "source": [
    "**Item 4**. Dibuja $A$ y $A^2$ en una misma gráfica para compararlos."
   ]
  },
  {
   "cell_type": "markdown",
   "metadata": {},
   "source": []
  },
  {
   "cell_type": "markdown",
   "metadata": {},
   "source": [
    "---\n",
    "**Ejercicio 3.** Escribe una expresión para la función de membresía y los cortes alfa para un número difuso cuadrático $\\text{qfn}(\\bar x,\\beta_l,\\beta_r)$ en forma general. Utiliza este resultado para:\n",
    "\n",
    "1. Calcular los cortes alfa en forma intervalar del número $\\text{qfn}(\\bar x,\\beta_l,\\beta_r)$.\n",
    "2. Calcular la función de membresía del número $\\text{qfn}(\\bar x,\\beta_l,\\beta_r)$.\n",
    "3. Presenta un dibujo de $\\text{qfn}(1,-5,2)$."
   ]
  },
  {
   "cell_type": "markdown",
   "metadata": {},
   "source": []
  },
  {
   "cell_type": "markdown",
   "metadata": {},
   "source": [
    "---\n",
    "**Ejercicio 4.** Para este ejercicio lee la definición de un número difuso L-R (Def.4.12, p.59) en el libro de texto de Bede (2013). Considera el número L-R dado por $L(x)=R(x)=x^2$. Sean $a_1^-=a_1^+=1$ y $\\underline{a}=1$, $\\overline{a}=2$, respectivamente.\n",
    "\n",
    "1. Escribe la función de membresía del número.\n",
    "2. Demuestra que sus cortes alfa están dados por $A_\\alpha=[\\sqrt r,3-2\\sqrt r]$.\n",
    "3. Grafica el número."
   ]
  },
  {
   "cell_type": "markdown",
   "metadata": {},
   "source": []
  },
  {
   "cell_type": "markdown",
   "metadata": {},
   "source": [
    "---\n",
    "**Ejercicio 5.** Para este ejercicio lee la definición de número difuso L-R (Def.4.12, p.59) en el libro de texto de Bede (2013). Demostrar que si $u$ es un número difuso L-R, entonces sus cortes alfa están dados por $u_\\alpha=[a_0^-+L^{-1}(\\alpha)\\underline{a}, a_0^+-R^{-1}(\\alpha)\\overline a]$."
   ]
  },
  {
   "cell_type": "markdown",
   "metadata": {},
   "source": []
  },
  {
   "cell_type": "markdown",
   "metadata": {},
   "source": [
    "---\n",
    "**Ejercicio 6.** Sea $L(x)=R(x)=x^a$, con $a>0$. Escribe la función de membresía y los cortes alfa en forma intervalar de los números L-R basados en estas funciones."
   ]
  },
  {
   "cell_type": "markdown",
   "metadata": {},
   "source": []
  },
  {
   "cell_type": "markdown",
   "metadata": {},
   "source": [
    "---\n",
    "**Ejercicio 7.** Sea $u=\\text{trfn}(2,5,6,7)$ un número difuso trapezoidal y $v=\\text{tfn}(1,4,5)$ un número difuso triangular. Dibuja $u$ y $v$ y calcula la función de membresía de:\n",
    "\n",
    "1. $u+v$.\n",
    "2. $u-v$.\n",
    "3. $-2u+v$.\n",
    "4. $u-u$.\n",
    "5. $2v-v$.\n",
    "6. Dibuja cada resultado uno encima de otro, en una misma gráfica."
   ]
  },
  {
   "cell_type": "markdown",
   "metadata": {},
   "source": []
  },
  {
   "cell_type": "markdown",
   "metadata": {},
   "source": [
    "---\n",
    "**Ejercicio 8.** Demuestra las propiedades de abajo.\n",
    "\n",
    "1. Para cualquier número difuso $u$ y cualquier $a,b\\in \\mathbb{R}$, con $a\\cdot b\\geq 0$, se cumple $(a+b)\\cdot u=(a\\cdot u)+(b\\cdot u)$.\n",
    "2. Para cualquier $\\lambda\\in\\mathbb{R}$ y cualesquiera números difusos $u,v$, se cumple $\\lambda\\cdot (u+v)=\\lambda\\cdot u+\\lambda\\cdot v$.\n",
    "3. Para cualquier $\\lambda,\\mu\\in\\mathbb{R}$ y cualquier número difuso $u$, se cumple $(\\lambda\\cdot \\mu)\\cdot u=\\lambda\\cdot (\\mu\\cdot u)$."
   ]
  },
  {
   "cell_type": "markdown",
   "metadata": {},
   "source": []
  },
  {
   "cell_type": "markdown",
   "metadata": {},
   "source": [
    "---\n",
    "**Ejercicio 9.** Calcula el producto entre el número trapezoidal $u=\\text{trfn}(2, 5, 6, 8)$ y el número triangular $v=\\text{tfn}(1, 4, 5)$.\n",
    "\n",
    "1. Escribe la función de membresía o el intérvalo del corte alfa de $u\\cdot v$.\n",
    "2. Dibuja $u, v$ y su producto $u\\cdot v$ en una misma gráfica."
   ]
  },
  {
   "cell_type": "markdown",
   "metadata": {},
   "source": []
  },
  {
   "cell_type": "markdown",
   "metadata": {},
   "source": [
    "---\n",
    "**Ejercicio 10.** Escribe una expresión para los cortes alfa del producto de dos números difusos triangulares $u=\\text{tfn}(a_1,b_1,c_1)$ y $v=\\text{tfn}(a_2,b_2,c_2)$. Escribe la familia de cortes alfa en forma intervalar de $u\\cdot v$."
   ]
  },
  {
   "cell_type": "markdown",
   "metadata": {},
   "source": []
  }
 ],
 "metadata": {
  "kernelspec": {
   "display_name": "SageMath 9.5",
   "language": "sage",
   "name": "sagemath"
  },
  "language_info": {
   "codemirror_mode": {
    "name": "ipython",
    "version": 3
   },
   "file_extension": ".py",
   "mimetype": "text/x-python",
   "name": "python",
   "nbconvert_exporter": "python",
   "pygments_lexer": "ipython3",
   "version": "3.10.4"
  }
 },
 "nbformat": 4,
 "nbformat_minor": 4
}
