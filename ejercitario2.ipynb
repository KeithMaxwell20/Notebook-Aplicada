{
 "cells": [
  {
   "cell_type": "markdown",
   "metadata": {},
   "source": [
    "# __Ejercitario 2__: Números Difusos y su Aritmética\n",
    "\n",
    "Responde a las preguntas de abajo utilizando este mismo notebook. Recuerda de seguir las instrucciones de envío que están en la plataforma Educa."
   ]
  },
  {
   "cell_type": "markdown",
   "metadata": {},
   "source": [
    "---\n",
    "**Ejercicio 1.** Escribe una expresión para la función de membresía y los cortes alfa en forma intervalar para un número difuso triangular $\\text{tfn}(\\bar x,e_1,e_2)$. Utiliza este resultado para:\n",
    "\n",
    "1. Calcular los cortes alfa en forma intervalar del número $\\text{tfn}(2,4,5)$.\n",
    "2. Calcular la función de membresía del número $\\text{tfn}(2,4,5)$.\n",
    "3. Presenta un dibujo de $\\text{tfn}(2,4,5)$."
   ]
  },
  {
   "cell_type": "markdown",
   "metadata": {},
   "source": [
    "**Solución:**\n",
    "\n",
    "**En primer lugar**, escribimos la función de membresía para un número difuso triangular:\n",
    "\n",
    "$$A(x)=\\left\\{ \\begin{array}{ll}\n",
    "0             & \\text{ si } x\\leq\\bar x-e_1\\\\\n",
    "1+\\frac{x-\\bar x}{e_1} & \\text{ si } \\bar x-e_1 < x < \\bar x\\\\\n",
    "1-\\frac{x- \\bar x}{e_2}& \\text{ si } \\bar x \\leq x < \\bar x + e_2\\\\\n",
    "0             & \\text{ si } x \\ge \\bar x + e_2,\n",
    "\\end{array}\\right.\n",
    "$$"
   ]
  },
  {
   "cell_type": "markdown",
   "metadata": {},
   "source": [
    "**En segundo lugar**, hallamos los cortes $\\alpha$:\n",
    "\n",
    "Para un número difuso triangular podemos hallar estos cortes con la ecuación punto-pendiente:\n",
    "    $$y-y_1 = m_1(x-x_1)$$\n",
    "    $$y-y_2 = m_2(x-x_2)$$\n",
    "    \n",
    "Donde cada $m_1$ y $m_2$ son las pendientes de las rectas izquierda y derecha, respectivamente.\n",
    "    \n",
    "Los cortes alfa corresponden a los valores surgidos de despejar las 2 rectas en función a x:\n",
    "\n",
    "$$ ^{\\alpha}A = [\\frac{y-y_1}{m_1}+x_1,\\frac{y-y_2}{m_2}+x_2]$$\n"
   ]
  },
  {
   "cell_type": "markdown",
   "metadata": {},
   "source": [
    "**Item 1.** Calcular los cortes alfa en forma intervalar del número $\\text{tfn}(2,4,5)$."
   ]
  },
  {
   "cell_type": "code",
   "execution_count": 7,
   "metadata": {},
   "outputs": [],
   "source": [
    "x,y = SR.var('x,y') # Definimos que x e y son variables\n",
    "ec_izquierda = y-1==(1-0)*(x-2)/(2+2) # Ecuación de la izquierda\n",
    "ec_izquierda = solve(ec_izquierda, x) # Despejar y\n",
    "ec_derecha = y-1==(0-1)*(x-2)/(7-2) # Ecuación de la derecha\n",
    "ec_derecha = solve(ec_derecha, x) # Despejar y\n"
   ]
  },
  {
   "cell_type": "markdown",
   "metadata": {},
   "source": [
    "El corte $\\alpha$ izquierdo está dado por la siguiente ecuación:"
   ]
  },
  {
   "cell_type": "code",
   "execution_count": 8,
   "metadata": {},
   "outputs": [
    {
     "data": {
      "text/plain": [
       "x == 4*y - 2"
      ]
     },
     "execution_count": 8,
     "metadata": {},
     "output_type": "execute_result"
    }
   ],
   "source": [
    "ec_izquierda[0]"
   ]
  },
  {
   "cell_type": "markdown",
   "metadata": {},
   "source": [
    "El corte $\\alpha$ derecho está dado por la siguiente ecuación:"
   ]
  },
  {
   "cell_type": "code",
   "execution_count": 9,
   "metadata": {},
   "outputs": [
    {
     "data": {
      "text/plain": [
       "x == -5*y + 7"
      ]
     },
     "execution_count": 9,
     "metadata": {},
     "output_type": "execute_result"
    }
   ],
   "source": [
    "ec_derecha[0]"
   ]
  },
  {
   "cell_type": "markdown",
   "metadata": {},
   "source": [
    "En resumen, tenemos que $$ ^{\\alpha}A = [4 \\alpha -2, -5\\alpha +7]$$"
   ]
  },
  {
   "cell_type": "markdown",
   "metadata": {},
   "source": [
    "Se puede verificar el resultado hallando el núcleo y el soporte.\n",
    "\n",
    "Para $\\alpha = 1$ tenemos:"
   ]
  },
  {
   "cell_type": "code",
   "execution_count": 10,
   "metadata": {},
   "outputs": [
    {
     "data": {
      "text/plain": [
       "x == 2"
      ]
     },
     "execution_count": 10,
     "metadata": {},
     "output_type": "execute_result"
    }
   ],
   "source": [
    "ec_izquierda[0].subs(y=1)"
   ]
  },
  {
   "cell_type": "code",
   "execution_count": 11,
   "metadata": {},
   "outputs": [
    {
     "data": {
      "text/plain": [
       "x == 2"
      ]
     },
     "execution_count": 11,
     "metadata": {},
     "output_type": "execute_result"
    }
   ],
   "source": [
    "ec_derecha[0].subs(y=1)"
   ]
  },
  {
   "cell_type": "markdown",
   "metadata": {},
   "source": [
    "Este resultado coincide con el núcleo de $A$. Si hacemos $\\alpha=0$ tenemos:"
   ]
  },
  {
   "cell_type": "code",
   "execution_count": 12,
   "metadata": {},
   "outputs": [
    {
     "data": {
      "text/plain": [
       "x == -2"
      ]
     },
     "execution_count": 12,
     "metadata": {},
     "output_type": "execute_result"
    }
   ],
   "source": [
    "ec_izquierda[0].subs(y=0)"
   ]
  },
  {
   "cell_type": "code",
   "execution_count": 13,
   "metadata": {},
   "outputs": [
    {
     "data": {
      "text/plain": [
       "x == 7"
      ]
     },
     "execution_count": 13,
     "metadata": {},
     "output_type": "execute_result"
    }
   ],
   "source": [
    "ec_derecha[0].subs(y=0)"
   ]
  },
  {
   "cell_type": "markdown",
   "metadata": {},
   "source": [
    "Es resultado coincide con el soporte de **A**"
   ]
  },
  {
   "cell_type": "markdown",
   "metadata": {},
   "source": [
    "**Item 2.** Calcular la función de membresía del número $\\text{tfn}(2,4,5)$."
   ]
  },
  {
   "cell_type": "markdown",
   "metadata": {},
   "source": [
    "\n",
    "$$A(x)=\\left\\{ \\begin{array}{ll}\n",
    "0             & \\text{ si } x\\leq -2\\\\\n",
    "1+\\frac{x-2}{4} & \\text{ si } -2 < x < 2\\\\\n",
    "1-\\frac{x-2}{5}& \\text{ si } 2 \\leq x < 7\\\\\n",
    "0             & \\text{ si } x \\ge 7,\n",
    "\\end{array}\\right.\n",
    "$$"
   ]
  },
  {
   "cell_type": "markdown",
   "metadata": {},
   "source": [
    "**Item 3.** Presenta un dibujo de $\\text{tfn}(2,4,5)$."
   ]
  },
  {
   "cell_type": "code",
   "execution_count": 17,
   "metadata": {},
   "outputs": [
    {
     "data": {
      "image/png": "[encoded data removed]",
      "text/plain": [
       "Graphics object consisting of 4 graphics primitives"
      ]
     },
     "execution_count": 17,
     "metadata": {},
     "output_type": "execute_result"
    }
   ],
   "source": [
    "# Funciones de A(x) que no son iguales a 0\n",
    "f1(x)=1+(x-2)/4 \n",
    "f2(x)=1-(x-2)/5 \n",
    "\n",
    "plot(0, (x, -5, -2))+plot(f1, (x, -2, 2)) + plot(f2, (x, 2, 7)) + plot(0, (x, 7, 10))"
   ]
  },
  {
   "cell_type": "markdown",
   "metadata": {},
   "source": [
    "---\n",
    "**Ejercicio 2.** Dado el número difuso exponencial $A=\\text{efn}(2,0.5,1,0.4)$.\n",
    "\n",
    "1. Escribe su función de membresía.\n",
    "2. Encuentra una expresión intervalar para los cortes alfa.\n",
    "3. Encuentra una expresión intervalar para los cortes alfa de $A^2$.\n",
    "4. Dibuja $A$ y $A^2$ en una misma gráfica para compararlos."
   ]
  },
  {
   "cell_type": "markdown",
   "metadata": {},
   "source": [
    "**Solución:**"
   ]
  },
  {
   "cell_type": "markdown",
   "metadata": {},
   "source": [
    "**Item 1.** Escribe su función de membresía."
   ]
  },
  {
   "cell_type": "markdown",
   "metadata": {},
   "source": [
    "Forma General: $\\text{efn}(\\bar x,\\tau_1,\\tau_2,a)$\n",
    "\n",
    "Forma particular: $A=\\text{efn}(2,0.5,1,0.4)$ "
   ]
  },
  {
   "cell_type": "markdown",
   "metadata": {},
   "source": [
    "\n",
    "$$A(x)=\\left\\{ \\begin{array}{ll}\n",
    "0             & \\text{ si } x < 1.8\\\\\\\n",
    "e^{\\frac{x-2}{0.5}} & \\text{ si } 1.8 \\leq x < 2 \\\\\n",
    "e^{2-x} & \\text{ si } 2 \\leq x < 2.4\\\\\n",
    "0             & \\text{ si } x \\ge 2.4,\n",
    "\\end{array}\\right.\n",
    "$$"
   ]
  },
  {
   "cell_type": "markdown",
   "metadata": {},
   "source": [
    "**Item 2.** Encuentra una expresión intervalar para los cortes alfa."
   ]
  },
  {
   "cell_type": "code",
   "execution_count": 2,
   "metadata": {},
   "outputs": [],
   "source": [
    "x,y=SR.var('x,y')\n",
    "ec_izquierda = y==exp((x-2)/0.5) # Exp es el número de Euler\n",
    "ec_izquierda = solve(ec_izquierda, x)\n",
    "ec_derecha = y == exp(2-x)\n",
    "ec_derecha =  solve(ec_derecha, x)\n"
   ]
  },
  {
   "cell_type": "markdown",
   "metadata": {},
   "source": [
    "Hallamos el intervalo de cortes $\\alpha$"
   ]
  },
  {
   "cell_type": "code",
   "execution_count": 3,
   "metadata": {},
   "outputs": [
    {
     "data": {
      "text/plain": [
       "[1/2*log(y) + 2, -log(y) + 2]"
      ]
     },
     "execution_count": 3,
     "metadata": {},
     "output_type": "execute_result"
    }
   ],
   "source": [
    "[ec_izquierda[0].rhs(), ec_derecha[0].rhs()]"
   ]
  },
  {
   "cell_type": "markdown",
   "metadata": {},
   "source": [
    "En resumen, tenemos que $$ ^{\\alpha}A = [\\frac{1}{2}log(\\alpha)+2, -log(\\alpha)+2]$$"
   ]
  },
  {
   "cell_type": "markdown",
   "metadata": {},
   "source": [
    "Verificamos su correctitud"
   ]
  },
  {
   "cell_type": "code",
   "execution_count": 91,
   "metadata": {},
   "outputs": [
    {
     "data": {
      "text/plain": [
       "[x == 2, x == 2]"
      ]
     },
     "execution_count": 91,
     "metadata": {},
     "output_type": "execute_result"
    }
   ],
   "source": [
    "[ec_izquierda[0].subs(y=1), ec_derecha[0].subs(y=1)]"
   ]
  },
  {
   "cell_type": "markdown",
   "metadata": {},
   "source": [
    "Coincide con el valor del núcleo de $A$"
   ]
  },
  {
   "cell_type": "code",
   "execution_count": 5,
   "metadata": {},
   "outputs": [
    {
     "data": {
      "text/plain": [
       "[x == 1.80347870594520, x == 2.39304258810961]"
      ]
     },
     "execution_count": 5,
     "metadata": {},
     "output_type": "execute_result"
    }
   ],
   "source": [
    "[ec_izquierda[0].subs(y=0.675), ec_derecha[0].subs(y=0.675)]"
   ]
  },
  {
   "cell_type": "markdown",
   "metadata": {},
   "source": [
    "El soporte es correcto, porque el mínimo valor de pertenencia aproximado ronda el valor de y=0.675"
   ]
  },
  {
   "cell_type": "markdown",
   "metadata": {},
   "source": [
    "**Item 3.** Encuentra una expresión intervalar para los cortes alfa de $A^2$."
   ]
  },
  {
   "cell_type": "markdown",
   "metadata": {},
   "source": [
    "Para obtener los cortes $\\alpha$ de $A^{2}$ usaremos la siguiente propiedad:\n",
    "$^{\\alpha}(A*B)=(^{\\alpha}A)*(^{\\alpha}B)$\n",
    "\n",
    "En este caso particular:\n",
    "$^{\\alpha}(A*A)=(^{\\alpha}A)*(^{\\alpha}A)$\n",
    "\n",
    "Por tanto \n",
    "$^{\\alpha}(A*A)=[(min(a_{1}(\\alpha)*a_{1}(\\alpha), a_{1}(\\alpha)*a_{2}(\\alpha)), a_{2}(\\alpha)*a_{2}(\\alpha)), (max(a_{1}(\\alpha)*a_{1}(\\alpha), a_{1}(\\alpha)*a_{2}(\\alpha)), a_{2}(\\alpha)*a_{2}(\\alpha))]$\n"
   ]
  },
  {
   "cell_type": "markdown",
   "metadata": {},
   "source": [
    "Entonces el corte $\\alpha$ se halla dado por:\n",
    "\n",
    "$$^{\\alpha}A^2 = [min((\\frac{1}{2}log(\\alpha)+2)^2, (-log(\\alpha)+2)^2, (-log(\\alpha)+2)*\\frac{1}{2}log(\\alpha)+2) ),max ((\\frac{1}{2}log(\\alpha)+2)^2, (-log(\\alpha)+2)^2, (-log(\\alpha)+2)*\\frac{1}{2}log(\\alpha)+2) ]$$"
   ]
  },
  {
   "cell_type": "markdown",
   "metadata": {},
   "source": [
    "**Item 4**. Dibuja $A$ y $A^2$ en una misma gráfica para compararlos."
   ]
  },
  {
   "cell_type": "code",
   "execution_count": 35,
   "metadata": {},
   "outputs": [],
   "source": [
    "x,y=SR.var('x,y') # Despejamos el valor de A\n",
    "ec_izquierda_A = y==exp((x-2)/0.5) \n",
    "ec_izquierda_A = solve(ec_izquierda_A, y) #Despejamos en función a x para verificar correctitud\n",
    "ec_derecha_A = y == exp(2-x)\n",
    "ec_derecha_A =  solve(ec_derecha_A, y)"
   ]
  },
  {
   "cell_type": "code",
   "execution_count": 73,
   "metadata": {},
   "outputs": [],
   "source": [
    "#Despejamos los valores para graficar A^2\n",
    "\n",
    "a1=(1/2)*ln(y)+2; a2=-ln(y)+2\n",
    "c1(y)= min_symbolic(a1*a1, a1*a2, a2*a1, a2*a2)\n",
    "#c1(y) = solve(c1(y), x)\n",
    "c2(y)= max_symbolic(a1*a1, a1*a2, a2*a1, a2*a2)\n",
    "#c2(y) = solve(c2(y), x)"
   ]
  },
  {
   "cell_type": "code",
   "execution_count": 74,
   "metadata": {},
   "outputs": [
    {
     "data": {
      "text/plain": [
       "[y == e^(2*x - 4)]"
      ]
     },
     "execution_count": 74,
     "metadata": {},
     "output_type": "execute_result"
    }
   ],
   "source": [
    "ec_izquierda_A"
   ]
  },
  {
   "cell_type": "code",
   "execution_count": 75,
   "metadata": {},
   "outputs": [
    {
     "data": {
      "text/plain": [
       "[y == e^(-x + 2)]"
      ]
     },
     "execution_count": 75,
     "metadata": {},
     "output_type": "execute_result"
    }
   ],
   "source": [
    "ec_derecha_A"
   ]
  },
  {
   "cell_type": "code",
   "execution_count": 76,
   "metadata": {},
   "outputs": [
    {
     "data": {
      "text/plain": [
       "min(1/4*(log(y) + 4)^2, -1/2*(log(y) + 4)*(log(y) - 2), -1/2*(log(y) + 4)*(log(y) - 2), (log(y) - 2)^2)"
      ]
     },
     "execution_count": 76,
     "metadata": {},
     "output_type": "execute_result"
    }
   ],
   "source": [
    "c1(y)"
   ]
  },
  {
   "cell_type": "code",
   "execution_count": 77,
   "metadata": {},
   "outputs": [
    {
     "data": {
      "text/plain": [
       "max(1/4*(log(y) + 4)^2, -1/2*(log(y) + 4)*(log(y) - 2), -1/2*(log(y) + 4)*(log(y) - 2), (log(y) - 2)^2)"
      ]
     },
     "execution_count": 77,
     "metadata": {},
     "output_type": "execute_result"
    }
   ],
   "source": [
    "c2(y)"
   ]
  },
  {
   "cell_type": "code",
   "execution_count": 79,
   "metadata": {},
   "outputs": [
    {
     "data": {
      "image/png": "[encoded data removed]",
      "text/plain": [
       "Graphics object consisting of 4 graphics primitives"
      ]
     },
     "execution_count": 79,
     "metadata": {},
     "output_type": "execute_result"
    }
   ],
   "source": [
    "# Usamos estos valores para graficar\n",
    "list_plot([(c1(y),y) for y in [0.67,1]], color='green', legend_label='A^2', plotjoined=True)+list_plot([(c2(y),y) for y in [0.67,1]], color='green', plotjoined=True)+plot(e**(2*x-4),1.8,2,color='red',legend_label='A')+plot(e**(-x+2),2,2.4, color='red')\n"
   ]
  },
  {
   "cell_type": "markdown",
   "metadata": {},
   "source": [
    "---\n",
    "**Ejercicio 3.** Escribe una expresión para la función de membresía y los cortes alfa para un número difuso cuadrático $\\text{qfn}(\\bar x,\\beta_l,\\beta_r)$ en forma general. Utiliza este resultado para:\n",
    "\n",
    "1. Calcular los cortes alfa en forma intervalar del número $\\text{qfn}(\\bar x,\\beta_l,\\beta_r)$.\n",
    "2. Calcular la función de membresía del número $\\text{qfn}(\\bar x,\\beta_l,\\beta_r)$.\n",
    "3. Presenta un dibujo de $\\text{qfn}(1,-5,2)$."
   ]
  },
  {
   "cell_type": "markdown",
   "metadata": {},
   "source": [
    "**Item 1.** Calcular los cortes alfa en forma intervalar del número $\\text{qfn}(\\bar x,\\beta_l,\\beta_r)$.\n"
   ]
  },
  {
   "cell_type": "markdown",
   "metadata": {},
   "source": [
    "Escribimos los cortes $\\alpha$ para un número difuso cuadrático:\n",
    "\n",
    "Para obtener esos valores, vamos a despejar el valor y de las ecuaciones izquierda y derecha:\n",
    "\n",
    "$y = 1-\\frac{(x-\\bar x)^2}{\\beta_l^2}$ (ec. izquierda)\n",
    "\n",
    "$y = 1-\\frac{(x-\\bar x)^2}{\\beta_r^2}$ (ec. derecha)\n",
    "\n",
    "Al completar el despeje, tenemos:\n",
    "\n",
    "$x = \\bar x + \\sqrt{(1-y)*\\beta_l^2}$ (ec. izquierda)\n",
    "\n",
    "$x = \\bar x + \\sqrt{(1-y)*\\beta_r^2}$ (ec. derecha)\n",
    "\n",
    "Por tanto, el corte $\\alpha$ está dado por:\n",
    "\n",
    "$$ ^{\\alpha}A = [\\bar x + \\sqrt{(1-\\alpha)*\\beta_l^2},\\bar x + \\sqrt{(1-\\alpha)*\\beta_r^2} ]$$\n",
    "\n"
   ]
  },
  {
   "cell_type": "markdown",
   "metadata": {},
   "source": [
    "**Item 2.** Calcular la función de membresía del número $\\text{qfn}(\\bar x,\\beta_l,\\beta_r)$."
   ]
  },
  {
   "cell_type": "markdown",
   "metadata": {},
   "source": [
    "Escribimos la expresión para la función de membresía de un número difuso cuadrático:\n",
    "$$A(x)=\\left\\{ \\begin{array}{ll}\n",
    "0             & \\text{ si } x\\leq\\bar x-\\beta_l\\\\\n",
    "1-\\frac{(x-\\bar x)^2}{\\beta_l^2} & \\text{ si } \\bar x-\\beta_l < x < \\bar x\\\\\n",
    "1-\\frac{(x-\\bar x)^2}{\\beta_r^2}& \\text{ si } \\bar x \\leq x < \\bar x + \\beta_r\\\\\n",
    "0             & \\text{ si } x \\ge \\bar x + \\beta_r,\n",
    "\\end{array}\\right.\n",
    "$$"
   ]
  },
  {
   "cell_type": "markdown",
   "metadata": {},
   "source": [
    "\n",
    "**Item 3.** Presenta un dibujo de $\\text{qfn}(1,-5,2)$."
   ]
  },
  {
   "cell_type": "markdown",
   "metadata": {},
   "source": [
    "Igualamos la expresión general de un número cuadrático difuso con la expresión particular del problema:\n",
    "\n",
    "$\\text{qfn}(\\bar x, \\beta_l, \\beta_r) = \\text{qfn}(1,-5,2) $\n",
    "\n"
   ]
  },
  {
   "cell_type": "code",
   "execution_count": 73,
   "metadata": {},
   "outputs": [
    {
     "data": {
      "image/png": "[encoded data removed]",
      "text/plain": [
       "Graphics object consisting of 2 graphics primitives"
      ]
     },
     "execution_count": 73,
     "metadata": {},
     "output_type": "execute_result"
    }
   ],
   "source": [
    "# Funciones de A(x) que no son iguales a 0\n",
    "f1(x)=1-((x-1)**2)/(-5)**2\n",
    "f2(x)=1-((x-1)**2)/(2)**2\n",
    "\n",
    "plot(f1, (x, -4, 1), legend_label='A') + plot(f2, (x, 1, 3), legend_label='A')"
   ]
  },
  {
   "cell_type": "markdown",
   "metadata": {},
   "source": []
  },
  {
   "cell_type": "markdown",
   "metadata": {},
   "source": [
    "---\n",
    "**Ejercicio 4.** Para este ejercicio lee la definición de un número difuso L-R (Def.4.12, p.59) en el libro de texto de Bede (2013). Considera el número L-R dado por $L(x)=R(x)=x^2$. Sean $a_1^-=a_1^+=1$ y $\\underline{a}=1$, $\\overline{a}=2$, respectivamente.\n",
    "\n",
    "1. Escribe la función de membresía del número.\n",
    "2. Demuestra que sus cortes alfa están dados por $A_\\alpha=[\\sqrt r,3-2\\sqrt r]$.\n",
    "3. Grafica el número."
   ]
  },
  {
   "cell_type": "markdown",
   "metadata": {},
   "source": [
    "**Item 1.** Escribe la función de membresía del número.\n"
   ]
  },
  {
   "cell_type": "markdown",
   "metadata": {},
   "source": [
    "En primer lugar, calculamos los valores de $a_0^-$ y $a_0^+$\n",
    "\n",
    "Tenemos que $\\underline{a}=1$, por tanto:\n",
    "\n",
    "$\\underline{a}=a_1^- - a_0^- \\rightarrow 1=1 - a_0^- \\rightarrow a_0^- = 0$ \n",
    "\n",
    "Además tenemos que $\\overline{a}=2$, por lo que:\n",
    "\n",
    "$\\overline{a}=a_0^+ - a_1^+ \\rightarrow 2 = a_0^+ - 1 \\rightarrow a_0^+ = 3 $\n"
   ]
  },
  {
   "cell_type": "markdown",
   "metadata": {},
   "source": [
    "Con esta información, escribimos la función de membresía:\n",
    "\n",
    "$$A(x)=\\left\\{ \\begin{array}{ll}\n",
    "0             & \\text{ si } x < 0\\\\\n",
    "x^2 & \\text{ si } 0 \\leq x < 1\\\\\n",
    "(\\frac{3-x}{2})^2 & \\text{ si } 1 \\leq x < 3\\\\\n",
    "0             & \\text{ si } x \\ge 3,\n",
    "\\end{array}\\right.\n",
    "$$"
   ]
  },
  {
   "cell_type": "markdown",
   "metadata": {},
   "source": [
    "**Item 2.** Demuestra que sus cortes alfa están dados por $A_\\alpha=[\\sqrt r,3-2\\sqrt r]$."
   ]
  },
  {
   "cell_type": "markdown",
   "metadata": {},
   "source": [
    "Procedemos a hallar sus cortes $\\alpha$:"
   ]
  },
  {
   "cell_type": "code",
   "execution_count": 2,
   "metadata": {},
   "outputs": [],
   "source": [
    "# Hallamos el corte del lado izquierdo\n",
    "x,y=SR.var('x,y')\n",
    "ec_izquierda = y==x^2\n",
    "ec_izquierda = solve(ec_izquierda, x)\n",
    "ec_derecha = y==((3-x)/2)**2\n",
    "ec_derecha = solve(ec_derecha, x)"
   ]
  },
  {
   "cell_type": "code",
   "execution_count": 3,
   "metadata": {},
   "outputs": [
    {
     "data": {
      "text/plain": [
       "[x == -sqrt(y), x == sqrt(y)]"
      ]
     },
     "execution_count": 3,
     "metadata": {},
     "output_type": "execute_result"
    }
   ],
   "source": [
    "ec_izquierda"
   ]
  },
  {
   "cell_type": "code",
   "execution_count": 4,
   "metadata": {},
   "outputs": [
    {
     "data": {
      "text/plain": [
       "[x == -2*sqrt(y) + 3, x == 2*sqrt(y) + 3]"
      ]
     },
     "execution_count": 4,
     "metadata": {},
     "output_type": "execute_result"
    }
   ],
   "source": [
    "ec_derecha"
   ]
  },
  {
   "cell_type": "markdown",
   "metadata": {},
   "source": [
    "Por tanto, tenemos que sus cortes $\\alpha$ están dados por:\n",
    "$$ ^{\\alpha}A = [\\sqrt{\\alpha}, -2\\sqrt{\\alpha} + 3]$$"
   ]
  },
  {
   "cell_type": "markdown",
   "metadata": {},
   "source": [
    "**Item 3.** Grafica el número."
   ]
  },
  {
   "cell_type": "code",
   "execution_count": 6,
   "metadata": {},
   "outputs": [
    {
     "data": {
      "image/png": "[encoded data removed]",
      "text/plain": [
       "Graphics object consisting of 2 graphics primitives"
      ]
     },
     "execution_count": 6,
     "metadata": {},
     "output_type": "execute_result"
    }
   ],
   "source": [
    "# Funciones de A(x) que no son iguales a 0\n",
    "f1(x)=x**2\n",
    "f2(x)=((3-x)/2)**2\n",
    "\n",
    "plot(f1, (x, 0, 1), legend_label='lado izquierdo') + plot(f2, (x, 1, 3), legend_label='lado derecho')"
   ]
  },
  {
   "cell_type": "markdown",
   "metadata": {},
   "source": [
    "---\n",
    "**Ejercicio 5.** Para este ejercicio lee la definición de número difuso L-R (Def.4.12, p.59) en el libro de texto de Bede (2013). Demostrar que si $u$ es un número difuso L-R, entonces sus cortes alfa están dados por $u_\\alpha=[a_0^-+L^{-1}(\\alpha)\\underline{a}, a_0^+-R^{-1}(\\alpha)\\overline a]$."
   ]
  },
  {
   "cell_type": "markdown",
   "metadata": {},
   "source": [
    "**Escribimos su función de membresía**, ya que con su ayuda encontraremos los cortes $\\alpha$\n",
    "\n",
    "$$A(x)=\\left\\{ \\begin{array}{ll}\n",
    "0             & \\text{ si } x < 0\\\\\n",
    "L(\\frac{x-a_0^-}{a_1^- - a_0^-}) & \\text{ si } a_0^- \\leq x < a_1^-\\\\\n",
    "1 & \\text{ si } a_1^- \\leq x < a_1^+ \\\\\n",
    "R(\\frac{a_0^+ - x}{a_0^+ - a_1^+}) & \\text{ si } a_1^+ \\leq x < a_0^+\\\\\n",
    "0             & \\text{ si } x \\ge a_0^+,\n",
    "\\end{array}\\right.\n",
    "$$\n"
   ]
  },
  {
   "cell_type": "markdown",
   "metadata": {},
   "source": [
    "**En primer lugar** tomamos la función de la izquierda $y=L(\\frac{x-a_0^-}{a_1^- - a_0^-})$ y procedemos a despejar en función a x:\n",
    "\n",
    "$y=L(\\frac{x-a_0^-}{a_1^- - a_0^-}) \\rightarrow L^{-1}(y) = \\frac{x-a_0^-}{a_1^- - a_0^-} \\rightarrow L^{-1}(y)*(a_1^- - a_0^-) = x-a_0^-$\n",
    "\n",
    "$\\rightarrow L^{-1}(y)*(a_1^- - a_0^-) + a_0^- = x \\rightarrow a_0^-+L^{-1}(y)\\underline{a} = x \\rightarrow a_0^-+L^{-1}(\\alpha)\\underline{a} = x$"
   ]
  },
  {
   "cell_type": "markdown",
   "metadata": {},
   "source": [
    "Con esto queda demostrado el corte $\\alpha$ de la izquierda. \n",
    "\n",
    "**En segundo lugar** tomamos la función $y = R(\\frac{a_0^+ - x}{a_0^+ - a_1^+})$ y despejamos en función a x:\n",
    "\n",
    "$ y = R(\\frac{a_0^+ - x}{a_0^+ - a_1^+}) \\rightarrow R^{-1}(y) = \\frac{a_0^+ - x}{a_0^+ - a_1^+} \\rightarrow R^{-1}(y)(a_0^+ - a_1^+) = a_0^+ - x$\n",
    "\n",
    "$ \\rightarrow x= a_0^+ - R^{-1}(y)(a_0^+ - a_1^+) \\rightarrow x=a_0^+-R^{-1}(y)\\overline a \\rightarrow x=a_0^+-R^{-1}(\\alpha)\\overline a $\n"
   ]
  },
  {
   "cell_type": "markdown",
   "metadata": {},
   "source": [
    "Con esto queda demostrado el corte $\\alpha$ de la derecha"
   ]
  },
  {
   "cell_type": "markdown",
   "metadata": {},
   "source": [
    "**Por tanto**, hemos demostrado que se cumple que $u_\\alpha=[a_0^-+L^{-1}(\\alpha)\\underline{a}, a_0^+-R^{-1}(\\alpha)\\overline a]$"
   ]
  },
  {
   "cell_type": "markdown",
   "metadata": {},
   "source": [
    "---\n",
    "**Ejercicio 6.** Sea $L(x)=R(x)=x^a$, con $a>0$. Escribe la función de membresía y los cortes alfa en forma intervalar de los números L-R basados en estas funciones."
   ]
  },
  {
   "cell_type": "markdown",
   "metadata": {},
   "source": [
    "**En primer lugar**, escribimos su función de membresía:\n",
    "\n",
    "$$A(x)=\\left\\{ \\begin{array}{ll}\n",
    "0             & \\text{ si } x < 0\\\\\n",
    "(\\frac{x-a_0^-}{a_1^- - a_0^-})^{a} & \\text{ si } a_0^- \\leq x < a_1^-\\\\\n",
    "1 & \\text{ si } a_1^- \\leq x < a_1^+ \\\\\n",
    "(\\frac{a_0^+ - x}{a_0^+ - a_1^+})^{a}& \\text{ si } a_1^+ \\leq x < a_0^+\\\\\n",
    "0             & \\text{ si } x \\ge a_0^+,\n",
    "\\end{array}\\right.\n",
    "$$\n",
    "\n",
    "**En segundo lugar**, escribimos sus cortes $\\alpha$:\n",
    "\n",
    "Tomamos la ecuación de la izquierda $ y = (\\frac{x-a_0^-}{a_1^- - a_0^-})^{a}$ y despejamos el valor de x\n",
    "\n",
    "$ y = (\\frac{x-a_0^-}{a_1^- - a_0^-})^{a} \\rightarrow \\sqrt[a]{y} = \\frac{x-a_0^-}{a_1^- - a_0^-} \\rightarrow \\sqrt[a]{y}(a_1^- - a_0^-) = x-a_0^-$\n",
    "\n",
    "$\\rightarrow x = \\sqrt[a]{y}(a_1^- - a_0^-) + a_0^- \\rightarrow x = \\underline{a}\\sqrt[a]{y} + a_0^- \\rightarrow x = \\underline{a}\\sqrt[a]{\\alpha} + a_0^-$\n"
   ]
  },
  {
   "cell_type": "markdown",
   "metadata": {},
   "source": [
    "Con esto hallamos el corte $\\alpha$ de la izquierda"
   ]
  },
  {
   "cell_type": "markdown",
   "metadata": {},
   "source": [
    "Tomamos la ecuación de la derecha $y = (\\frac{a_0^+ - x}{a_0^+ - a_1^+})^{a}$ y despejamos el valor de x\n",
    "\n",
    "$y = (\\frac{a_0^+ - x}{a_0^+ - a_1^+})^{a} \\rightarrow \\sqrt[a]{y} = \\frac{a_0^+ - x}{a_0^+ - a_1^+} \\rightarrow \\sqrt[a]{y}(a_0^+ - a_1^+) = a_0^+ - x$\n",
    "\n",
    "$\\rightarrow x = a_0^+ - \\sqrt[a]{y}(a_0^+ - a_1^+) \\rightarrow x = a_0^+ - \\overline a\\sqrt[a]{y} \\rightarrow x = a_0^+ - \\overline a\\sqrt[a]{\\alpha}$"
   ]
  },
  {
   "cell_type": "markdown",
   "metadata": {},
   "source": [
    "Con esto hallamos el corte $\\alpha$ de la derecha"
   ]
  },
  {
   "cell_type": "markdown",
   "metadata": {},
   "source": [
    "Por tanto, sus cortes $\\alpha$ son los siguientes:\n",
    "$$ ^{\\alpha}A = [\\underline{a}\\sqrt[a]{\\alpha} + a_0^-, a_0^+ - \\overline a\\sqrt[a]{\\alpha}]$$\n"
   ]
  },
  {
   "cell_type": "markdown",
   "metadata": {},
   "source": [
    "---\n",
    "**Ejercicio 7.** Sea $u=\\text{trfn}(2,5,6,7)$ un número difuso trapezoidal y $v=\\text{tfn}(1,4,5)$ un número difuso triangular. Dibuja $u$ y $v$ y calcula la función de membresía de:\n",
    "\n",
    "1. $u+v$.\n",
    "2. $u-v$.\n",
    "3. $-2u+v$.\n",
    "4. $u-u$.\n",
    "5. $2v-v$.\n",
    "6. Dibuja cada resultado uno encima de otro, en una misma gráfica."
   ]
  },
  {
   "cell_type": "markdown",
   "metadata": {},
   "source": [
    "**En primer lugar**, hallamos los cortes $\\alpha$ de $u, v$"
   ]
  },
  {
   "cell_type": "code",
   "execution_count": 1,
   "metadata": {},
   "outputs": [],
   "source": [
    "# Calcular cortes alfa de u \n",
    "x,y=SR.var('x,y') \n",
    "\n",
    "ec_izquierda_u= y==(x-2)/3\n",
    "ec_izquierda_u = solve(ec_izquierda_u, x)\n",
    "ec_derecha_u= y==7-x\n",
    "ec_derecha_u= solve(ec_derecha_u, x)\n"
   ]
  },
  {
   "cell_type": "code",
   "execution_count": 2,
   "metadata": {},
   "outputs": [
    {
     "data": {
      "text/plain": [
       "[x == 3*y + 2]"
      ]
     },
     "execution_count": 2,
     "metadata": {},
     "output_type": "execute_result"
    }
   ],
   "source": [
    "ec_izquierda_u"
   ]
  },
  {
   "cell_type": "code",
   "execution_count": 3,
   "metadata": {},
   "outputs": [
    {
     "data": {
      "text/plain": [
       "[x == -y + 7]"
      ]
     },
     "execution_count": 3,
     "metadata": {},
     "output_type": "execute_result"
    }
   ],
   "source": [
    "ec_derecha_u"
   ]
  },
  {
   "cell_type": "code",
   "execution_count": 23,
   "metadata": {},
   "outputs": [],
   "source": [
    "# Calcular cortes alfa de v\n",
    "ec_izquierda_v= y==1+(x-1)/4\n",
    "ec_izquierda_v = solve(ec_izquierda_v, x)\n",
    "ec_derecha_v= y==1-(x-1)/5\n",
    "ec_derecha_v= solve(ec_derecha_v, x)"
   ]
  },
  {
   "cell_type": "code",
   "execution_count": 5,
   "metadata": {},
   "outputs": [
    {
     "data": {
      "text/plain": [
       "[x == 4*y - 3]"
      ]
     },
     "execution_count": 5,
     "metadata": {},
     "output_type": "execute_result"
    }
   ],
   "source": [
    "ec_izquierda_v"
   ]
  },
  {
   "cell_type": "code",
   "execution_count": 6,
   "metadata": {},
   "outputs": [
    {
     "data": {
      "text/plain": [
       "[x == -5*y + 6]"
      ]
     },
     "execution_count": 6,
     "metadata": {},
     "output_type": "execute_result"
    }
   ],
   "source": [
    "ec_derecha_v"
   ]
  },
  {
   "cell_type": "markdown",
   "metadata": {},
   "source": [
    "Escribimos la función de membresía de $u$:\n",
    "\n",
    "$u(x)=\\left\\{ \\begin{array}{ll}\n",
    "0               & \\text{ si } x<2\\\\\n",
    "\\frac{x-2}{3}   & \\text{ si } 2\\leq x <5\\\\\n",
    "1               & \\text{ si } 5\\leq x <6\\\\\n",
    "7-x             & \\text{ si } 6\\leq x < 7\\\\\n",
    "0               & \\text{ si } x\\geq 7,\n",
    "\\end{array}\\right.$"
   ]
  },
  {
   "cell_type": "markdown",
   "metadata": {},
   "source": [
    "Hallamos los cortes $\\alpha$ de $u$ mediante sus ecuaciones:\n",
    "\n",
    "$y_1 = (x_1-2)/3$\n",
    "\n",
    "$y_2 = 7-x_2$\n",
    "\n",
    "Por tanto:\n",
    "\n",
    "$x_1=3y_1 +2$\n",
    "\n",
    "$x_2=7-y_2$"
   ]
  },
  {
   "cell_type": "markdown",
   "metadata": {},
   "source": [
    "$$^{\\alpha}u= [3\\alpha +2,7-\\alpha]$$"
   ]
  },
  {
   "cell_type": "markdown",
   "metadata": {},
   "source": [
    "Escribimos la función de membresía de $v$:\n",
    "\n",
    "$v(x)=\\left\\{ \\begin{array}{ll}\n",
    "0               & \\text{ si } x<-3\\\\\n",
    "1+\\frac{x-1}{4} & \\text{ si } -3\\leq x <1\\\\\n",
    "1-\\frac{x-1}{5} & \\text{ si } 1\\leq x <6\\\\\n",
    "0               & \\text{ si } x\\geq 6,\n",
    "\\end{array}\\right.$"
   ]
  },
  {
   "cell_type": "markdown",
   "metadata": {},
   "source": [
    "Hallamos los cortes $\\alpha$ de v mediante sus ecuaciones:"
   ]
  },
  {
   "cell_type": "markdown",
   "metadata": {},
   "source": [
    "$y_1=1+(x_1-1)/4$\n",
    "\n",
    "$y_2=1-(x_2-1)/5$"
   ]
  },
  {
   "cell_type": "markdown",
   "metadata": {},
   "source": [
    "$x_1=4(y_1-1)+1 \\rightarrow x_1 = 4y_1-3$ \n",
    "\n",
    "$x_2=5(1-y_2)+1 \\rightarrow x_2 = 6-5y_2$"
   ]
  },
  {
   "cell_type": "markdown",
   "metadata": {},
   "source": [
    "$$^{\\alpha}v= [4\\alpha -3, 6-5\\alpha]$$"
   ]
  },
  {
   "cell_type": "markdown",
   "metadata": {},
   "source": [
    "Hallamos los cortes $\\alpha$ y funciones de membresía de cada ítem:"
   ]
  },
  {
   "cell_type": "markdown",
   "metadata": {},
   "source": [
    "**Item 1**"
   ]
  },
  {
   "cell_type": "code",
   "execution_count": 7,
   "metadata": {},
   "outputs": [
    {
     "data": {
      "text/plain": [
       "[7*y - 1, -6*y + 13]"
      ]
     },
     "execution_count": 7,
     "metadata": {},
     "output_type": "execute_result"
    }
   ],
   "source": [
    "# Valor de u+v\n",
    "[ec_izquierda_u[0].rhs()+ec_izquierda_v[0].rhs(), ec_derecha_u[0].rhs()+ec_derecha_v[0].rhs()]"
   ]
  },
  {
   "cell_type": "markdown",
   "metadata": {},
   "source": [
    "1. $^{\\alpha}(u+v)=[7\\alpha-1, -6\\alpha+13]$"
   ]
  },
  {
   "cell_type": "markdown",
   "metadata": {},
   "source": [
    "Escribimos su función de membresía:\n",
    "\n",
    "$$(u+v=(x)=\\left\\{ \\begin{array}{ll}\n",
    "0                                & \\text{ si } x < -1\\\\\n",
    "\\frac{x+1}{7}   & \\text{ si } -1 \\leq x < 6\\\\\n",
    "1               & \\text{ si } 6 \\leq x < 7\\\\\n",
    "\\frac{13-x}{6}  & \\text{ si } 7 \\leq x < 13\\\\\n",
    "0               & \\text{ si } x \\geq 13,\n",
    "\\end{array}\\right.$$"
   ]
  },
  {
   "cell_type": "markdown",
   "metadata": {},
   "source": [
    "**Item 2**"
   ]
  },
  {
   "cell_type": "code",
   "execution_count": 8,
   "metadata": {},
   "outputs": [
    {
     "data": {
      "text/plain": [
       "[8*y - 4, -5*y + 10]"
      ]
     },
     "execution_count": 8,
     "metadata": {},
     "output_type": "execute_result"
    }
   ],
   "source": [
    "# Valor de u-v\n",
    "[ec_izquierda_u[0].rhs()-ec_derecha_v[0].rhs(), ec_derecha_u[0].rhs()-ec_izquierda_v[0].rhs()]\n"
   ]
  },
  {
   "cell_type": "markdown",
   "metadata": {},
   "source": [
    "2. $^{\\alpha}(u-v)=[8\\alpha-4,-5\\alpha+10 ]$"
   ]
  },
  {
   "cell_type": "markdown",
   "metadata": {},
   "source": [
    "Escribimos su función de membresía:\n",
    "\n",
    "$$(u-v)(x)=\\left\\{ \\begin{array}{ll}\n",
    "0               & \\text{ si } x<-4\\\\\n",
    "\\frac{x+4}{8}   & \\text{ si } -4\\leq x <4\\\\\n",
    "1               & \\text{ si } 4\\leq x <5\\\\\n",
    "\\frac{10-x}{5}  & \\text{ si } 5\\leq x < 10\\\\\n",
    "0               & \\text{ si } x\\geq 10,\n",
    "\\end{array}\\right.$$"
   ]
  },
  {
   "cell_type": "markdown",
   "metadata": {},
   "source": [
    "**Item 3**"
   ]
  },
  {
   "cell_type": "code",
   "execution_count": 9,
   "metadata": {},
   "outputs": [],
   "source": [
    "# Valor de -2u+v\n",
    "\n",
    "# Calculamos -2*u, donde -2=[-2, -2]\n",
    "a1=-2; a2=-2; b1=3*y+2; b2=7-y\n",
    "c1(y)=min_symbolic(a1*b1, a1*b2, a2*b1, a2*b2)\n",
    "c2(y)=max_symbolic(a1*b1, a1*b2, a2*b1, a2*b2)\n"
   ]
  },
  {
   "cell_type": "code",
   "execution_count": 10,
   "metadata": {},
   "outputs": [],
   "source": [
    "c1(y) = c1(y).full_simplify()"
   ]
  },
  {
   "cell_type": "code",
   "execution_count": 11,
   "metadata": {},
   "outputs": [],
   "source": [
    "c2(y) = c2(y).full_simplify()"
   ]
  },
  {
   "cell_type": "code",
   "execution_count": 12,
   "metadata": {},
   "outputs": [
    {
     "name": "stdout",
     "output_type": "stream",
     "text": [
      "y |--> min(2*y - 14, -6*y - 4) \n",
      " y |--> max(-6*y - 4, 2*y - 14)\n"
     ]
    }
   ],
   "source": [
    "print(c1,\"\\n\",c2)"
   ]
  },
  {
   "cell_type": "code",
   "execution_count": 38,
   "metadata": {},
   "outputs": [],
   "source": [
    "# Por tanto, -2u=[2y-14, -6y-4]\n",
    "ec_izquierda_2u = x==2*y-14\n",
    "ec_izquierda_2u = solve(ec_izquierda_2u,x)\n",
    "ec_derecha_2u = x==-6*y-4\n",
    "ec_derecha_2u = solve(ec_derecha_2u,x)\n",
    "\n",
    "ec_final_izquierda = ec_izquierda_2u[0] + ec_izquierda_v[0]\n",
    "ec_final_derecha = ec_derecha_2u[0] + ec_derecha_v[0]\n"
   ]
  },
  {
   "cell_type": "code",
   "execution_count": 39,
   "metadata": {},
   "outputs": [
    {
     "data": {
      "text/plain": [
       "6*y - 17"
      ]
     },
     "execution_count": 39,
     "metadata": {},
     "output_type": "execute_result"
    }
   ],
   "source": [
    "ec_final_izquierda.rhs()\n"
   ]
  },
  {
   "cell_type": "code",
   "execution_count": 40,
   "metadata": {},
   "outputs": [
    {
     "data": {
      "text/plain": [
       "-11*y + 2"
      ]
     },
     "execution_count": 40,
     "metadata": {},
     "output_type": "execute_result"
    }
   ],
   "source": [
    "ec_final_derecha.rhs()\n"
   ]
  },
  {
   "cell_type": "markdown",
   "metadata": {},
   "source": [
    "3. $^{\\alpha}(-2u+v)=[6\\alpha - 17,-11 \\alpha + 2]$"
   ]
  },
  {
   "cell_type": "markdown",
   "metadata": {},
   "source": [
    "Escribimos su función de membresía:\n",
    "\n",
    "\n",
    "$$(-2u+v)(x)=\\left\\{ \\begin{array}{ll}\n",
    "0               & \\text{ si } x<-17\\\\\n",
    "\\frac{x+17}{6}   & \\text{ si } -17 \\leq x < -11\\\\\n",
    "1               & \\text{ si } -11 \\leq x < -9\\\\\n",
    "\\frac{2-x}{11}  & \\text{ si } -9 \\leq x < 2\\\\\n",
    "0               & \\text{ si } x \\geq 2,\n",
    "\\end{array}\\right.$$"
   ]
  },
  {
   "cell_type": "markdown",
   "metadata": {},
   "source": [
    "**Item 4**"
   ]
  },
  {
   "cell_type": "code",
   "execution_count": 41,
   "metadata": {},
   "outputs": [],
   "source": [
    "# u-u\n",
    "ec_izquierda_uu=ec_izquierda_u[0]-ec_derecha_u[0]\n",
    "ec_derecha_uu=ec_derecha_u[0]-ec_izquierda_u[0]"
   ]
  },
  {
   "cell_type": "code",
   "execution_count": 42,
   "metadata": {},
   "outputs": [
    {
     "data": {
      "text/plain": [
       "0 == 4*y - 5"
      ]
     },
     "execution_count": 42,
     "metadata": {},
     "output_type": "execute_result"
    }
   ],
   "source": [
    "ec_izquierda_uu"
   ]
  },
  {
   "cell_type": "code",
   "execution_count": 43,
   "metadata": {},
   "outputs": [
    {
     "data": {
      "text/plain": [
       "0 == -4*y + 5"
      ]
     },
     "execution_count": 43,
     "metadata": {},
     "output_type": "execute_result"
    }
   ],
   "source": [
    "ec_derecha_uu"
   ]
  },
  {
   "cell_type": "markdown",
   "metadata": {},
   "source": [
    "4. $^{\\alpha}(u-u)=[4\\alpha-5,-4\\alpha+5]$"
   ]
  },
  {
   "cell_type": "markdown",
   "metadata": {},
   "source": [
    "Escribimos su función de membresía:\n",
    "\n",
    "$$(u-u)(x)=\\left\\{ \\begin{array}{ll}\n",
    "0               & \\text{ si } x<-5\\\\\n",
    "\\frac{x+5}{4}   & \\text{ si } -5\\leq x <-1\\\\\n",
    "1               & \\text{ si } -1\\leq x <1\\\\\n",
    "\\frac{5-x}{4}  & \\text{ si } 1\\leq x < 5\\\\\n",
    "0               & \\text{ si } x\\geq 5,\n",
    "\\end{array}\\right.$$"
   ]
  },
  {
   "cell_type": "markdown",
   "metadata": {},
   "source": [
    "**Item 5**"
   ]
  },
  {
   "cell_type": "code",
   "execution_count": 53,
   "metadata": {},
   "outputs": [
    {
     "data": {
      "text/plain": [
       "8*y - 6"
      ]
     },
     "execution_count": 53,
     "metadata": {},
     "output_type": "execute_result"
    }
   ],
   "source": [
    "# 2v - v\n",
    "\n",
    "# Teniendo que 2=[2,2]\n",
    "# Entonces v=[2a,2b], como resultado general visto en el caso anterior\n",
    "# al aplicar la regla con mínimos y máximos\n",
    "ec_izquierda_2v = x==8*y-6\n",
    "solve(ec_izquierda_2v,x)\n",
    "ec_derecha_2v = x==12-10*y\n",
    "solve(ec_derecha_2v, x)\n"
   ]
  },
  {
   "cell_type": "code",
   "execution_count": 54,
   "metadata": {},
   "outputs": [],
   "source": [
    "# Ecuación para 2v - v\n",
    "ec_final_izq = ec_izquierda_2v.rhs()-ec_derecha_v[0]\n",
    "ec_final_der = ec_derecha_2v.rhs()-ec_izquierda_v[0]\n"
   ]
  },
  {
   "cell_type": "code",
   "execution_count": 58,
   "metadata": {},
   "outputs": [
    {
     "data": {
      "text/plain": [
       "13*y - 12"
      ]
     },
     "execution_count": 58,
     "metadata": {},
     "output_type": "execute_result"
    }
   ],
   "source": [
    "ec_final_izq.rhs()\n"
   ]
  },
  {
   "cell_type": "code",
   "execution_count": 59,
   "metadata": {},
   "outputs": [
    {
     "data": {
      "text/plain": [
       "-14*y + 15"
      ]
     },
     "execution_count": 59,
     "metadata": {},
     "output_type": "execute_result"
    }
   ],
   "source": [
    "ec_final_der.rhs()\n"
   ]
  },
  {
   "cell_type": "markdown",
   "metadata": {},
   "source": [
    "5. $^{\\alpha}(2v-v)=[13\\alpha-12,-14\\alpha+15]$"
   ]
  },
  {
   "cell_type": "markdown",
   "metadata": {},
   "source": [
    "Escribimos su función de membresía:\n",
    "\n",
    "$$(2v-v)(x)=\\left\\{ \\begin{array}{ll}\n",
    "0               & \\text{ si } x<-12\\\\\n",
    "1+\\frac{x-1}{13} & \\text{ si } -12\\leq x <1\\\\\n",
    "1-\\frac{x-1}{14} & \\text{ si } 1\\leq x <15\\\\\n",
    "0               & \\text{ si } x\\geq 15,\n",
    "\\end{array}\\right.$$\n"
   ]
  },
  {
   "cell_type": "markdown",
   "metadata": {},
   "source": [
    "**Gráfico**"
   ]
  },
  {
   "cell_type": "code",
   "execution_count": 87,
   "metadata": {},
   "outputs": [
    {
     "data": {
      "image/png": "[encoded data removed]",
      "text/plain": [
       "Graphics object consisting of 19 graphics primitives"
      ]
     },
     "execution_count": 87,
     "metadata": {},
     "output_type": "execute_result"
    }
   ],
   "source": [
    "#Graficamos los resultados\n",
    "plot((x-2)/3, (x, 2, 5), legend_label='u', color='red')+plot(1, (x, 5, 6), color='red')+plot(7-x, (x, 6, 7), color='red')+plot((x+3)/4, (x, -3, 1), legend_label='v', color='blue')+plot((6-x)/5, (x,1,6), color='blue')+plot((x+1)/7, (x,-1,6), color='yellow', legend_label='u+v') + plot(1,(x,6,7), color='yellow') + plot((13-x)/6, (x,7,13), color='yellow') + plot((x+4)/8, (x, -4, 4), color='green', legend_label='u-v')+plot(1, (x,4,5), color='green') +plot((10-x)/5, (x,5,10), color='green') + plot((x+17)/6, (x,-17,-11), legend_label='-2u+v', color='pink') +plot(1, (x,-11,-9), color='pink') + plot((2-x)/11, (x, -9, 2), color='pink') + plot((x+5)/4, (x, -5, -1), legend_label='u-u', color='black' ) + plot(1, (x,-1,1), color='black') + plot((5-x)/4, (x, 1, 5), color='black') + plot((x+12)/13, (x, -12, 1), legend_label='2v-v', color='orange') + plot((15-x)/14, (x,1,15), color='orange')    "
   ]
  },
  {
   "cell_type": "markdown",
   "metadata": {},
   "source": [
    "---\n",
    "**Ejercicio 8.** Demuestra las propiedades de abajo.\n",
    "\n",
    "1. Para cualquier número difuso $u$ y cualquier $a,b\\in \\mathbb{R}$, con $a\\cdot b\\geq 0$, se cumple $(a+b)\\cdot u=(a\\cdot u)+(b\\cdot u)$.\n",
    "2. Para cualquier $\\lambda\\in\\mathbb{R}$ y cualesquiera números difusos $u,v$, se cumple $\\lambda\\cdot (u+v)=\\lambda\\cdot u+\\lambda\\cdot v$.\n",
    "3. Para cualquier $\\lambda,\\mu\\in\\mathbb{R}$ y cualquier número difuso $u$, se cumple $(\\lambda\\cdot \\mu)\\cdot u=\\lambda\\cdot (\\mu\\cdot u)$."
   ]
  },
  {
   "cell_type": "markdown",
   "metadata": {},
   "source": [
    "**Item 1**. Para cualquier número difuso $u$ y cualquier $a,b\\in \\mathbb{R}$, con $a\\cdot b\\geq 0$, se cumple $(a+b)\\cdot u=(a\\cdot u)+(b\\cdot u)$.\n"
   ]
  },
  {
   "cell_type": "markdown",
   "metadata": {},
   "source": [
    "Tenemos el número difuso $u$. Si lo multiplicamos por $(a+b)$, tenemos que $(a+b)\\cdot u$. \n",
    "\n",
    "Es posible realizar esto incluso aunque sea una función a trozos, porque el resultado siempre equivaldrá a multiplicar $(a+b)$ por cada sección de la función.\n",
    "\n",
    "Si multiplicamos individualmente $(a*u)$ y $(b*u)$, tenemos que al sumar esos resultados, es decir $(a*u) + (b*u)$, por factor común esto es igual a $(a+b)*u$\n",
    "\n",
    "Por tanto, queda demostrado el primer ítem.\n"
   ]
  },
  {
   "cell_type": "markdown",
   "metadata": {},
   "source": [
    "**Item 2**. Para cualquier $\\lambda\\in\\mathbb{R}$ y cualesquiera números difusos $u,v$, se cumple $\\lambda\\cdot (u+v)=\\lambda\\cdot u+\\lambda\\cdot v$.\n"
   ]
  },
  {
   "cell_type": "markdown",
   "metadata": {},
   "source": [
    "Para el número $\\lambda$ y dos números difusos $u, v$, tenemos que $\\lambda\\cdot (u+v)=\\lambda\\cdot u+\\lambda\\cdot v$.\n",
    "\n",
    "Usaremos la operación definida por el principio de extensión para demostrar esta propiedad.\n",
    "\n",
    "En particular $(A+B)(z) = \\bigvee_{z=x+y} min[A(x), B(y)]$\n",
    "\n",
    "\n",
    "Tenemos que $\\lambda \\cdot (u+v) = \\lambda \\cdot \\bigvee_{z=x+y} min[A(x), B(y)] $\n",
    "\n",
    "Si el resultado de $\\bigvee_{z=x+y} min[A(x), B(y)]$ es un valor numérico $c$, entonces $\\lambda \\cdot \\bigvee_{z=x+y} min[A(x), B(y)] = \\lambda \\cdot c$\n",
    "\n",
    "Para el miembro derecho de la expresión tenemos que $\\bigvee_{z=x+y} min[\\lambda \\cdot A(x), \\lambda \\cdot B(y)]$\n",
    "\n",
    "Sea cual sea el valor de $\\lambda$, el resultado final queda inalterado, pues el valor de $\\lambda$ se aplica a todos los $A(x)$ y $B(x)$ por igual. Por lo que sus posiciones relativas (es decir, que un valor de la función de membresía sea mayor o menor que otros) se mantienen iguales (a exepción del caso donde $\\lambda=0$, pero en esas circunstancias los 2 miembros de la identidad son iguales, por lo que no causa contradicciones).\n",
    "\n",
    "Por tanto, $\\bigvee_{z=x+y} min[\\lambda \\cdot A(x), \\lambda \\cdot B(y)]= \\lambda \\cdot c$\n",
    "\n",
    "Por tanto, la igualdad queda demostrada.\n"
   ]
  },
  {
   "cell_type": "markdown",
   "metadata": {},
   "source": [
    "**Item 3**. Para cualquier $\\lambda,\\mu\\in\\mathbb{R}$ y cualquier número difuso $u$, se cumple $(\\lambda\\cdot \\mu)\\cdot u=\\lambda\\cdot (\\mu\\cdot u)$."
   ]
  },
  {
   "cell_type": "markdown",
   "metadata": {},
   "source": [
    "Tomamos en primer lugar el miembro izquierdo de la igualdad. \n",
    "\n",
    "Si multiplicamos $(\\lambda \\cdot \\mu)$ obtenemos un valor $c$\n",
    "\n",
    "Si además el valor numérico resultante del número difuso es $u=z$.\n",
    "\n",
    "Entonces en el miembro izquierdo tenemos el valor $c \\cdot z$\n",
    "\n",
    "Para el segundo miembro, tenemos $\\lambda \\cdot (\\mu \\cdot u)$\n",
    "\n",
    "La operación $\\mu \\cdot u$ es la multiplicación de una constante por una función. Si el valor de la función es un número\n",
    "$z$, entonces tenemos que $\\mu \\cdot u = \\mu \\cdot z$. Como ambos son valores numéricos y están siendo multiplicados,\n",
    "se cumple la propiedad conmutativa, por lo que la expresión en general queda de la siguiente manera: $\\lambda \\cdot \\mu \\cdot z$, que\n",
    "es igual a $c \\cdot z$\n",
    "\n",
    "Por tanto, la tercera propiedad queda demostrada"
   ]
  },
  {
   "cell_type": "markdown",
   "metadata": {},
   "source": [
    "---\n",
    "**Ejercicio 9.** Calcula el producto entre el número trapezoidal $u=\\text{trfn}(2, 5, 6, 8)$ y el número triangular $v=\\text{tfn}(1, 4, 5)$.\n",
    "\n",
    "1. Escribe la función de membresía o el intérvalo del corte alfa de $u\\cdot v$.\n",
    "2. Dibuja $u, v$ y su producto $u\\cdot v$ en una misma gráfica."
   ]
  },
  {
   "cell_type": "markdown",
   "metadata": {},
   "source": [
    "**Item 1.** Escribe la función de membresía o el intérvalo del corte alfa de $u\\cdot v$."
   ]
  },
  {
   "cell_type": "markdown",
   "metadata": {},
   "source": [
    "En primer lugar, hallamos las funciones de membresía de ambos números.\n",
    "\n",
    "Para $u=\\text{trfn}(2, 5, 6, 8)$ la función de membresía está dada por:\n",
    "\n",
    "$$A(x)=\\left\\{ \\begin{array}{ll}\n",
    "0             & \\text{ si } x < 2\\\\\n",
    "\\frac{x-2}{3} & \\text{ si } 2 \\leq x < 5\\\\\n",
    "1 & \\text{ si } 5 \\leq x < 6 \\\\\n",
    "\\frac{8-x}{2} & \\text{ si } 6 \\leq x < 8\\\\\n",
    "0             & \\text{ si } x \\ge 8,\n",
    "\\end{array}\\right.\n",
    "$$\n",
    "\n",
    "Para $v=\\text{tfn}(1, 4, 5)$ la función de membresía es la siguiente:\n",
    "\n",
    "$$B(x)=\\left\\{ \\begin{array}{ll}\n",
    "0             & \\text{ si } x\\leq -3\\\\\n",
    "1+\\frac{x-1}{4} & \\text{ si }  -3 < x < 1\\\\\n",
    "1-\\frac{x-1}{5}& \\text{ si } 1 \\leq x < 6\\\\\n",
    "0             & \\text{ si } x \\ge 6,\n",
    "\\end{array}\\right.\n",
    "$$\n"
   ]
  },
  {
   "cell_type": "code",
   "execution_count": 4,
   "metadata": {},
   "outputs": [],
   "source": [
    "# Calcular cortes alfa de u\n",
    "ec_izquierda_u = y==(x-2)/3\n",
    "ec_izquierda_u = solve(ec_izquierda_u, x)\n",
    "ec_derecha_u = y==(8-x)/2\n",
    "ec_derecha_u = solve(ec_derecha_u, x)\n",
    "# Calcular cortes alfa de v\n",
    "ec_izquierda_v = y==1+(x-1)/4\n",
    "ec_izquierda_v = solve(ec_izquierda_v, x)\n",
    "ec_derecha_v = y==1-(x-1)/5\n",
    "ec_derecha_v = solve(ec_derecha_v, x)"
   ]
  },
  {
   "cell_type": "code",
   "execution_count": 5,
   "metadata": {},
   "outputs": [
    {
     "data": {
      "text/plain": [
       "[x == 3*y + 2]"
      ]
     },
     "execution_count": 5,
     "metadata": {},
     "output_type": "execute_result"
    }
   ],
   "source": [
    "ec_izquierda_u"
   ]
  },
  {
   "cell_type": "code",
   "execution_count": 6,
   "metadata": {},
   "outputs": [
    {
     "data": {
      "text/plain": [
       "[x == -2*y + 8]"
      ]
     },
     "execution_count": 6,
     "metadata": {},
     "output_type": "execute_result"
    }
   ],
   "source": [
    "ec_derecha_u"
   ]
  },
  {
   "cell_type": "markdown",
   "metadata": {},
   "source": [
    "Por tanto, el corte $\\alpha$ de la función $u=\\text{trfn}(2, 5, 6, 8)$ son $$ ^{\\alpha}A = [3\\alpha +2,-2\\alpha +8 ]$$"
   ]
  },
  {
   "cell_type": "code",
   "execution_count": 7,
   "metadata": {},
   "outputs": [
    {
     "data": {
      "text/plain": [
       "[x == 4*y - 3]"
      ]
     },
     "execution_count": 7,
     "metadata": {},
     "output_type": "execute_result"
    }
   ],
   "source": [
    "ec_izquierda_v"
   ]
  },
  {
   "cell_type": "code",
   "execution_count": 8,
   "metadata": {},
   "outputs": [
    {
     "data": {
      "text/plain": [
       "[x == -5*y + 6]"
      ]
     },
     "execution_count": 8,
     "metadata": {},
     "output_type": "execute_result"
    }
   ],
   "source": [
    "ec_derecha_v"
   ]
  },
  {
   "cell_type": "markdown",
   "metadata": {},
   "source": [
    "Por tanto, el corte $\\alpha$ de la función $v=\\text{tfn}(1, 4, 5)$ son $$ ^{\\alpha}B = [4\\alpha-3, -5\\alpha+6]$$"
   ]
  },
  {
   "cell_type": "markdown",
   "metadata": {},
   "source": [
    "Con los cortes $\\alpha$ de cada función individual, podemos hallar el corte $\\alpha$ de $u\\cdot v$"
   ]
  },
  {
   "cell_type": "code",
   "execution_count": 9,
   "metadata": {},
   "outputs": [],
   "source": [
    "corte_alpha_izq = ec_izquierda_u[0]*ec_izquierda_v[0]\n",
    "#corte_alpha_izq = solve(corte_alpha_izq, x)\n",
    "corte_alpha_der = ec_derecha_u[0]*ec_derecha_u[0]\n",
    "#corte_alpha_der = solve(corte_alpha_der, x)"
   ]
  },
  {
   "cell_type": "code",
   "execution_count": 10,
   "metadata": {},
   "outputs": [
    {
     "data": {
      "text/plain": [
       "x^2 == (4*y - 3)*(3*y + 2)"
      ]
     },
     "execution_count": 10,
     "metadata": {},
     "output_type": "execute_result"
    }
   ],
   "source": [
    "corte_alpha_izq"
   ]
  },
  {
   "cell_type": "code",
   "execution_count": 11,
   "metadata": {},
   "outputs": [
    {
     "data": {
      "text/plain": [
       "x^2 == (4*y - 3)*(3*y + 2)"
      ]
     },
     "execution_count": 11,
     "metadata": {},
     "output_type": "execute_result"
    }
   ],
   "source": [
    "corte_alpha_izq"
   ]
  },
  {
   "cell_type": "markdown",
   "metadata": {},
   "source": [
    "Por tanto, tenemos que $$ ^{\\alpha}(A \\cdot B)=[min( (3 \\alpha +2)*(4 \\alpha -3), (3 \\alpha +2)*(-5 \\alpha + 6), (-2 \\alpha +8)(4 \\alpha -3), (-2 \\alpha +8)(-5 \\alpha +6) ), max( (3 \\alpha +2)*(4 \\alpha -3), (3 \\alpha +2)*(-5 \\alpha + 6), (-2 \\alpha +8)(4 \\alpha -3), (-2 \\alpha +8)(-5 \\alpha +6) )]$$\n"
   ]
  },
  {
   "cell_type": "markdown",
   "metadata": {},
   "source": [
    "**Item 2.** Dibuja $u, v$ y su producto $u\\cdot v$ en una misma gráfica."
   ]
  },
  {
   "cell_type": "code",
   "execution_count": 85,
   "metadata": {},
   "outputs": [],
   "source": [
    "# Hallamos valores de u para graficar\n",
    "# Calcular valores de u en función a y\n",
    "ec_izquierda_u = y==(x-2)/3\n",
    "ec_izquierda_u = solve(ec_izquierda_u, y)\n",
    "ec_derecha_u = y==(8-x)/2\n",
    "ec_derecha_u = solve(ec_derecha_u, y)\n",
    "# Calcular valores de función a y\n",
    "ec_izquierda_v = y==1+(x-1)/4\n",
    "ec_izquierda_v = solve(ec_izquierda_v, y)\n",
    "ec_derecha_v = y==1-(x-1)/5\n",
    "ec_derecha_v = solve(ec_derecha_v, y)\n",
    "#Comprobamos sus valores"
   ]
  },
  {
   "cell_type": "code",
   "execution_count": 40,
   "metadata": {},
   "outputs": [
    {
     "data": {
      "text/plain": [
       "[y == 1/3*x - 2/3]"
      ]
     },
     "execution_count": 40,
     "metadata": {},
     "output_type": "execute_result"
    }
   ],
   "source": [
    "# Mostramos los distintos valores de las ecuaciones izquierda y derecha\n",
    "ec_izquierda_u"
   ]
  },
  {
   "cell_type": "code",
   "execution_count": 41,
   "metadata": {},
   "outputs": [
    {
     "data": {
      "text/plain": [
       "[y == -1/2*x + 4]"
      ]
     },
     "execution_count": 41,
     "metadata": {},
     "output_type": "execute_result"
    }
   ],
   "source": [
    "ec_derecha_u"
   ]
  },
  {
   "cell_type": "code",
   "execution_count": 42,
   "metadata": {},
   "outputs": [
    {
     "data": {
      "text/plain": [
       "[y == 1/4*x + 3/4]"
      ]
     },
     "execution_count": 42,
     "metadata": {},
     "output_type": "execute_result"
    }
   ],
   "source": [
    "ec_izquierda_v"
   ]
  },
  {
   "cell_type": "code",
   "execution_count": 43,
   "metadata": {},
   "outputs": [
    {
     "data": {
      "text/plain": [
       "[y == -1/5*x + 6/5]"
      ]
     },
     "execution_count": 43,
     "metadata": {},
     "output_type": "execute_result"
    }
   ],
   "source": [
    "ec_derecha_v"
   ]
  },
  {
   "cell_type": "code",
   "execution_count": 80,
   "metadata": {},
   "outputs": [],
   "source": [
    "# Definimos los valores de u*v para graficar\n",
    "a1=3*y+2; a2=-2*y+8; b1=4*y-3; b2=-5*y+6\n",
    "c1(y)=min_symbolic(a1*b1, a1*b2, a2*b1, a2*b2)\n",
    "c2(y)=max_symbolic(a1*b1, a1*b2, a2*b1, a2*b2)"
   ]
  },
  {
   "cell_type": "code",
   "execution_count": 87,
   "metadata": {},
   "outputs": [],
   "source": [
    "# Usamos la función 1 para graficar un segmente de u*v\n",
    "f_uno = 1\n"
   ]
  },
  {
   "cell_type": "code",
   "execution_count": 89,
   "metadata": {},
   "outputs": [
    {
     "data": {
      "text/plain": [
       "(5, 6)"
      ]
     },
     "execution_count": 89,
     "metadata": {},
     "output_type": "execute_result"
    }
   ],
   "source": [
    "# Verificamos soporte y núcleo de u*v\n",
    "c1(y).subs(y=1), c2(y).subs(y=1)\n"
   ]
  },
  {
   "cell_type": "code",
   "execution_count": 93,
   "metadata": {},
   "outputs": [
    {
     "data": {
      "text/plain": [
       "(-24, 48)"
      ]
     },
     "execution_count": 93,
     "metadata": {},
     "output_type": "execute_result"
    }
   ],
   "source": [
    "# Verificamos soporte y núcleo de u*v\n",
    "c1(y).subs(y=0), c2(y).subs(y=0)\n"
   ]
  },
  {
   "cell_type": "code",
   "execution_count": 92,
   "metadata": {},
   "outputs": [
    {
     "data": {
      "image/png": "[encoded data removed]",
      "text/plain": [
       "Graphics object consisting of 8 graphics primitives"
      ]
     },
     "execution_count": 92,
     "metadata": {},
     "output_type": "execute_result"
    }
   ],
   "source": [
    "# Graficar\n",
    "list_plot([(c1(y),y) for y in points], color='green', legend_label='uv', plotjoined=True)+list_plot([(c2(y),y) for y in points], color='green', plotjoined=True) + plot(ec_izquierda_u[0].rhs(), (x, 2, 5), legend_label='u') + plot(f_uno, (x, 5, 6))+ plot(ec_derecha_u[0].rhs(), (x, 6, 8)) + plot(ec_izquierda_v[0].rhs(), (x, -3, 1), legend_label='v', color='red') + plot(ec_derecha_v[0].rhs(), (x, 1, 6), color='red') + plot(f_uno, (x, 5, 6), color='green')"
   ]
  },
  {
   "cell_type": "markdown",
   "metadata": {},
   "source": [
    "---\n",
    "**Ejercicio 10.** Escribe una expresión para los cortes alfa del producto de dos números difusos triangulares $u=\\text{tfn}(a_1,b_1,c_1)$ y $v=\\text{tfn}(a_2,b_2,c_2)$. Escribe la familia de cortes alfa en forma intervalar de $u\\cdot v$."
   ]
  },
  {
   "cell_type": "markdown",
   "metadata": {},
   "source": [
    "**Solución:**\n",
    "\n",
    "Tenemos que la función general de membresía de un número difuso triangular es la siguiente:\n",
    "$$A(x)=\\left\\{ \\begin{array}{ll}\n",
    "0             & \\text{ si } x\\leq\\bar x-e_1\\\\\n",
    "1+\\frac{x-\\bar x}{e_1} & \\text{ si } \\bar x-e_1 < x < \\bar x\\\\\n",
    "1-\\frac{x- \\bar x}{e_2}& \\text{ si } \\bar x \\leq x < \\bar x + e_2\\\\\n",
    "0             & \\text{ si } x \\ge \\bar x + e_2,\n",
    "\\end{array}\\right.\n",
    "$$\n",
    "\n",
    "\n"
   ]
  },
  {
   "cell_type": "markdown",
   "metadata": {},
   "source": [
    "Para $u=\\text{tfn}(a_1,b_1,c_1)$, tenemos que la función de membresía es:\n",
    "\n",
    "$$u(x)=\\left\\{ \\begin{array}{ll}\n",
    "0             & \\text{ si } x\\leq a_1 - b_1\\\\\n",
    "1+\\frac{x-a_1}{b_1} & \\text{ si } a_1 - b_1 < x < a_1\\\\\n",
    "1-\\frac{x-a_1}{c_1}& \\text{ si } a_1 \\leq x < a_1 + c_1\\\\\n",
    "0             & \\text{ si } x \\ge a_1+c_1,\n",
    "\\end{array}\\right.\n",
    "$$\n",
    "\n",
    "\n"
   ]
  },
  {
   "cell_type": "markdown",
   "metadata": {},
   "source": [
    "Para $v=\\text{tfn}(a_2,b_2,c_2)$, tenemos que la función de membresía es:\n",
    "\n",
    "$$v(x)=\\left\\{ \\begin{array}{ll}\n",
    "0             & \\text{ si } x\\leq a_2 - b_2\\\\\n",
    "1+\\frac{x-a_2}{b_2} & \\text{ si } a_2 - b_2 < x < a_2\\\\\n",
    "1-\\frac{x-a_2}{c_2}& \\text{ si } a_2 \\leq x < a_2 + c_2\\\\\n",
    "0             & \\text{ si } x \\ge a_2 + c_2,\n",
    "\\end{array}\\right.\n",
    "$$\n",
    "\n",
    "\n"
   ]
  },
  {
   "cell_type": "markdown",
   "metadata": {},
   "source": [
    "Hallamos los cortes $\\alpha$ de $u$:\n",
    "\n",
    "$x=(y-1)\\cdot b_1+a_1$ (ec. izquierda)\n",
    "\n",
    "$x=(1-y)\\cdot c_1+a_1$ (ec. derecha)\n",
    "\n"
   ]
  },
  {
   "cell_type": "markdown",
   "metadata": {},
   "source": [
    "$^{\\alpha}(u)=[(\\alpha-1)\\cdot b_1+a_1, (1-\\alpha)\\cdot c_1+a_1]$\n"
   ]
  },
  {
   "cell_type": "markdown",
   "metadata": {},
   "source": [
    "Hallamos los cortes $\\alpha$ de $u$:\n",
    "\n",
    "$x = (y-1)\\cdot b_2 + a_2$ (ec. izquierda)\n",
    "\n",
    "$x = (1-y)\\cdot c_2 + a_2$ (ec. derecha)"
   ]
  },
  {
   "cell_type": "markdown",
   "metadata": {},
   "source": [
    "\n",
    "$^{\\alpha}(u)=[(\\alpha-1)\\cdot b_2+a_2, (1-\\alpha)\\cdot c_2+a_2]$\n",
    "\n"
   ]
  },
  {
   "cell_type": "markdown",
   "metadata": {},
   "source": [
    "Hallamos la familia de cortes $u\\cdot v$:\n",
    "\n",
    "Si hacemos que:\n",
    "\n",
    "$u_1= (\\alpha-1)\\cdot b_1+a_1$\n",
    "\n",
    "$u_2= (1-\\alpha)\\cdot c_1+a_1$\n",
    "\n",
    "$v_1= (\\alpha-1)\\cdot b_2+a_2$\n",
    "\n",
    "$v_1= (1-\\alpha)\\cdot c_2+a_2$"
   ]
  },
  {
   "cell_type": "markdown",
   "metadata": {},
   "source": [
    "Entonces tenemos que:\n",
    "\n",
    "$u\\cdot v= [min(u_1v_1, u_1v_2, u_2v_1, u_2v_2), max(u_1v_1, u_1v_2, u_2v_1, u_2v_2)]$\n"
   ]
  },
  {
   "cell_type": "markdown",
   "metadata": {},
   "source": [
    "Con esto tenemos la familia de cortes $\\alpha$ de forma intervalar"
   ]
  }
 ],
 "metadata": {
  "kernelspec": {
   "display_name": "SageMath 9.5",
   "language": "sage",
   "name": "sagemath"
  },
  "language_info": {
   "codemirror_mode": {
    "name": "ipython",
    "version": 3
   },
   "file_extension": ".py",
   "mimetype": "text/x-python",
   "name": "python",
   "nbconvert_exporter": "python",
   "pygments_lexer": "ipython3",
   "version": "3.10.4"
  }
 },
 "nbformat": 4,
 "nbformat_minor": 4
}
