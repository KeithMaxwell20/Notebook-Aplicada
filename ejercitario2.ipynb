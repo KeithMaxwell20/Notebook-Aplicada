{
 "cells": [
  {
   "cell_type": "markdown",
   "metadata": {},
   "source": [
    "# __Ejercitario 2__: Números Difusos y su Aritmética\n",
    "\n",
    "Responde a las preguntas de abajo utilizando este mismo notebook. Recuerda de seguir las instrucciones de envío que están en la plataforma Educa."
   ]
  },
  {
   "cell_type": "markdown",
   "metadata": {},
   "source": [
    "---\n",
    "**Ejercicio 1.** Escribe una expresión para la función de membresía y los cortes alfa en forma intervalar para un número difuso triangular $\\text{tfn}(\\bar x,e_1,e_2)$. Utiliza este resultado para:\n",
    "\n",
    "1. Calcular los cortes alfa en forma intervalar del número $\\text{tfn}(2,4,5)$.\n",
    "2. Calcular la función de membresía del número $\\text{tfn}(2,4,5)$.\n",
    "3. Presenta un dibujo de $\\text{tfn}(2,4,5)$."
   ]
  },
  {
   "cell_type": "markdown",
   "metadata": {},
   "source": [
    "**Solución:**\n",
    "\n",
    "**En primer lugar**, escribimos la función de membresía para un número difuso triangular:\n",
    "\n",
    "$$A(x)=\\left\\{ \\begin{array}{ll}\n",
    "0             & \\text{ si } x\\leq\\bar x-e_1\\\\\n",
    "1+\\frac{x-\\bar x}{e_1} & \\text{ si } \\bar x-e_1 < x < \\bar x\\\\\n",
    "1-\\frac{x- \\bar x}{e_2}& \\text{ si } \\bar x \\leq x < \\bar x + e_2\\\\\n",
    "0             & \\text{ si } x \\ge \\bar x + e_2,\n",
    "\\end{array}\\right.\n",
    "$$"
   ]
  },
  {
   "cell_type": "markdown",
   "metadata": {},
   "source": [
    "**En segundo lugar**, hallamos los cortes $\\alpha$:\n",
    "\n",
    "Para un número difuso triangular podemos hallar estos cortes con la ecuación punto-pendiente:\n",
    "    $$y-y_1 = m_1(x-e_1)$$\n",
    "    $$y-y_2 = m_2(x-e_2)$$\n",
    "    \n",
    "Los cortes alfa corresponden a los valores surgidos de despejar las 2 rectas en función a x:\n",
    "\n",
    "$$ ^{\\alpha}A = [\\frac{y-y_1}{m_1}+e_1,\\frac{y-y_2}{m_2}+e_2]$$\n"
   ]
  },
  {
   "cell_type": "markdown",
   "metadata": {},
   "source": [
    "**Item 1.** Calcular los cortes alfa en forma intervalar del número $\\text{tfn}(2,4,5)$."
   ]
  },
  {
   "cell_type": "code",
   "execution_count": 7,
   "metadata": {},
   "outputs": [],
   "source": [
    "x,y = SR.var('x,y') # Definimos que x e y son variables\n",
    "ec_izquierda = y-1==(1-0)*(x-2)/(2+2) # Ecuación de la izquierda\n",
    "ec_izquierda = solve(ec_izquierda, x) # Despejar y\n",
    "ec_derecha = y-1==(0-1)*(x-2)/(7-2) # Ecuación de la derecha\n",
    "ec_derecha = solve(ec_derecha, x) # Despejar y\n"
   ]
  },
  {
   "cell_type": "markdown",
   "metadata": {},
   "source": [
    "El corte $\\alpha$ izquierdo está dado por la siguiente ecuación:"
   ]
  },
  {
   "cell_type": "code",
   "execution_count": 8,
   "metadata": {},
   "outputs": [
    {
     "data": {
      "text/plain": [
       "x == 4*y - 2"
      ]
     },
     "execution_count": 8,
     "metadata": {},
     "output_type": "execute_result"
    }
   ],
   "source": [
    "ec_izquierda[0]"
   ]
  },
  {
   "cell_type": "markdown",
   "metadata": {},
   "source": [
    "El corte $\\alpha$ derecho está dado por la siguiente ecuación:"
   ]
  },
  {
   "cell_type": "code",
   "execution_count": 9,
   "metadata": {},
   "outputs": [
    {
     "data": {
      "text/plain": [
       "x == -5*y + 7"
      ]
     },
     "execution_count": 9,
     "metadata": {},
     "output_type": "execute_result"
    }
   ],
   "source": [
    "ec_derecha[0]"
   ]
  },
  {
   "cell_type": "markdown",
   "metadata": {},
   "source": [
    "En resumen, tenemos que $$ ^{\\alpha}A = [4 \\alpha -2, -5\\alpha +7]$$"
   ]
  },
  {
   "cell_type": "markdown",
   "metadata": {},
   "source": [
    "Se puede verificar el resultado hallando el núcleo y el soporte.\n",
    "\n",
    "Para $\\alpha = 1$ tenemos:"
   ]
  },
  {
   "cell_type": "code",
   "execution_count": 10,
   "metadata": {},
   "outputs": [
    {
     "data": {
      "text/plain": [
       "x == 2"
      ]
     },
     "execution_count": 10,
     "metadata": {},
     "output_type": "execute_result"
    }
   ],
   "source": [
    "ec_izquierda[0].subs(y=1)"
   ]
  },
  {
   "cell_type": "code",
   "execution_count": 11,
   "metadata": {},
   "outputs": [
    {
     "data": {
      "text/plain": [
       "x == 2"
      ]
     },
     "execution_count": 11,
     "metadata": {},
     "output_type": "execute_result"
    }
   ],
   "source": [
    "ec_derecha[0].subs(y=1)"
   ]
  },
  {
   "cell_type": "markdown",
   "metadata": {},
   "source": [
    "Este resultado coincide con el núcleo de $A$. Si hacemos $\\alpha=0$ tenemos:"
   ]
  },
  {
   "cell_type": "code",
   "execution_count": 12,
   "metadata": {},
   "outputs": [
    {
     "data": {
      "text/plain": [
       "x == -2"
      ]
     },
     "execution_count": 12,
     "metadata": {},
     "output_type": "execute_result"
    }
   ],
   "source": [
    "ec_izquierda[0].subs(y=0)"
   ]
  },
  {
   "cell_type": "code",
   "execution_count": 13,
   "metadata": {},
   "outputs": [
    {
     "data": {
      "text/plain": [
       "x == 7"
      ]
     },
     "execution_count": 13,
     "metadata": {},
     "output_type": "execute_result"
    }
   ],
   "source": [
    "ec_derecha[0].subs(y=0)"
   ]
  },
  {
   "cell_type": "markdown",
   "metadata": {},
   "source": [
    "Es resultado coincide con el soporte de **A**"
   ]
  },
  {
   "cell_type": "markdown",
   "metadata": {},
   "source": [
    "**Item 2.** Calcular la función de membresía del número $\\text{tfn}(2,4,5)$."
   ]
  },
  {
   "cell_type": "markdown",
   "metadata": {},
   "source": [
    "\n",
    "$$A(x)=\\left\\{ \\begin{array}{ll}\n",
    "0             & \\text{ si } x\\leq -2\\\\\n",
    "1+\\frac{x-2}{4} & \\text{ si } -2 < x < 2\\\\\n",
    "1-\\frac{x-2}{5}& \\text{ si } 2 \\leq x < 7\\\\\n",
    "0             & \\text{ si } x \\ge 7,\n",
    "\\end{array}\\right.\n",
    "$$"
   ]
  },
  {
   "cell_type": "markdown",
   "metadata": {},
   "source": [
    "**Item 3.** Presenta un dibujo de $\\text{tfn}(2,4,5)$."
   ]
  },
  {
   "cell_type": "code",
   "execution_count": 17,
   "metadata": {},
   "outputs": [
    {
     "data": {
      "image/png": "[encoded data removed]",
      "text/plain": [
       "Graphics object consisting of 4 graphics primitives"
      ]
     },
     "execution_count": 17,
     "metadata": {},
     "output_type": "execute_result"
    }
   ],
   "source": [
    "# Funciones de A(x) que no son iguales a 0\n",
    "f1(x)=1+(x-2)/4 \n",
    "f2(x)=1-(x-2)/5 \n",
    "\n",
    "plot(0, (x, -5, -2))+plot(f1, (x, -2, 2)) + plot(f2, (x, 2, 7)) + plot(0, (x, 7, 10))"
   ]
  },
  {
   "cell_type": "markdown",
   "metadata": {},
   "source": [
    "---\n",
    "**Ejercicio 2.** Dado el número difuso exponencial $A=\\text{efn}(2,0.5,1,0.4)$.\n",
    "\n",
    "1. Escribe su función de membresía.\n",
    "2. Encuentra una expresión intervalar para los cortes alfa.\n",
    "3. Encuentra una expresión intervalar para los cortes alfa de $A^2$.\n",
    "4. Dibuja $A$ y $A^2$ en una misma gráfica para compararlos."
   ]
  },
  {
   "cell_type": "markdown",
   "metadata": {},
   "source": [
    "**Solución:**"
   ]
  },
  {
   "cell_type": "markdown",
   "metadata": {},
   "source": [
    "**Item 1.** Escribe su función de membresía."
   ]
  },
  {
   "cell_type": "markdown",
   "metadata": {},
   "source": [
    "Forma General: $\\text{efn}(\\bar x,\\tau_1,\\tau_2,a)$\n",
    "\n",
    "Forma particular: $A=\\text{efn}(2,0.5,1,0.4)$ "
   ]
  },
  {
   "cell_type": "markdown",
   "metadata": {},
   "source": [
    "\n",
    "$$A(x)=\\left\\{ \\begin{array}{ll}\n",
    "0             & \\text{ si } x < 1.8\\\\\\\n",
    "e^{\\frac{x-2}{0.5}} & \\text{ si } 1.8 \\leq x < 2 \\\\\n",
    "e^{2-x} & \\text{ si } 2 \\leq x < 2.4\\\\\n",
    "0             & \\text{ si } x \\ge 2.4,\n",
    "\\end{array}\\right.\n",
    "$$"
   ]
  },
  {
   "cell_type": "markdown",
   "metadata": {},
   "source": [
    "**Item 2.** Encuentra una expresión intervalar para los cortes alfa."
   ]
  },
  {
   "cell_type": "code",
   "execution_count": 38,
   "metadata": {},
   "outputs": [],
   "source": [
    "x,y=SR.var('x,y')\n",
    "ec_izquierda = y==exp((x-2)/0.5) # Exp es el número de Euler\n",
    "ec_izquierda = solve(ec_izquierda, x)\n",
    "ec_derecha = y == exp(2-x)\n",
    "ec_derecha =  solve(ec_derecha, x)\n"
   ]
  },
  {
   "cell_type": "markdown",
   "metadata": {},
   "source": [
    "Hallamos el intervalo de cortes $\\alpha$"
   ]
  },
  {
   "cell_type": "code",
   "execution_count": 26,
   "metadata": {},
   "outputs": [
    {
     "data": {
      "text/plain": [
       "[-1/2*log(y) - 2, -log(y) + 2]"
      ]
     },
     "execution_count": 26,
     "metadata": {},
     "output_type": "execute_result"
    }
   ],
   "source": [
    "[ec_izquierda[0].rhs(), ec_derecha[0].rhs()]"
   ]
  },
  {
   "cell_type": "markdown",
   "metadata": {},
   "source": [
    "En resumen, tenemos que $$ ^{\\alpha}A = [\\frac{1}{2}log(\\alpha)+2, -log(\\alpha)+2]$$"
   ]
  },
  {
   "cell_type": "markdown",
   "metadata": {},
   "source": [
    "Verificamos su correctitud"
   ]
  },
  {
   "cell_type": "code",
   "execution_count": 91,
   "metadata": {},
   "outputs": [
    {
     "data": {
      "text/plain": [
       "[x == 2, x == 2]"
      ]
     },
     "execution_count": 91,
     "metadata": {},
     "output_type": "execute_result"
    }
   ],
   "source": [
    "[ec_izquierda[0].subs(y=1), ec_derecha[0].subs(y=1)]"
   ]
  },
  {
   "cell_type": "markdown",
   "metadata": {},
   "source": [
    "Coincide con el valor del núcleo de $A$"
   ]
  },
  {
   "cell_type": "code",
   "execution_count": 9,
   "metadata": {},
   "outputs": [
    {
     "data": {
      "text/plain": [
       "[x == -Infinity, x == +Infinity]"
      ]
     },
     "execution_count": 9,
     "metadata": {},
     "output_type": "execute_result"
    }
   ],
   "source": [
    "[ec_izquierda[0].subs(y=0), ec_derecha[0].subs(y=0)]"
   ]
  },
  {
   "cell_type": "markdown",
   "metadata": {},
   "source": [
    "El soporte es correcto"
   ]
  },
  {
   "cell_type": "markdown",
   "metadata": {},
   "source": [
    "**Item 3.** Encuentra una expresión intervalar para los cortes alfa de $A^2$."
   ]
  },
  {
   "cell_type": "markdown",
   "metadata": {},
   "source": [
    "Para obtener los cortes $\\alpha$ de $A^{2}$ usaremos la siguiente propiedad:\n",
    "$^{\\alpha}(A*B)=(^{\\alpha}A)*(^{\\alpha}B)$\n",
    "\n",
    "En este caso particular:\n",
    "$^{\\alpha}(A*A)=(^{\\alpha}A)*(^{\\alpha}A)$\n",
    "\n",
    "Por tanto \n",
    "$^{\\alpha}(A*A)=[a_{1}(\\alpha)a_{1}(\\alpha), a_{2}(\\alpha)*a_{2}(\\alpha)]$\n",
    "\n",
    "Entonces: \n",
    "$^{\\alpha}(A*A)= [(\\frac{1}{2}log(\\alpha)+2)*(\\frac{1}{2}log(\\alpha)+2), (-log(\\alpha)+2)*(-log(\\alpha)+2) ]$"
   ]
  },
  {
   "cell_type": "markdown",
   "metadata": {},
   "source": [
    "Entonces el corte $\\alpha$ se halla dado por:\n",
    "$$ ^{\\alpha}A = [(\\frac{1}{2}log(\\alpha)+2)^2, (-log(\\alpha)+2)^2 ]$$"
   ]
  },
  {
   "cell_type": "markdown",
   "metadata": {},
   "source": [
    "**Item 4**. Dibuja $A$ y $A^2$ en una misma gráfica para compararlos."
   ]
  },
  {
   "cell_type": "code",
   "execution_count": 63,
   "metadata": {},
   "outputs": [],
   "source": [
    "x,y=SR.var('x,y') # Despejamos el valor de A\n",
    "ec_izquierda_A = y==exp((x-2)/0.5) \n",
    "ec_izquierda_A = solve(ec_izquierda_A, y) #Despejamos en función a x para verificar correctitud\n",
    "ec_derecha_A = y == exp(2-x)\n",
    "ec_derecha_A =  solve(ec_derecha_A, y)"
   ]
  },
  {
   "cell_type": "code",
   "execution_count": 64,
   "metadata": {},
   "outputs": [],
   "source": [
    "#Despejamos los valores para graficar A^2\n",
    "ec_izquierda_A2 = x==((1/2)*ln(y)+2)**2\n",
    "ec_izquierda_A2 = solve(ec_izquierda_A2,y) # Despejar x para verificar la correctitud de los cortes, luego en función a y\n",
    "ec_derecha_A2 = x==(-ln(y)+2)**2\n",
    "ec_derecha_A2 = solve(ec_derecha_A2,y)\n",
    "#Procedemos a verificar los valores"
   ]
  },
  {
   "cell_type": "code",
   "execution_count": 65,
   "metadata": {},
   "outputs": [
    {
     "data": {
      "text/plain": [
       "[y == e^(2*x - 4)]"
      ]
     },
     "execution_count": 65,
     "metadata": {},
     "output_type": "execute_result"
    }
   ],
   "source": [
    "ec_izquierda_A"
   ]
  },
  {
   "cell_type": "code",
   "execution_count": 66,
   "metadata": {},
   "outputs": [
    {
     "data": {
      "text/plain": [
       "[y == e^(-x + 2)]"
      ]
     },
     "execution_count": 66,
     "metadata": {},
     "output_type": "execute_result"
    }
   ],
   "source": [
    "ec_derecha_A"
   ]
  },
  {
   "cell_type": "code",
   "execution_count": 67,
   "metadata": {},
   "outputs": [
    {
     "data": {
      "text/plain": [
       "y == e^(2*sqrt(x) - 4)"
      ]
     },
     "execution_count": 67,
     "metadata": {},
     "output_type": "execute_result"
    }
   ],
   "source": [
    "ec_izquierda_A2[1]"
   ]
  },
  {
   "cell_type": "code",
   "execution_count": 68,
   "metadata": {},
   "outputs": [
    {
     "data": {
      "text/plain": [
       "y == e^(-sqrt(x) + 2)"
      ]
     },
     "execution_count": 68,
     "metadata": {},
     "output_type": "execute_result"
    }
   ],
   "source": [
    "ec_derecha_A2[0]"
   ]
  },
  {
   "cell_type": "code",
   "execution_count": 23,
   "metadata": {},
   "outputs": [
    {
     "data": {
      "image/png": "[encoded data removed]",
      "text/plain": [
       "Graphics object consisting of 4 graphics primitives"
      ]
     },
     "execution_count": 23,
     "metadata": {},
     "output_type": "execute_result"
    }
   ],
   "source": [
    "# Usamos estos valores para graficar\n",
    "plot(e**(2*x-4),1.8,2,color='red',legend_label='A')+plot(e**(-x+2),2,2.4, color='red')+plot(e**(2*sqrt(x)-4),3.8,4,color='blue')+plot(e**(-sqrt(x)+2),4,4.4,color='blue',legend_label='A^2')"
   ]
  },
  {
   "cell_type": "markdown",
   "metadata": {},
   "source": [
    "---\n",
    "**Ejercicio 3.** Escribe una expresión para la función de membresía y los cortes alfa para un número difuso cuadrático $\\text{qfn}(\\bar x,\\beta_l,\\beta_r)$ en forma general. Utiliza este resultado para:\n",
    "\n",
    "1. Calcular los cortes alfa en forma intervalar del número $\\text{qfn}(\\bar x,\\beta_l,\\beta_r)$.\n",
    "2. Calcular la función de membresía del número $\\text{qfn}(\\bar x,\\beta_l,\\beta_r)$.\n",
    "3. Presenta un dibujo de $\\text{qfn}(1,-5,2)$."
   ]
  },
  {
   "cell_type": "markdown",
   "metadata": {},
   "source": [
    "**Item 1.** Calcular los cortes alfa en forma intervalar del número $\\text{qfn}(\\bar x,\\beta_l,\\beta_r)$.\n"
   ]
  },
  {
   "cell_type": "markdown",
   "metadata": {},
   "source": [
    "Escribimos los cortes $\\alpha$ para un número difuso cuadrático:\n",
    "\n",
    "Para obtener esos valores, vamos a despejar el valor y de las ecuaciones izquierda y derecha:\n",
    "\n",
    "$y = 1-\\frac{(x-\\bar x)^2}{\\beta_l^2}$ (ec. izquierda)\n",
    "\n",
    "$y = 1-\\frac{(x-\\bar x)^2}{\\beta_r^2}$ (ec. derecha)\n",
    "\n",
    "Al completar el despeje, tenemos:\n",
    "\n",
    "$x = \\bar x + \\sqrt{(1-y)*\\beta_l^2}$ (ec. izquierda)\n",
    "\n",
    "$x = \\bar x + \\sqrt{(1-y)*\\beta_r^2}$ (ec. derecha)\n",
    "\n",
    "Por tanto, el corte $\\alpha$ está dado por:\n",
    "\n",
    "$$ ^{\\alpha}A = [\\bar x + \\sqrt{(1-\\alpha)*\\beta_l^2},\\bar x + \\sqrt{(1-\\alpha)*\\beta_r^2} ]$$\n",
    "\n"
   ]
  },
  {
   "cell_type": "markdown",
   "metadata": {},
   "source": [
    "**Item 2.** Calcular la función de membresía del número $\\text{qfn}(\\bar x,\\beta_l,\\beta_r)$."
   ]
  },
  {
   "cell_type": "markdown",
   "metadata": {},
   "source": [
    "Escribimos la expresión para la función de membresía de un número difuso cuadrático:\n",
    "$$A(x)=\\left\\{ \\begin{array}{ll}\n",
    "0             & \\text{ si } x\\leq\\bar x-\\beta_l\\\\\n",
    "1-\\frac{(x-\\bar x)^2}{\\beta_l^2} & \\text{ si } \\bar x-\\beta_l < x < \\bar x\\\\\n",
    "1-\\frac{(x-\\bar x)^2}{\\beta_r^2}& \\text{ si } \\bar x \\leq x < \\bar x + \\beta_r\\\\\n",
    "0             & \\text{ si } x \\ge \\bar x + \\beta_r,\n",
    "\\end{array}\\right.\n",
    "$$"
   ]
  },
  {
   "cell_type": "markdown",
   "metadata": {},
   "source": [
    "\n",
    "**Item 3.** Presenta un dibujo de $\\text{qfn}(1,-5,2)$."
   ]
  },
  {
   "cell_type": "markdown",
   "metadata": {},
   "source": [
    "Igualamos la expresión general de un número cuadrático difuso con la expresión particular del problema:\n",
    "\n",
    "$\\text{qfn}(\\bar x, \\beta_l, \\beta_r) = \\text{qfn}(1,-5,2) $\n",
    "\n"
   ]
  },
  {
   "cell_type": "code",
   "execution_count": 73,
   "metadata": {},
   "outputs": [
    {
     "data": {
      "image/png": "[encoded data removed]",
      "text/plain": [
       "Graphics object consisting of 2 graphics primitives"
      ]
     },
     "execution_count": 73,
     "metadata": {},
     "output_type": "execute_result"
    }
   ],
   "source": [
    "# Funciones de A(x) que no son iguales a 0\n",
    "f1(x)=1-((x-1)**2)/(-5)**2\n",
    "f2(x)=1-((x-1)**2)/(2)**2\n",
    "\n",
    "plot(f1, (x, -4, 1), legend_label='A') + plot(f2, (x, 1, 3), legend_label='A')"
   ]
  },
  {
   "cell_type": "markdown",
   "metadata": {},
   "source": []
  },
  {
   "cell_type": "markdown",
   "metadata": {},
   "source": [
    "---\n",
    "**Ejercicio 4.** Para este ejercicio lee la definición de un número difuso L-R (Def.4.12, p.59) en el libro de texto de Bede (2013). Considera el número L-R dado por $L(x)=R(x)=x^2$. Sean $a_1^-=a_1^+=1$ y $\\underline{a}=1$, $\\overline{a}=2$, respectivamente.\n",
    "\n",
    "1. Escribe la función de membresía del número.\n",
    "2. Demuestra que sus cortes alfa están dados por $A_\\alpha=[\\sqrt r,3-2\\sqrt r]$.\n",
    "3. Grafica el número."
   ]
  },
  {
   "cell_type": "markdown",
   "metadata": {},
   "source": [
    "**Item 1.** Escribe la función de membresía del número.\n"
   ]
  },
  {
   "cell_type": "markdown",
   "metadata": {},
   "source": [
    "En primer lugar, calculamos los valores de $a_0^-$ y $a_0^+$\n",
    "\n",
    "Tenemos que $\\underline{a}=1$, por tanto:\n",
    "\n",
    "$\\underline{a}=a_1^- - a_0^- \\rightarrow 1=1 - a_0^- \\rightarrow a_0^- = 0$ \n",
    "\n",
    "Además tenemos que $\\overline{a}=2$, por lo que:\n",
    "\n",
    "$\\overline{a}=a_0^+ - a_1^+ \\rightarrow 2 = a_0^+ - 1 \\rightarrow a_0^+ = 3 $\n"
   ]
  },
  {
   "cell_type": "markdown",
   "metadata": {},
   "source": [
    "Con esta información, escribimos la función de membresía:\n",
    "\n",
    "$$A(x)=\\left\\{ \\begin{array}{ll}\n",
    "0             & \\text{ si } x < 0\\\\\n",
    "x^2 & \\text{ si } 0 \\leq x < 1\\\\\n",
    "(\\frac{3-x}{2})^2 & \\text{ si } 1 \\leq x < 3\\\\\n",
    "0             & \\text{ si } x \\ge 3,\n",
    "\\end{array}\\right.\n",
    "$$"
   ]
  },
  {
   "cell_type": "markdown",
   "metadata": {},
   "source": [
    "**Item 2.** Demuestra que sus cortes alfa están dados por $A_\\alpha=[\\sqrt r,3-2\\sqrt r]$."
   ]
  },
  {
   "cell_type": "markdown",
   "metadata": {},
   "source": [
    "Procedemos a hallar sus cortes $\\alpha$:"
   ]
  },
  {
   "cell_type": "code",
   "execution_count": 2,
   "metadata": {},
   "outputs": [],
   "source": [
    "# Hallamos el corte del lado izquierdo\n",
    "x,y=SR.var('x,y')\n",
    "ec_izquierda = y==x^2\n",
    "ec_izquierda = solve(ec_izquierda, x)\n",
    "ec_derecha = y==((3-x)/2)**2\n",
    "ec_derecha = solve(ec_derecha, x)"
   ]
  },
  {
   "cell_type": "code",
   "execution_count": 3,
   "metadata": {},
   "outputs": [
    {
     "data": {
      "text/plain": [
       "[x == -sqrt(y), x == sqrt(y)]"
      ]
     },
     "execution_count": 3,
     "metadata": {},
     "output_type": "execute_result"
    }
   ],
   "source": [
    "ec_izquierda"
   ]
  },
  {
   "cell_type": "code",
   "execution_count": 4,
   "metadata": {},
   "outputs": [
    {
     "data": {
      "text/plain": [
       "[x == -2*sqrt(y) + 3, x == 2*sqrt(y) + 3]"
      ]
     },
     "execution_count": 4,
     "metadata": {},
     "output_type": "execute_result"
    }
   ],
   "source": [
    "ec_derecha"
   ]
  },
  {
   "cell_type": "markdown",
   "metadata": {},
   "source": [
    "Por tanto, tenemos que sus cortes $\\alpha$ están dados por:\n",
    "$$ ^{\\alpha}A = [\\sqrt{\\alpha}, -2\\sqrt{\\alpha} + 3]$$"
   ]
  },
  {
   "cell_type": "markdown",
   "metadata": {},
   "source": [
    "**Item 3.** Grafica el número."
   ]
  },
  {
   "cell_type": "code",
   "execution_count": 6,
   "metadata": {},
   "outputs": [
    {
     "data": {
      "image/png": "[encoded data removed]",
      "text/plain": [
       "Graphics object consisting of 2 graphics primitives"
      ]
     },
     "execution_count": 6,
     "metadata": {},
     "output_type": "execute_result"
    }
   ],
   "source": [
    "# Funciones de A(x) que no son iguales a 0\n",
    "f1(x)=x**2\n",
    "f2(x)=((3-x)/2)**2\n",
    "\n",
    "plot(f1, (x, 0, 1), legend_label='lado izquierdo') + plot(f2, (x, 1, 3), legend_label='lado derecho')"
   ]
  },
  {
   "cell_type": "markdown",
   "metadata": {},
   "source": [
    "---\n",
    "**Ejercicio 5.** Para este ejercicio lee la definición de número difuso L-R (Def.4.12, p.59) en el libro de texto de Bede (2013). Demostrar que si $u$ es un número difuso L-R, entonces sus cortes alfa están dados por $u_\\alpha=[a_0^-+L^{-1}(\\alpha)\\underline{a}, a_0^+-R^{-1}(\\alpha)\\overline a]$."
   ]
  },
  {
   "cell_type": "markdown",
   "metadata": {},
   "source": [
    "**Escribimos su función de membresía**, ya que con su ayuda encontraremos los cortes $\\alpha$\n",
    "\n",
    "$$A(x)=\\left\\{ \\begin{array}{ll}\n",
    "0             & \\text{ si } x < 0\\\\\n",
    "L(\\frac{x-a_0^-}{a_1^- - a_0^-}) & \\text{ si } a_0^- \\leq x < a_1^-\\\\\n",
    "1 & \\text{ si } a_1^- \\leq x < a_1^+ \\\\\n",
    "R(\\frac{a_0^+ - x}{a_0^+ - a_1^+}) & \\text{ si } a_1^+ \\leq x < a_0^+\\\\\n",
    "0             & \\text{ si } x \\ge a_0^+,\n",
    "\\end{array}\\right.\n",
    "$$\n"
   ]
  },
  {
   "cell_type": "markdown",
   "metadata": {},
   "source": [
    "**En primer lugar** tomamos la función de la izquierda $y=L(\\frac{x-a_0^-}{a_1^- - a_0^-})$ y procedemos a despejar en función a x:\n",
    "\n",
    "$y=L(\\frac{x-a_0^-}{a_1^- - a_0^-}) \\rightarrow L^{-1}(y) = \\frac{x-a_0^-}{a_1^- - a_0^-} \\rightarrow L^{-1}(y)*(a_1^- - a_0^-) = x-a_0^-$\n",
    "\n",
    "$\\rightarrow L^{-1}(y)*(a_1^- - a_0^-) + a_0^- = x \\rightarrow a_0^-+L^{-1}(y)\\underline{a} = x \\rightarrow a_0^-+L^{-1}(\\alpha)\\underline{a} = x$"
   ]
  },
  {
   "cell_type": "markdown",
   "metadata": {},
   "source": [
    "Con esto queda demostrado el corte $\\alpha$ de la izquierda. \n",
    "\n",
    "**En segundo lugar** tomamos la función $y = R(\\frac{a_0^+ - x}{a_0^+ - a_1^+})$ y despejamos en función a x:\n",
    "\n",
    "$ y = R(\\frac{a_0^+ - x}{a_0^+ - a_1^+}) \\rightarrow R^{-1}(y) = \\frac{a_0^+ - x}{a_0^+ - a_1^+} \\rightarrow R^{-1}(y)(a_0^+ - a_1^+) = a_0^+ - x$\n",
    "\n",
    "$ \\rightarrow x= a_0^+ - R^{-1}(y)(a_0^+ - a_1^+) \\rightarrow x=a_0^+-R^{-1}(y)\\overline a \\rightarrow x=a_0^+-R^{-1}(\\alpha)\\overline a $\n"
   ]
  },
  {
   "cell_type": "markdown",
   "metadata": {},
   "source": [
    "Con esto queda demostrado el corte $\\alpha$ de la derecha"
   ]
  },
  {
   "cell_type": "markdown",
   "metadata": {},
   "source": [
    "**Por tanto**, hemos demostrado que se cumple que $u_\\alpha=[a_0^-+L^{-1}(\\alpha)\\underline{a}, a_0^+-R^{-1}(\\alpha)\\overline a]$"
   ]
  },
  {
   "cell_type": "markdown",
   "metadata": {},
   "source": [
    "---\n",
    "**Ejercicio 6.** Sea $L(x)=R(x)=x^a$, con $a>0$. Escribe la función de membresía y los cortes alfa en forma intervalar de los números L-R basados en estas funciones."
   ]
  },
  {
   "cell_type": "markdown",
   "metadata": {},
   "source": [
    "**En primer lugar**, escribimos su función de membresía:\n",
    "\n",
    "$$A(x)=\\left\\{ \\begin{array}{ll}\n",
    "0             & \\text{ si } x < 0\\\\\n",
    "(\\frac{x-a_0^-}{a_1^- - a_0^-})^{a} & \\text{ si } a_0^- \\leq x < a_1^-\\\\\n",
    "1 & \\text{ si } a_1^- \\leq x < a_1^+ \\\\\n",
    "(\\frac{a_0^+ - x}{a_0^+ - a_1^+})^{a}& \\text{ si } a_1^+ \\leq x < a_0^+\\\\\n",
    "0             & \\text{ si } x \\ge a_0^+,\n",
    "\\end{array}\\right.\n",
    "$$\n",
    "\n",
    "**En segundo lugar**, escribimos sus cortes $\\alpha$:\n",
    "\n",
    "Tomamos la ecuación de la izquierda $ y = (\\frac{x-a_0^-}{a_1^- - a_0^-})^{a}$ y despejamos el valor de x\n",
    "\n",
    "$ y = (\\frac{x-a_0^-}{a_1^- - a_0^-})^{a} \\rightarrow \\sqrt[a]{y} = \\frac{x-a_0^-}{a_1^- - a_0^-} \\rightarrow \\sqrt[a]{y}(a_1^- - a_0^-) = x-a_0^-$\n",
    "\n",
    "$\\rightarrow x = \\sqrt[a]{y}(a_1^- - a_0^-) + a_0^- \\rightarrow x = \\underline{a}\\sqrt[a]{y} + a_0^- \\rightarrow x = \\underline{a}\\sqrt[a]{\\alpha} + a_0^-$\n"
   ]
  },
  {
   "cell_type": "markdown",
   "metadata": {},
   "source": [
    "Con esto hallamos el corte $\\alpha$ de la izquierda"
   ]
  },
  {
   "cell_type": "markdown",
   "metadata": {},
   "source": [
    "Tomamos la ecuación de la derecha $y = (\\frac{a_0^+ - x}{a_0^+ - a_1^+})^{a}$ y despejamos el valor de x\n",
    "\n",
    "$y = (\\frac{a_0^+ - x}{a_0^+ - a_1^+})^{a} \\rightarrow \\sqrt[a]{y} = \\frac{a_0^+ - x}{a_0^+ - a_1^+} \\rightarrow \\sqrt[a]{y}(a_0^+ - a_1^+) = a_0^+ - x$\n",
    "\n",
    "$\\rightarrow x = a_0^+ - \\sqrt[a]{y}(a_0^+ - a_1^+) \\rightarrow x = a_0^+ - \\overline a\\sqrt[a]{y} \\rightarrow x = a_0^+ - \\overline a\\sqrt[a]{\\alpha}$"
   ]
  },
  {
   "cell_type": "markdown",
   "metadata": {},
   "source": [
    "Con esto hallamos el corte $\\alpha$ de la derecha"
   ]
  },
  {
   "cell_type": "markdown",
   "metadata": {},
   "source": [
    "Por tanto, sus cortes $\\alpha$ son los siguientes:\n",
    "$$ ^{\\alpha}A = [\\underline{a}\\sqrt[a]{\\alpha} + a_0^-, a_0^+ - \\overline a\\sqrt[a]{\\alpha}]$$\n"
   ]
  },
  {
   "cell_type": "markdown",
   "metadata": {},
   "source": [
    "---\n",
    "**Ejercicio 7.** Sea $u=\\text{trfn}(2,5,6,7)$ un número difuso trapezoidal y $v=\\text{tfn}(1,4,5)$ un número difuso triangular. Dibuja $u$ y $v$ y calcula la función de membresía de:\n",
    "\n",
    "1. $u+v$.\n",
    "2. $u-v$.\n",
    "3. $-2u+v$.\n",
    "4. $u-u$.\n",
    "5. $2v-v$.\n",
    "6. Dibuja cada resultado uno encima de otro, en una misma gráfica."
   ]
  },
  {
   "cell_type": "markdown",
   "metadata": {},
   "source": []
  },
  {
   "cell_type": "markdown",
   "metadata": {},
   "source": [
    "---\n",
    "**Ejercicio 8.** Demuestra las propiedades de abajo.\n",
    "\n",
    "1. Para cualquier número difuso $u$ y cualquier $a,b\\in \\mathbb{R}$, con $a\\cdot b\\geq 0$, se cumple $(a+b)\\cdot u=(a\\cdot u)+(b\\cdot u)$.\n",
    "2. Para cualquier $\\lambda\\in\\mathbb{R}$ y cualesquiera números difusos $u,v$, se cumple $\\lambda\\cdot (u+v)=\\lambda\\cdot u+\\lambda\\cdot v$.\n",
    "3. Para cualquier $\\lambda,\\mu\\in\\mathbb{R}$ y cualquier número difuso $u$, se cumple $(\\lambda\\cdot \\mu)\\cdot u=\\lambda\\cdot (\\mu\\cdot u)$."
   ]
  },
  {
   "cell_type": "markdown",
   "metadata": {},
   "source": []
  },
  {
   "cell_type": "markdown",
   "metadata": {},
   "source": [
    "---\n",
    "**Ejercicio 9.** Calcula el producto entre el número trapezoidal $u=\\text{trfn}(2, 5, 6, 8)$ y el número triangular $v=\\text{tfn}(1, 4, 5)$.\n",
    "\n",
    "1. Escribe la función de membresía o el intérvalo del corte alfa de $u\\cdot v$.\n",
    "2. Dibuja $u, v$ y su producto $u\\cdot v$ en una misma gráfica."
   ]
  },
  {
   "cell_type": "markdown",
   "metadata": {},
   "source": [
    "**Item 1.** Escribe la función de membresía o el intérvalo del corte alfa de $u\\cdot v$."
   ]
  },
  {
   "cell_type": "markdown",
   "metadata": {},
   "source": [
    "En primer lugar, hallamos las funciones de membresía de ambos números.\n",
    "\n",
    "Para $u=\\text{trfn}(2, 5, 6, 8)$ la función de membresía está dada por:\n",
    "\n",
    "$$A(x)=\\left\\{ \\begin{array}{ll}\n",
    "0             & \\text{ si } x < 2\\\\\n",
    "\\frac{x-2}{3} & \\text{ si } 2 \\leq x < 5\\\\\n",
    "1 & \\text{ si } 5 \\leq x < 6 \\\\\n",
    "\\frac{8-x}{2} & \\text{ si } 6 \\leq x < 8\\\\\n",
    "0             & \\text{ si } x \\ge 8,\n",
    "\\end{array}\\right.\n",
    "$$\n",
    "\n",
    "Para $v=\\text{tfn}(1, 4, 5)$ la función de membresía es la siguiente:\n",
    "\n",
    "$$B(x)=\\left\\{ \\begin{array}{ll}\n",
    "0             & \\text{ si } x\\leq -3\\\\\n",
    "1+\\frac{x-1}{4} & \\text{ si }  -3 < x < 1\\\\\n",
    "1-\\frac{x-1}{5}& \\text{ si } 1 \\leq x < 6\\\\\n",
    "0             & \\text{ si } x \\ge 6,\n",
    "\\end{array}\\right.\n",
    "$$\n"
   ]
  },
  {
   "cell_type": "code",
   "execution_count": 7,
   "metadata": {},
   "outputs": [],
   "source": [
    "# Calcular cortes alfa de u\n",
    "ec_izquierda_u = y==(x-2)/3\n",
    "ec_izquierda_u = solve(ec_izquierda_u, x)\n",
    "ec_derecha_u = y==(8-x)/2\n",
    "ec_derecha_u = solve(ec_derecha_u, x)\n",
    "# Calcular cortes alfa de v\n",
    "ec_izquierda_v = y==1+(x-1)/4\n",
    "ec_izquierda_v = solve(ec_izquierda_v, x)\n",
    "ec_derecha_v = y==1-(x-1)/5\n",
    "ec_derecha_v = solve(ec_derecha_v, x)"
   ]
  },
  {
   "cell_type": "code",
   "execution_count": 8,
   "metadata": {},
   "outputs": [
    {
     "data": {
      "text/plain": [
       "[x == 3*y + 2]"
      ]
     },
     "execution_count": 8,
     "metadata": {},
     "output_type": "execute_result"
    }
   ],
   "source": [
    "ec_izquierda_u"
   ]
  },
  {
   "cell_type": "code",
   "execution_count": 9,
   "metadata": {},
   "outputs": [
    {
     "data": {
      "text/plain": [
       "[x == -2*y + 8]"
      ]
     },
     "execution_count": 9,
     "metadata": {},
     "output_type": "execute_result"
    }
   ],
   "source": [
    "ec_derecha_u"
   ]
  },
  {
   "cell_type": "markdown",
   "metadata": {},
   "source": [
    "Por tanto, el corte $\\alpha$ de la función $u=\\text{trfn}(2, 5, 6, 8)$ son $$ ^{\\alpha}A = [3\\alpha +2,2\\alpha +8 ]$$"
   ]
  },
  {
   "cell_type": "code",
   "execution_count": 10,
   "metadata": {},
   "outputs": [
    {
     "data": {
      "text/plain": [
       "[x == 4*y - 3]"
      ]
     },
     "execution_count": 10,
     "metadata": {},
     "output_type": "execute_result"
    }
   ],
   "source": [
    "ec_izquierda_v"
   ]
  },
  {
   "cell_type": "code",
   "execution_count": 11,
   "metadata": {},
   "outputs": [
    {
     "data": {
      "text/plain": [
       "[x == -5*y + 6]"
      ]
     },
     "execution_count": 11,
     "metadata": {},
     "output_type": "execute_result"
    }
   ],
   "source": [
    "ec_derecha_v"
   ]
  },
  {
   "cell_type": "markdown",
   "metadata": {},
   "source": [
    "Por tanto, el corte $\\alpha$ de la función $v=\\text{tfn}(1, 4, 5)$ son $$ ^{\\alpha}B = [4\\alpha-3, -5\\alpha+6]$$"
   ]
  },
  {
   "cell_type": "markdown",
   "metadata": {},
   "source": [
    "Con los cortes $\\alpha$ de cada función individual, podemos hallar el corte $\\alpha$ de $u\\cdot v$"
   ]
  },
  {
   "cell_type": "code",
   "execution_count": 19,
   "metadata": {},
   "outputs": [],
   "source": [
    "corte_alpha_izq = ec_izquierda_u[0]*ec_izquierda_v[0]\n",
    "#corte_alpha_izq = solve(corte_alpha_izq, x)\n",
    "corte_alpha_der = ec_derecha_u[0]*ec_derecha_u[0]\n",
    "#corte_alpha_der = solve(corte_alpha_der, x)"
   ]
  },
  {
   "cell_type": "code",
   "execution_count": 20,
   "metadata": {},
   "outputs": [
    {
     "data": {
      "text/plain": [
       "x^2 == (4*y - 3)*(3*y + 2)"
      ]
     },
     "execution_count": 20,
     "metadata": {},
     "output_type": "execute_result"
    }
   ],
   "source": [
    "corte_alpha_izq"
   ]
  },
  {
   "cell_type": "code",
   "execution_count": 21,
   "metadata": {},
   "outputs": [
    {
     "data": {
      "text/plain": [
       "x^2 == (4*y - 3)*(3*y + 2)"
      ]
     },
     "execution_count": 21,
     "metadata": {},
     "output_type": "execute_result"
    }
   ],
   "source": [
    "corte_alpha_izq"
   ]
  },
  {
   "cell_type": "markdown",
   "metadata": {},
   "source": [
    "Por tanto, tenemos que $$ ^{\\alpha}(A \\cdot B)=(^{\\alpha}A) \\cdot (^{\\alpha}B) = [(3\\alpha +2) \\cdot (4\\alpha-3),(2\\alpha +8) \\cdot (-5\\alpha+6)]$$\n"
   ]
  },
  {
   "cell_type": "markdown",
   "metadata": {},
   "source": [
    "$$^{\\alpha}(A \\cdot B) = [12 \\alpha^2 - \\alpha -6, -10 \\alpha^2 -28 \\alpha + 48 ]$$\n"
   ]
  },
  {
   "cell_type": "markdown",
   "metadata": {},
   "source": [
    "**Item 2.** Dibuja $u, v$ y su producto $u\\cdot v$ en una misma gráfica."
   ]
  },
  {
   "cell_type": "code",
   "execution_count": 75,
   "metadata": {},
   "outputs": [],
   "source": [
    "# Graficamos u\n",
    "# Calcular valores de u en función a y\n",
    "ec_izquierda_u = y==(x-2)/3\n",
    "ec_izquierda_u = solve(ec_izquierda_u, y)\n",
    "ec_derecha_u = y==(8-x)/2\n",
    "ec_derecha_u = solve(ec_derecha_u, y)\n",
    "# Calcular valores de función a y\n",
    "ec_izquierda_v = y==1+(x-1)/4\n",
    "ec_izquierda_v = solve(ec_izquierda_v, y)\n",
    "ec_derecha_v = y==1-(x-1)/5\n",
    "ec_derecha_v = solve(ec_derecha_v, y)\n",
    "#Comprobamos sus valores"
   ]
  },
  {
   "cell_type": "code",
   "execution_count": 76,
   "metadata": {},
   "outputs": [
    {
     "data": {
      "text/plain": [
       "[y == 1/3*x - 2/3]"
      ]
     },
     "execution_count": 76,
     "metadata": {},
     "output_type": "execute_result"
    }
   ],
   "source": [
    "ec_izquierda_u"
   ]
  },
  {
   "cell_type": "code",
   "execution_count": 78,
   "metadata": {},
   "outputs": [
    {
     "data": {
      "text/plain": [
       "[y == -1/2*x + 4]"
      ]
     },
     "execution_count": 78,
     "metadata": {},
     "output_type": "execute_result"
    }
   ],
   "source": [
    "ec_derecha_u"
   ]
  },
  {
   "cell_type": "code",
   "execution_count": 77,
   "metadata": {},
   "outputs": [
    {
     "data": {
      "text/plain": [
       "[y == 1/4*x + 3/4]"
      ]
     },
     "execution_count": 77,
     "metadata": {},
     "output_type": "execute_result"
    }
   ],
   "source": [
    "ec_izquierda_v"
   ]
  },
  {
   "cell_type": "code",
   "execution_count": 79,
   "metadata": {},
   "outputs": [
    {
     "data": {
      "text/plain": [
       "[y == -1/5*x + 6/5]"
      ]
     },
     "execution_count": 79,
     "metadata": {},
     "output_type": "execute_result"
    }
   ],
   "source": [
    "ec_derecha_v"
   ]
  },
  {
   "cell_type": "code",
   "execution_count": 80,
   "metadata": {},
   "outputs": [],
   "source": [
    "# Hallamos valores de u*v para graficar\n",
    "f1(y) = x==12*(y)**2-y-6\n",
    "f1(x) = solve(f1(y),y)\n"
   ]
  },
  {
   "cell_type": "code",
   "execution_count": 83,
   "metadata": {},
   "outputs": [
    {
     "data": {
      "text/plain": [
       "(y == -1/24*sqrt(48*x + 289) + 1/24, y == 1/24*sqrt(48*x + 289) + 1/24)"
      ]
     },
     "execution_count": 83,
     "metadata": {},
     "output_type": "execute_result"
    }
   ],
   "source": [
    "f1(x)"
   ]
  },
  {
   "cell_type": "code",
   "execution_count": 82,
   "metadata": {},
   "outputs": [],
   "source": [
    "f2(y) = x==-10*(y)**2-28*y+48\n",
    "f2(x) = solve(f2(y),y)"
   ]
  },
  {
   "cell_type": "code",
   "execution_count": 84,
   "metadata": {},
   "outputs": [
    {
     "data": {
      "text/plain": [
       "(y == -1/10*sqrt(-10*x + 676) - 7/5, y == 1/10*sqrt(-10*x + 676) - 7/5)"
      ]
     },
     "execution_count": 84,
     "metadata": {},
     "output_type": "execute_result"
    }
   ],
   "source": [
    "f2(x)"
   ]
  },
  {
   "cell_type": "markdown",
   "metadata": {},
   "source": [
    "---\n",
    "**Ejercicio 10.** Escribe una expresión para los cortes alfa del producto de dos números difusos triangulares $u=\\text{tfn}(a_1,b_1,c_1)$ y $v=\\text{tfn}(a_2,b_2,c_2)$. Escribe la familia de cortes alfa en forma intervalar de $u\\cdot v$."
   ]
  },
  {
   "cell_type": "markdown",
   "metadata": {},
   "source": []
  }
 ],
 "metadata": {
  "kernelspec": {
   "display_name": "SageMath 9.5",
   "language": "sage",
   "name": "sagemath"
  },
  "language_info": {
   "codemirror_mode": {
    "name": "ipython",
    "version": 3
   },
   "file_extension": ".py",
   "mimetype": "text/x-python",
   "name": "python",
   "nbconvert_exporter": "python",
   "pygments_lexer": "ipython3",
   "version": "3.10.4"
  }
 },
 "nbformat": 4,
 "nbformat_minor": 4
}
