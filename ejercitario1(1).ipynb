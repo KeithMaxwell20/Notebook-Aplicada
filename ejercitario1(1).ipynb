{
 "cells": [
  {
   "cell_type": "markdown",
   "metadata": {},
   "source": [
    "# __Ejercitario 1__: Conjuntos Difusos y sus Operaciones\n",
    "\n",
    "Responde a las preguntas de abajo utilizando este mismo notebook. Recuerda de seguir las instrucciones de envío que están en la plataforma Educa."
   ]
  },
  {
   "cell_type": "markdown",
   "metadata": {},
   "source": [
    "---\n",
    "**Ejercicio 1.** Definimos un poset $(\\mathbb{R}^n,\\leq)$  donde para todo $x=(x_i)_{i=1}^n,y=(y_i)_{i=1}^n\\in \\mathbb{R}$ tenemos que $x\\leq y$ si y solo si $x_i\\leq y_i$ para todo $i=1,\\dots,n$. Demuestra que $(\\mathbb{R}^n,\\leq)$ es de hecho un poset."
   ]
  },
  {
   "cell_type": "markdown",
   "metadata": {},
   "source": [
    "Un poset es una relación binaria que cumple 3 propiedades: reflexividad, antisimetría y transitividad.\n",
    "Para demostrar que $(\\mathbb{R}^n,\\leq)$ es un poset, procederemos a definir la relación, y luego a demostrar que cumple las 3 propiedades previamente mencionadas.\n",
    "\n",
    "En primer lugar, la relación binaria sobre el poset será de la forma ($(x_i),(y_i)$), desde i=1 hasta n.\n",
    "\n",
    "Para la propiedad de reflexividad, tenemos que $x_i\\leq y_i$ para todo i, lo que significa que todos los elementos de la forma $x_i=y_i$ son miembros válidos de la relación. Por tanto, cumple con la propiedad reflexiva.\n",
    "\n",
    "Para la propiedad de transitividad, dados dos elementos cualesquiera de la relación a,b y c pertenecientes al poset, si tenemos como miembros del poset los elementos (a,b) y (b,c), tenemos por definición que se cumple a<=b y b<=c, por tanto, podemos ver que a<=c es un miembro válido de la relación. Por tanto, cumple con la propiedad transitiva.\n",
    "\n",
    "Para la propiedad antisimétrica, dados 2 elementos cualesquiera a y b pertenecientes al poset, tenemos (a,b) y (b,a). Por definición, esto significa que se cumple que a<=b y b<=a. Esto solamente es posible si a=b. Por tanto, se cumple la propiedad antisimétrica.\n",
    "\n",
    "Esto demuestra que $(\\mathbb{R}^n,\\leq)$ es un poset.\n",
    "\n"
   ]
  },
  {
   "cell_type": "markdown",
   "metadata": {},
   "source": [
    "---\n",
    "**Ejercicio 2.** Sea $\\mathbb{Q}[x]$ el conjunto de todos los polinomios de una sola variable $x$ con coeficientes en los números racionales $\\mathbb{Q}$. Un polinomio de la forma $a_{n-1}x^{n-1}+\\cdots+a_0$ puede representarse como una tupla $(a_{n-1},\\dots,a_0)\\in \\mathbb{Q}^n$.\n",
    "\n",
    "Considera el conjunto de polinomios de una sola variable con coeficientes racionales no negativos $\\mathbb{Q}^{+0}[x]$. Decimos que para dos polinomios $p,q\\in \\mathbb{Q}^{+0}[x]$ se tiene que $p \\leq q$ si los vectores correspondientes de $p$ y $q$ denotados $v_p$ y $v_q$ se cumple que $v_p\\leq v_q$ en el poset $(\\mathbb{R},\\leq)$ del Ejercicio 1. (i) ¿Cuál es el ínfimo de $(\\mathbb{Q}^{+0}[x],\\leq)$? ¿Porqué?. (ii) ¿Cuál es el supremo de $(\\mathbb{Q}^{+0}[x],\\leq)$? ¿Porqué?. (iii) ¿Tiene $(\\mathbb{Q}^{+0}[x],\\leq)$ elementos mínimos o máximos? Explica porque si o porque no, y en caso positivo escribe explícitamente el mínimo o el máximo."
   ]
  },
  {
   "cell_type": "markdown",
   "metadata": {},
   "source": []
  },
  {
   "cell_type": "markdown",
   "metadata": {},
   "source": [
    "---\n",
    "**Ejercicio 3.** Demostrar que $([0,1],\\leq)$ es un retículo completo y distributivo."
   ]
  },
  {
   "cell_type": "markdown",
   "metadata": {},
   "source": []
  },
  {
   "cell_type": "markdown",
   "metadata": {},
   "source": [
    "---\n",
    "**Ejercicio 4.**\n",
    "Considera los conjuntos difusos $A,B:\\{1,2,\\dots,10\\}\\to [0,1]$ definidos como \n",
    "\n",
    "$$A(x)=0.2/2+0.7/3+1/4+0.7/5+0.2/6$$\n",
    "\n",
    "y\n",
    "\n",
    "$$B(x)=0.3/4+0.5/5+0.8/6+1/7+0.5/8+0.2/9.$$\n",
    "\n",
    "1. Escribe utilizando la notación de Zadeh (i) $A\\cup B$, (ii) $A\\cap B$, (iii) $\\overline A$, (iv) $\\overline B$ , (v) $A\\cup \\overline A$, (vi) $A\\cap \\overline A$, (vii) $\\overline{A\\cap B}$, (viii) $\\overline{A\\cup B}$.\n",
    "2. Dibuja los conjuntos (i) $A\\cup B$, (ii) $A\\cap B$, (iii) $\\overline A$, (iv) $\\overline B$ , (v) $A\\cup \\overline A$, (vi) $A\\cap \\overline A$, (vii) $\\overline{A\\cap B}$, (viii) $\\overline{A\\cup B}$.\n",
    "3. Escribe formalmente el soporte (*support*), núcleo (*core*) y altura (*height*) de $A$ y $B$."
   ]
  },
  {
   "cell_type": "markdown",
   "metadata": {},
   "source": []
  },
  {
   "cell_type": "markdown",
   "metadata": {},
   "source": [
    "---\n",
    "**Ejercicio 5.** Considera los conjuntos difusos $A,B:\\mathbb{R}^+\\to [0,1]$ definidos como $A(x)=\\frac{1}{1+x^2}$ y $B(x)=\\frac{1}{10^x}$.\n",
    "\n",
    "1. Escribe utilizando la notación de Zadeh (i) $A\\cup B$, (ii) $A\\cap B$, (iii) $\\overline A$, (iv) $\\overline B$ , (v) $A\\cup \\overline A$, (vi) $A\\cap \\overline A$, (vii) $\\overline{A\\cap B}$, (viii) $\\overline{A\\cup B}$\n",
    "2. Escribe las funciones de membresía de (i) $A\\cup B$, (ii) $A\\cap B$, (iii) $\\overline A$, (iv) $\\overline B$ , (v) $A\\cup \\overline A$, (vi) $A\\cap \\overline A$, (vii) $\\overline{A\\cap B}$, (viii) $\\overline{A\\cup B}$.\n",
    "3. Escribe formalmente el soporte (*support*), núcleo (*core*) y altura (*height*) de $A$ y $B$."
   ]
  },
  {
   "cell_type": "markdown",
   "metadata": {},
   "source": []
  },
  {
   "cell_type": "markdown",
   "metadata": {},
   "source": [
    "---\n",
    "**Ejercicio 6.** Considera los conjuntos difusos $A,B$ definidos como\n",
    "\n",
    "$$A(x)=\\left\\{ \\begin{array}{ll}\n",
    "0             & \\text{ si } x<1\\\\\n",
    "\\frac{x-1}{6} & \\text{ si } 1\\leq x <7\\\\\n",
    "\\frac{10-x}{3}& \\text{ si } 7\\leq x < 10\\\\\n",
    "0             & \\text{ si } 10\\leq x,\n",
    "\\end{array}\\right.\n",
    "$$\n",
    "\n",
    "y\n",
    "\n",
    "$$B(x)=\\left\\{ \\begin{array}{ll}\n",
    "0             & \\text{ si } x<2\\\\\n",
    "x-2           & \\text{ si } 2\\leq x < 3\\\\\n",
    "1             & \\text{ si } 3\\leq x <4\\\\\n",
    "\\frac{6-x}{2} & \\text{ si } 4\\leq x < 6\\\\\n",
    "0             & \\text{ si } 6< x,\n",
    "\\end{array}\\right.\n",
    "$$\n",
    "\n",
    "1. Escribe las funciones de membresía de (i) $A\\cup B$, (ii) $A\\cap B$, (iii) $\\overline A$, (iv) $\\overline B$ , (v) $A\\cup \\overline A$, (vi) $A\\cap \\overline A$, (vii) $\\overline{A\\cap B}$, (viii) $\\overline{A\\cup B}$.\n",
    "2. Dibuja los conjuntos (i) $A\\cup B$, (ii) $A\\cap B$, (iii) $\\overline A$, (iv) $\\overline B$ , (v) $A\\cup \\overline A$, (vi) $A\\cap \\overline A$, (vii) $\\overline{A\\cap B}$, (viii) $\\overline{A\\cup B}$.\n",
    "3. Escribe formalmente el soporte (*support*), núcleo (*core*) y altura (*height*) de $A$ y $B$."
   ]
  },
  {
   "cell_type": "markdown",
   "metadata": {},
   "source": []
  },
  {
   "cell_type": "markdown",
   "metadata": {},
   "source": [
    "---\n",
    "**Ejercicio 7.** Demuestra las propiedades 1 al 5, 7 y 8 en la Proposición 1.15 de libro de Bede (2013)."
   ]
  },
  {
   "cell_type": "markdown",
   "metadata": {},
   "source": []
  },
  {
   "cell_type": "markdown",
   "metadata": {},
   "source": [
    "---\n",
    "**Ejercicio 8.** Demostrar que para cualquier conjunto difuso $A:X\\to[0,1]$ se cumple que para todo $x\\in X$ (i) $A(x)\\cup \\overline A(x) \\geq 0.5$ y (ii) $A(x)\\cap \\overline A(x)\\leq 0.5$."
   ]
  },
  {
   "cell_type": "markdown",
   "metadata": {},
   "source": []
  },
  {
   "cell_type": "markdown",
   "metadata": {},
   "source": [
    "---\n",
    "**Ejercicio 9.** Demostrar que para cualquier par de conjuntos difusos $A:X\\to[0,1]$ y $B:X\\to[0,1]$ se cumple que\n",
    "\n",
    "1. $(A\\cap \\overline B)\\cup (\\overline A \\cap B)\\supseteq  0.5 \\cap (A\\cup B)\\cap (\\overline A\\cup \\overline B)$ y\n",
    "2. $(A\\cup \\overline B)\\cap (\\overline A \\cup B)\\subseteq  0.5 \\cup (A\\cap B)\\cup (\\overline A\\cap \\overline B)$."
   ]
  },
  {
   "cell_type": "markdown",
   "metadata": {},
   "source": []
  },
  {
   "cell_type": "markdown",
   "metadata": {},
   "source": [
    "---\n",
    "**Ejercicio 10.** Denotamos por $T_L$ y $S_L$ la t-norma y t-conomar de Łukasiewicz y están definidas como\n",
    "\n",
    "$$xT_Ly=(x+y-1)\\lor 0$$\n",
    "\n",
    "y\n",
    "\n",
    "$$xS_Ly=(x+y)\\land 1.$$\n",
    "\n",
    "Demostrar que $T_L$ y $S_L$ es una t-norma y t-conorma, respectivamente."
   ]
  },
  {
   "cell_type": "markdown",
   "metadata": {},
   "source": []
  },
  {
   "cell_type": "markdown",
   "metadata": {},
   "source": [
    "---\n",
    "**Ejercicio 11.** Considera los conjuntos difusos $A,B:\\mathbb{R}^+\\to[0,1]$ definidos como $A(x)=1/(1+x^2)$ y $B(x)=1/10^x$. Escribe formalmente como funciones $AT_LB$, $AS_LB$, $AT_GB$, $AS_GB$, donde $T_L$ y $S_L$ son la t-norma y t-conorma de Łukasiewicz y $T_G$ y $S_G$ son la t-norma y t-conorma de Goguen. Presenta una gráfica de cada uno."
   ]
  },
  {
   "cell_type": "markdown",
   "metadata": {},
   "source": []
  }
 ],
 "metadata": {
  "kernelspec": {
   "display_name": "Python 3 (ipykernel)",
   "language": "python",
   "name": "python3"
  },
  "language_info": {
   "codemirror_mode": {
    "name": "ipython",
    "version": 3
   },
   "file_extension": ".py",
   "mimetype": "text/x-python",
   "name": "python",
   "nbconvert_exporter": "python",
   "pygments_lexer": "ipython3",
   "version": "3.10.2"
  }
 },
 "nbformat": 4,
 "nbformat_minor": 4
}
