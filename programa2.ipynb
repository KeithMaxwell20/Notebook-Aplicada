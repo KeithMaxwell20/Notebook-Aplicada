{
 "cells": [
  {
   "cell_type": "markdown",
   "id": "0449c039-d329-4f50-8765-911c40284e21",
   "metadata": {},
   "source": [
    "# __Programa 2__: Autómata Difuso\n",
    "\n",
    "Implementación de un autómata Difuso"
   ]
  },
  {
   "cell_type": "code",
   "execution_count": 232,
   "id": "20916f9a-df8f-4369-ac5d-9a81e05793b5",
   "metadata": {},
   "outputs": [],
   "source": [
    "from collections import defaultdict\n",
    " \n",
    "\n",
    "# Esta clase representa a un grafo con una lista de adyacencia \n",
    " \n",
    "class Grafo:\n",
    " \n",
    "    # Constructor\n",
    "    def __init__(self):\n",
    "        self.grafo = defaultdict(list) # Contiene vértices y aristas\n",
    "        self.valoresCaminos = [] # Contiene los costos de cada camino válido\n",
    " \n",
    "\n",
    "    # Añadimos una arista al grafo, con u y v como los estados,\n",
    "    # letra_input como la letra necesaria para pasar de u a v\n",
    "    # y grado_pertenencia para el grado de la arista\n",
    "    \n",
    "    def agregarArista(self, u, v, letra_input, grado_pertenencia):\n",
    "        self.grafo[u].append([v, letra_input, grado_pertenencia])\n",
    " \n",
    "    # Función recursiva usada para hallar todos los caminos válidos para el input\n",
    "    # Recibe un vértice\n",
    "    # El input como lista\n",
    "    # La posición del input en la que nos hallamos\n",
    "    # La longitud del camino que está tomando\n",
    "    # Los nodos de aceptación\n",
    "    def backtracking_recursivo(self, v, input, posInput, longitudCamino, nodosAceptacion, caminoTomado, posCamino):\n",
    "\n",
    "        caminoTomado.append(v)\n",
    "        \n",
    "        # Toma todos los vértices adyacentes \n",
    "        for vecino in self.grafo[v]:\n",
    "            \n",
    "            if len(input) > posInput:\n",
    "                letraAlfabeto = vecino[1]\n",
    "                \n",
    "                if letraAlfabeto == input[posInput]:\n",
    "                    \n",
    "                    verticeAdyacente = vecino[0]\n",
    "                    gradoMembresiaArista = vecino[2]\n",
    "                    self.backtracking_recursivo(verticeAdyacente, input, posInput+1, min(longitudCamino, gradoMembresiaArista), nodosAceptacion, caminoTomado, posCamino+1)\n",
    "                    \n",
    "            else:\n",
    "                \n",
    "                print(caminoTomado)\n",
    "                caminoTomado = caminoTomado[:len(caminoTomado)-posCamino]\n",
    "                \n",
    "                if v in nodosAceptacion:\n",
    "                    print(\"Grado de membresía del camino:\", longitudCamino)\n",
    "                    self.valoresCaminos.append(longitudCamino)\n",
    "                    return longitudCamino\n",
    "                else:\n",
    "                    print(\"Este camino no lleva a un estado de aceptación\")\n",
    "\n",
    " \n",
    "    # Función para hallar el camino con máximo grado de membresía\n",
    "    def backtracking(self, v, input, alfabeto, nodosAceptacion):\n",
    "        \n",
    "        if verificarInput(input, alfabeto):\n",
    "            self.backtracking_recursivo(v, input, 0, 1, nodosAceptacion, [], 0)\n",
    "            print()\n",
    "            if len(self.valoresCaminos) > 0:\n",
    "                print(\"Grado de membresía final del input:\", max(self.valoresCaminos))\n",
    "            else:\n",
    "                print(\"El input no es aceptado\")\n",
    "        else:\n",
    "            print(\"Input inválido\")"
   ]
  },
  {
   "cell_type": "code",
   "execution_count": 233,
   "id": "0de3edd5-1840-4668-b781-d414e0ce5a79",
   "metadata": {},
   "outputs": [
    {
     "name": "stdout",
     "output_type": "stream",
     "text": [
      "Búsqueda desde el nodo inicial (0)\n",
      "[0, 1, 2, 3, 3, 3, 3]\n",
      "Grado de membresía del camino: 0.4\n",
      "[0, 1, 2, 3, 3, 3, 3, 2, 3, 3, 3, 3, 3]\n",
      "Grado de membresía del camino: 0.3\n",
      "\n",
      "Grado de membresía final del input: 0.4\n"
     ]
    }
   ],
   "source": [
    "# Ejemplo 1\n",
    "\n",
    "g = Grafo()\n",
    "\n",
    "# Los 2 primeros elementos de \"agregarArista\" son 2 vértices u y v\n",
    "# El tercer elemento es el valor del alfabeto que los une\n",
    "# y el cuarto valor es el grado de pertenencia de la arista\n",
    "\n",
    "g.agregarArista(0, 1, 'a', 0.5)\n",
    "g.agregarArista(0, 2, 'a', 0.3)\n",
    "g.agregarArista(1, 2, 'a', 0.4)\n",
    "g.agregarArista(2, 0, 'b', 1)\n",
    "g.agregarArista(2, 3, 'a', 0.8)\n",
    "g.agregarArista(3, 3, 'a', 0.5)\n",
    "\n",
    "input=['a','a', 'a', 'a', 'a', 'a']\n",
    "alfabeto=['a','b','c']\n",
    "nodosAceptacion = [3]\n",
    "\n",
    "print(\"Búsqueda desde el nodo inicial (0)\")\n",
    "g.backtracking(0, input, alfabeto, nodosAceptacion)"
   ]
  },
  {
   "cell_type": "code",
   "execution_count": 234,
   "id": "ef0efa6b-f30b-4b86-b039-4e2602d19df9",
   "metadata": {},
   "outputs": [
    {
     "name": "stdout",
     "output_type": "stream",
     "text": [
      "Búsqueda desde el nodo inicial (0)\n",
      "Input inválido\n"
     ]
    }
   ],
   "source": [
    "# Ejemplo 2\n",
    "\n",
    "g = Grafo()\n",
    "\n",
    "g.agregarArista(0, 1, 'a', 0.5)\n",
    "g.agregarArista(0, 2, 'a', 0.3)\n",
    "g.agregarArista(1, 2, 'a', 0.4)\n",
    "g.agregarArista(2, 0, 'b', 1)\n",
    "g.agregarArista(2, 3, 'a', 0.8)\n",
    "g.agregarArista(3, 3, 'a', 0.5)\n",
    "\n",
    "input=['d','a']\n",
    "alfabeto=['a','b','c']\n",
    "nodosAceptacion = [3]\n",
    "\n",
    "print(\"Búsqueda desde el nodo inicial (0)\")\n",
    "g.backtracking(0, input, alfabeto, nodosAceptacion)"
   ]
  },
  {
   "cell_type": "code",
   "execution_count": 235,
   "id": "f083fe58-3b4c-4743-9725-31ff7111f076",
   "metadata": {},
   "outputs": [
    {
     "name": "stdout",
     "output_type": "stream",
     "text": [
      "Búsqueda desde el nodo inicial (0)\n",
      "[0, 1, 2]\n",
      "Grado de membresía del camino: 0.4\n",
      "[0, 1, 2, 2, 3]\n",
      "Este camino no lleva a un estado de aceptación\n",
      "\n",
      "Grado de membresía final del input: 0.4\n"
     ]
    }
   ],
   "source": [
    "# Ejemplo 3\n",
    "\n",
    "g = Grafo()\n",
    "\n",
    "g.agregarArista(0, 1, 'a', 0.5)\n",
    "g.agregarArista(0, 2, 'a', 0.3)\n",
    "g.agregarArista(1, 2, 'a', 0.4)\n",
    "g.agregarArista(2, 0, 'b', 1)\n",
    "g.agregarArista(2, 3, 'a', 0.8)\n",
    "g.agregarArista(3, 3, 'a', 0.5)\n",
    "\n",
    "input=['a','a']\n",
    "alfabeto=['a','b','c']\n",
    "nodosAceptacion = [2]\n",
    "\n",
    "print(\"Búsqueda desde el nodo inicial (0)\")\n",
    "g.backtracking(0, input, alfabeto, nodosAceptacion)"
   ]
  },
  {
   "cell_type": "code",
   "execution_count": 236,
   "id": "a8d37dcd-8759-47c1-a9c4-ae89379c6241",
   "metadata": {},
   "outputs": [
    {
     "name": "stdout",
     "output_type": "stream",
     "text": [
      "Búsqueda desde el nodo inicial (0)\n",
      "[0, 1]\n",
      "Grado de membresía del camino: 0.5\n",
      "[0, 1, 2]\n",
      "Este camino no lleva a un estado de aceptación\n",
      "[0, 1]\n",
      "Este camino no lleva a un estado de aceptación\n",
      "\n",
      "Grado de membresía final del input: 0.5\n"
     ]
    }
   ],
   "source": [
    "# Ejemplo 4\n",
    "\n",
    "g = Grafo()\n",
    "\n",
    "g.agregarArista(0, 1, 'a', 0.5)\n",
    "g.agregarArista(0, 2, 'a', 0.3)\n",
    "g.agregarArista(1, 2, 'a', 0.4)\n",
    "g.agregarArista(2, 0, 'b', 1)\n",
    "g.agregarArista(2, 3, 'a', 0.8)\n",
    "g.agregarArista(3, 3, 'a', 0.5)\n",
    "\n",
    "input=['a']\n",
    "alfabeto=['a','b','c']\n",
    "nodosAceptacion = [1]\n",
    "\n",
    "print(\"Búsqueda desde el nodo inicial (0)\")\n",
    "g.backtracking(0, input, alfabeto, nodosAceptacion)"
   ]
  },
  {
   "cell_type": "code",
   "execution_count": null,
   "id": "7343b087-a774-4714-8c01-14ad74a0d409",
   "metadata": {},
   "outputs": [],
   "source": []
  }
 ],
 "metadata": {
  "kernelspec": {
   "display_name": "Python 3 (ipykernel)",
   "language": "python",
   "name": "python3"
  },
  "language_info": {
   "codemirror_mode": {
    "name": "ipython",
    "version": 3
   },
   "file_extension": ".py",
   "mimetype": "text/x-python",
   "name": "python",
   "nbconvert_exporter": "python",
   "pygments_lexer": "ipython3",
   "version": "3.10.2"
  }
 },
 "nbformat": 4,
 "nbformat_minor": 5
}
