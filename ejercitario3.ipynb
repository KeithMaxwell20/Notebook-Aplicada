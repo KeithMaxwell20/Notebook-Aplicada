{
 "cells": [
  {
   "cell_type": "markdown",
   "metadata": {},
   "source": [
    "# __Ejercitario 3__: Relaciones Difusas\n",
    "\n",
    "Responde a las preguntas de abajo utilizando este mismo notebook. Recuerda de seguir las instrucciones de envío que están en la plataforma Educa."
   ]
  },
  {
   "cell_type": "markdown",
   "metadata": {},
   "source": [
    "---\n",
    "**Ejercicio 1.** En el texto de Bede (2013) lee la Definición 3.19 (p.38) de la composición $\\min\\!\\!\\to$ entre dos relaciones $R$ y $S$, denotado $R \\lhd S$, y su operación dual $R\\rhd S$. Demuestra que:\n",
    "\n",
    "1. $(R\\lhd S) = (S^{-1}\\rhd R^{-1})^{-1}$.\n",
    "2. $(R\\rhd S) = (S^{-1} \\lhd R^{-1})^{-1}$."
   ]
  },
  {
   "cell_type": "markdown",
   "metadata": {},
   "source": [
    "\n"
   ]
  },
  {
   "cell_type": "markdown",
   "metadata": {},
   "source": [
    "---\n",
    "**Ejercicio 2.** Escribe una subrutina que tome como entrada dos matrices representando relaciones difusas $R$ y $S$ y retorne (o imprima en pantalla) $R\\lhd S$. Escribe al menos dos ejemplos diferentes que muestren como funciona tu algoritmo. Puedes elegir tu lenguaje de programación favorito para este ejercicio."
   ]
  },
  {
   "cell_type": "markdown",
   "metadata": {},
   "source": [
    "**Solución**:"
   ]
  },
  {
   "cell_type": "markdown",
   "metadata": {},
   "source": [
    "Función que calcula $R\\lhd S$:"
   ]
  },
  {
   "cell_type": "code",
   "execution_count": 14,
   "metadata": {},
   "outputs": [],
   "source": [
    "import numpy as np\n",
    "\n",
    "# Realiza la operación de composición\n",
    "#   Recibe 2 valores numéricos\n",
    "def composicion(x,y):\n",
    "    if x <= y:\n",
    "        return 1\n",
    "    else:\n",
    "        return y\n",
    "    \n",
    "# Realiza la operación de min->composición\n",
    "#    Recibe 2 matrices de numpy con columna_1=fila_2\n",
    "def minComposicion(m1,m2):\n",
    "    # Obtenemos filas y columnas de las 2 matrices pasadas como input\n",
    "    fil_m1, col_m1 = m1.shape\n",
    "    fil_m2, col_m2 = m2.shape\n",
    "    # Creamos una tercera matriz que almacene los resultados\n",
    "    m3 = np.ones((fil_m1, col_m2))\n",
    "    # Realizamos la operación de min->composición\n",
    "    for x in range(fil_m1):\n",
    "        for z in range(col_m2):\n",
    "            minimo = 1 # Valor ínfimo\n",
    "            for y in range(col_m1):\n",
    "                minimo = min([minimo, composicion(m1[x][y], m2[y][z])])\n",
    "            m3[x,z]=minimo\n",
    "    return m3\n",
    "                  \n",
    "    "
   ]
  },
  {
   "cell_type": "code",
   "execution_count": 16,
   "metadata": {},
   "outputs": [
    {
     "name": "stdout",
     "output_type": "stream",
     "text": [
      "[[0.2 1. ]\n",
      " [0.2 1. ]\n",
      " [0.3 1. ]]\n"
     ]
    }
   ],
   "source": [
    "# Ejemplo 1\n",
    "R = np.array([[0.1, 0.8, 0.3],[0.5, 0.2, 0.4],[0.6, 1, 0.2]])\n",
    "S = np.array([[0.9, 1],[0.3, 1],[0.2, 0.7]])\n",
    "\n",
    "m_resultante = minComposicion(R,S)\n",
    "print(m_resultante)\n",
    "\n",
    "    "
   ]
  },
  {
   "cell_type": "code",
   "execution_count": 24,
   "metadata": {},
   "outputs": [
    {
     "name": "stdout",
     "output_type": "stream",
     "text": [
      "[[0.3 1. ]\n",
      " [0.3 0.6]]\n"
     ]
    }
   ],
   "source": [
    "# Ejemplo 2\n",
    "R = np.array([[0.4, 0.5, 0.4],[0.7, 0.4, 0.4]])\n",
    "S = np.array([[0.6, 0.6],[0.3, 1],[0.9, 0.6]])\n",
    "\n",
    "m_resultante = minComposicion(R,S)\n",
    "print(m_resultante)\n",
    "\n",
    "    "
   ]
  },
  {
   "cell_type": "markdown",
   "metadata": {},
   "source": [
    "---\n",
    "**Ejercicio 3.** Escribe una subrutina que tome como entrada dos matrices representando relaciones difusas $R$ y $S$ y retorne (o imprima en pantalla) $R\\rhd S$. Escribe al menos dos ejemplos diferentes que muestren como funciona tu algoritmo. Puedes elegir tu lenguaje de programación favorito para este ejercicio."
   ]
  },
  {
   "cell_type": "markdown",
   "metadata": {},
   "source": [
    "Función que calcula $R\\rhd S$:"
   ]
  },
  {
   "cell_type": "code",
   "execution_count": 30,
   "metadata": {},
   "outputs": [],
   "source": [
    "import numpy as np\n",
    "\n",
    "# Realiza la operación de composición\n",
    "#   Recibe 2 valores numéricos\n",
    "def composicion(x,y):\n",
    "    if x <= y:\n",
    "        return 1\n",
    "    else:\n",
    "        return y\n",
    "    \n",
    "# Realiza la operación de min->composición\n",
    "#    Recibe 2 matrices de numpy con columna_1=fila_2\n",
    "def minComposicion(m1,m2):\n",
    "    # Obtenemos filas y columnas de las 2 matrices pasadas como input\n",
    "    fil_m1, col_m1 = m1.shape\n",
    "    fil_m2, col_m2 = m2.shape\n",
    "    # Creamos una tercera matriz que almacene los resultados\n",
    "    m3 = np.ones((fil_m1, col_m2))\n",
    "    # Realizamos la operación de min->composición\n",
    "    for x in range(fil_m1):\n",
    "        for z in range(col_m2):\n",
    "            minimo = 1 # Valor ínfimo\n",
    "            for y in range(col_m1):\n",
    "                minimo = min([minimo, composicion(m2[y][z], m1[x][y])])\n",
    "            m3[x,z]=minimo\n",
    "    return m3\n",
    "                  \n",
    "    "
   ]
  },
  {
   "cell_type": "code",
   "execution_count": 31,
   "metadata": {},
   "outputs": [
    {
     "name": "stdout",
     "output_type": "stream",
     "text": [
      "[[0.3 0.3]\n",
      " [0.2 0.2]\n",
      " [0.6 0.2]]\n"
     ]
    }
   ],
   "source": [
    "# Ejemplo 1\n",
    "R = np.array([[0.3, 0.8, 0.3],[0.5, 0.2, 0.4],[0.6, 1, 0.2]])\n",
    "S = np.array([[0.9, 1],[0.3, 1],[0.2, 0.7]])\n",
    "\n",
    "m_resultante = minComposicion(R,S)\n",
    "print(m_resultante)\n",
    "\n",
    "    "
   ]
  },
  {
   "cell_type": "code",
   "execution_count": 28,
   "metadata": {},
   "outputs": [
    {
     "name": "stdout",
     "output_type": "stream",
     "text": [
      "[[0.4 0.4]\n",
      " [0.4 0.4]]\n"
     ]
    }
   ],
   "source": [
    "# Ejemplo 2\n",
    "R = np.array([[0.4, 0.5, 0.4],[0.7, 0.4, 0.4]])\n",
    "S = np.array([[0.6, 0.6],[0.3, 1],[0.9, 0.6]])\n",
    "\n",
    "m_resultante = minComposicion(R,S)\n",
    "print(m_resultante)\n",
    "\n",
    "    "
   ]
  },
  {
   "cell_type": "markdown",
   "metadata": {},
   "source": [
    "---\n",
    "**Ejercicio 4.** Sean $R:X\\times Y\\to [0,1]$, $P:Y\\times Z\\to [0,1]$ y $Q:X\\times Z\\to[0,1]$ relaciones difusas. Demuestra que $(P\\lhd Q^{-1})^{-1}\\circ P\\subseteq Q$."
   ]
  },
  {
   "cell_type": "markdown",
   "metadata": {},
   "source": []
  },
  {
   "cell_type": "markdown",
   "metadata": {},
   "source": [
    "---\n",
    "**Ejercicio 5.** Implementa el algoritmo de la $*$-clausura transitiva de la página 83 del libro de Syropoulos & Grammenos (2020). Modifica el algoritmo para que utilice la composición $\\min\\!\\!\\to$. Tu algoritmo debe de tomar como entrada una matriz que represente una relación difusa y retornar otra matriz que represente la $*$-clausura transitiva. Escribe al menos dos ejemplos diferentes que muestren como funciona tu algoritmo. Puedes elegir tu lenguaje de programación favorito para este ejercicio."
   ]
  },
  {
   "cell_type": "markdown",
   "metadata": {},
   "source": []
  },
  {
   "cell_type": "markdown",
   "metadata": {},
   "source": [
    "---\n",
    "**Ejercicio 6.** Implementa una subrutina que toma como entrada una matriz que represente una relación difusa y retorna 1 si la matriz es una relación de similaridad y retorna 0 si no es una relación de similaridad. Escribe al menos dos ejemplos diferentes que muestren como funciona tu algoritmo. Puedes elegir tu lenguaje de programación favorito para este ejercicio."
   ]
  },
  {
   "cell_type": "markdown",
   "metadata": {},
   "source": [
    "**Solución:**"
   ]
  },
  {
   "cell_type": "code",
   "execution_count": 43,
   "metadata": {},
   "outputs": [],
   "source": [
    "import numpy as np\n",
    "import math\n",
    "\n",
    "# Verifica que la diagonal principal esté compuesta de unos\n",
    "def reflexividad(matriz):\n",
    "    fil, col = matriz.shape\n",
    "    \n",
    "    for i in range(fil): \n",
    "        if ( not( matriz[i][i] == 1) ):\n",
    "            return False\n",
    "    return True\n",
    "\n",
    "# Si la matriz normal es igual a la transpuesta, entonces es simétrica\n",
    "def simetria(matriz):\n",
    "    fil, col = matriz.shape\n",
    "    matriz_t = matriz.transpose() # Transpuesta de la matriz\n",
    "    \n",
    "    for x in range(fil):\n",
    "        for y in range(col):\n",
    "            if ( not( math.isclose(matriz[x][y], matriz_t[x][y]) ) ):\n",
    "                return False\n",
    "    return True\n",
    "\n",
    "# Verificar relación de transitividad entre 3 elementos\n",
    "def noCumplePropiedad(x,y,z):\n",
    "    minimo = min([y,z])\n",
    "    \n",
    "    if( math.isclose(x, minimo) or x > minimo ): # Cumple relación transitiva\n",
    "        return False\n",
    "    else: # No cumple relación transitiva\n",
    "        return True\n",
    "    \n",
    "def transitividad(matriz):\n",
    "    fil, col = matriz.shape\n",
    "    \n",
    "    for i in range(fil):\n",
    "        for j in range(col):\n",
    "            for k in range(fil):\n",
    "                if(k!=i and k!=j):\n",
    "                    # Si incumple la propiedad transitiva, retorna falso\n",
    "                    if (noCumplePropiedad(matriz[i][j], matriz[i][k], matriz[k][j])):\n",
    "                        return False\n",
    "    return True\n",
    "\n",
    "def relacionSimilaridad(matriz):\n",
    "    if(reflexividad(matriz) and simetria(matriz) and transitividad(matriz)):\n",
    "        return True\n",
    "    else:\n",
    "        return False\n"
   ]
  },
  {
   "cell_type": "code",
   "execution_count": 45,
   "metadata": {},
   "outputs": [
    {
     "name": "stdout",
     "output_type": "stream",
     "text": [
      "Es una relación de similaridad\n"
     ]
    }
   ],
   "source": [
    "# Ejemplo 1\n",
    "A = np.array([ [1, 0.2, 1], [0.2, 1, 0.2], [1, 0.2, 1] ])\n",
    "\n",
    "if (relacionSimilaridad(A)):\n",
    "    print('Es una relación de similaridad')\n",
    "else:\n",
    "    print('No es una relación de similaridad')"
   ]
  },
  {
   "cell_type": "code",
   "execution_count": 44,
   "metadata": {},
   "outputs": [
    {
     "name": "stdout",
     "output_type": "stream",
     "text": [
      "Es una relación de similaridad\n"
     ]
    }
   ],
   "source": [
    "# Ejemplo 2\n",
    "A = np.array([ [1, 0.2, 1, 0.6, 0.2, 0.6], [0.2, 1, 0.2, 0.2, 0.8, 0.2],\n",
    "              [1, 0.2, 1, 0.6, 0.2, 0.6], [0.6, 0.2, 0.6, 1, 0.2, 0.8],\n",
    "             [0.2, 0.8, 0.2, 0.2, 1, 0.2], [0.6, 0.2, 0.6, 0.8, 0.2, 1] ])\n",
    "\n",
    "if (relacionSimilaridad(A)):\n",
    "    print('Es una relación de similaridad')\n",
    "else:\n",
    "    print('No es una relación de similaridad')"
   ]
  },
  {
   "cell_type": "markdown",
   "metadata": {},
   "source": [
    "---\n",
    "**Ejercicio 7.** Implementa una subrutina que toma como entrada una matriz que represente una relación difusa y retorna 1 si la matriz es una relación de proximidad y retorna 0 si no es una relación de proximidad. Escribe al menos dos ejemplos diferentes que muestren como funciona tu algoritmo. Puedes elegir tu lenguaje de programación favorito para este ejercicio."
   ]
  },
  {
   "cell_type": "markdown",
   "metadata": {},
   "source": [
    "**Solución:**"
   ]
  },
  {
   "cell_type": "code",
   "execution_count": 46,
   "metadata": {},
   "outputs": [],
   "source": [
    "import numpy as np\n",
    "import math\n",
    "\n",
    "# Verifica que la diagonal principal esté compuesta de unos\n",
    "def reflexividad(matriz):\n",
    "    fil, col = matriz.shape\n",
    "    \n",
    "    for i in range(fil): \n",
    "        if ( not( matriz[i][i] == 1) ):\n",
    "            return False\n",
    "    return True\n",
    "\n",
    "# Si la matriz normal es igual a la transpuesta, entonces es simétrica\n",
    "def simetria(matriz):\n",
    "    fil, col = matriz.shape\n",
    "    matriz_t = matriz.transpose() # Transpuesta de la matriz\n",
    "    \n",
    "    for x in range(fil):\n",
    "        for y in range(col):\n",
    "            if ( not( math.isclose(matriz[x][y], matriz_t[x][y]) ) ):\n",
    "                return False\n",
    "    return True\n",
    "\n",
    "def relacionProximidad(matriz):\n",
    "    if(reflexividad(matriz) and simetria(matriz)):\n",
    "        return True\n",
    "    else:\n",
    "        return False\n"
   ]
  },
  {
   "cell_type": "code",
   "execution_count": 58,
   "metadata": {},
   "outputs": [
    {
     "name": "stdout",
     "output_type": "stream",
     "text": [
      "Es una relación de proximidad\n"
     ]
    }
   ],
   "source": [
    "# Ejemplo 1\n",
    "A = np.array([ [1, 0.2, 1], [0.2, 1, 0.2], [1, 0.2, 1] ])\n",
    "\n",
    "if (relacionProximidad(A)):\n",
    "    print('Es una relación de proximidad')\n",
    "else:\n",
    "    print('No es una relación de proximidad')"
   ]
  },
  {
   "cell_type": "code",
   "execution_count": 54,
   "metadata": {},
   "outputs": [
    {
     "name": "stdout",
     "output_type": "stream",
     "text": [
      "Es una relación de proximidad\n"
     ]
    }
   ],
   "source": [
    "# Ejemplo 2\n",
    "A = np.array([ [1, 0.2, 1, 0.6, 0.2, 0.6], [0.2, 1, 0.2, 0.2, 0.8, 0.2],\n",
    "              [1, 0.2, 1, 0.6, 0.2, 0.6], [0.6, 0.2, 0.6, 1, 0.2, 0.8],\n",
    "             [0.2, 0.8, 0.2, 0.2, 1, 0.2], [0.6, 0.2, 0.6, 0.8, 0.2, 1] ])\n",
    "\n",
    "if (relacionProximidad(A)):\n",
    "    print('Es una relación de proximidad')\n",
    "else:\n",
    "    print('No es una relación de proximidad')"
   ]
  },
  {
   "cell_type": "markdown",
   "metadata": {},
   "source": [
    "---\n",
    "**Ejercicio 8.** Construye un ejemplo concreto de una relación difusa $R:A\\times A\\to[0,1]$ infinita que sea reflexiva, simétrica pero no sea transitiva."
   ]
  },
  {
   "cell_type": "markdown",
   "metadata": {},
   "source": [
    "**Solución:**"
   ]
  },
  {
   "cell_type": "markdown",
   "metadata": {},
   "source": [
    "---\n",
    "**Ejercicio 9.** Construye un ejemplo concreto de una relación difusa $R:A\\times A\\to[0,1]$ infinita que sea simétrica, transitiva pero no sea reflexiva."
   ]
  },
  {
   "cell_type": "markdown",
   "metadata": {},
   "source": []
  },
  {
   "cell_type": "markdown",
   "metadata": {},
   "source": [
    "---\n",
    "**Ejercicio 10.** Construye un ejemplo concreto de una relación difusa $R:A\\times A\\to[0,1]$ infinita que sea reflexiva, transitiva pero no sea simétrica."
   ]
  },
  {
   "cell_type": "markdown",
   "metadata": {},
   "source": []
  }
 ],
 "metadata": {
  "kernelspec": {
   "display_name": "Python 3 (ipykernel)",
   "language": "python",
   "name": "python3"
  },
  "language_info": {
   "codemirror_mode": {
    "name": "ipython",
    "version": 3
   },
   "file_extension": ".py",
   "mimetype": "text/x-python",
   "name": "python",
   "nbconvert_exporter": "python",
   "pygments_lexer": "ipython3",
   "version": "3.10.2"
  }
 },
 "nbformat": 4,
 "nbformat_minor": 4
}
