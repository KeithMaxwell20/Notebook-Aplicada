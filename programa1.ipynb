{
 "cells": [
  {
   "cell_type": "markdown",
   "id": "d212f694-c2c4-4954-97de-7dc9cbc7ec79",
   "metadata": {},
   "source": [
    "# __Programa 1__: Sistema Fuzzy SISO\n",
    "\n",
    "Implementar el algoritmo 7.7 de la página 112 y resolver el ejercicio 4 de la página 134"
   ]
  },
  {
   "cell_type": "markdown",
   "id": "271dd025-3c77-428e-88ae-e9b964875a54",
   "metadata": {},
   "source": [
    "# Método General para Mamdani y Godel"
   ]
  },
  {
   "cell_type": "code",
   "execution_count": 27,
   "id": "b99c27b6-43a9-4c72-ba55-cb9b5a0c9dd2",
   "metadata": {},
   "outputs": [],
   "source": [
    "# Recibe como parámetro los 3 componentes del número difuso triangular\n",
    "# y el valor del eje de abscisas \"x\"\n",
    "# Es usado para obtener el \"firing strength\"\n",
    "def obtener_grado_pertenencia(a,b,c,x):\n",
    "    elemento_1 = max(0, ((x-b)/(b-a))+1)\n",
    "    elemento_2 = max(0, ((x-b)/(b-c))+1)\n",
    "    \n",
    "    return min(elemento_1, elemento_2)\n"
   ]
  },
  {
   "cell_type": "markdown",
   "id": "64f49042-f831-4f08-844b-66fb7378b8c1",
   "metadata": {},
   "source": [
    "# Métodos de Mamdani"
   ]
  },
  {
   "cell_type": "code",
   "execution_count": 5,
   "id": "97309b21-db6b-48b8-a31b-d0c9995cc6d1",
   "metadata": {},
   "outputs": [],
   "source": [
    "# Recibe un firing strength y un número difuso triangular\n",
    "# Devuelve el output con la regla de Mandami\n",
    "def salida_mamdani(fir_str, a, b, c, y):\n",
    "    return min(fir_str, obtener_grado_pertenencia(a,b,c,y))\n",
    "    \n",
    "    "
   ]
  },
  {
   "cell_type": "code",
   "execution_count": 6,
   "id": "41facaa3-433c-49f6-b769-9197b5ba5a51",
   "metadata": {},
   "outputs": [],
   "source": [
    "import numpy as np\n",
    "import matplotlib.pyplot as plt\n",
    "import math\n",
    "\n",
    "# f1 y f2 son firing strengths\n",
    "# a,b,c son componentes de los números difusos de los consecuentes\n",
    "def graficar_mamdani(f1,a1,b1,c1,f2,a2,b2,c2):\n",
    "    X = np.array([])\n",
    "    Y = np.array([])\n",
    "    \n",
    "    x=a1\n",
    "    salto=(c2-a1)/2000 # Tomamos 2000 puntos en el intervalo dado\n",
    "    while not math.isclose(x,c2):\n",
    "        X = np.append(X,x)\n",
    "        valor_y = max(salida_mamdani(f1,a1,b1,c1,x), salida_mamdani(f2,a2,b2,c2,x))\n",
    "        Y = np.append(Y, valor_y)\n",
    "        x+=salto\n",
    "    \n",
    "    plt.scatter(X,Y)\n",
    "    plt.show()\n",
    "        "
   ]
  },
  {
   "cell_type": "code",
   "execution_count": 7,
   "id": "25499392-a729-42a5-ae5c-701cc9d92625",
   "metadata": {},
   "outputs": [
    {
     "data": {
      "image/png": "[encoded data removed]",
      "text/plain": [
       "<Figure size 432x288 with 1 Axes>"
      ]
     },
     "metadata": {
      "needs_background": "light"
     },
     "output_type": "display_data"
    }
   ],
   "source": [
    "#Ejemplo de ejecución\n",
    "graficar_mamdani(0.75,2,4,6,0.25,4,6,8)"
   ]
  },
  {
   "cell_type": "code",
   "execution_count": 8,
   "id": "19804d18-305b-4d09-ae9a-2597b6d7ad9e",
   "metadata": {},
   "outputs": [],
   "source": [
    "# Usamos la regla del trapecio compuesto para obtener\n",
    "# el centro de gravedad deffuzificado\n",
    "def centro_gravedad_mamdani(f1,a1,b1,c1,f2,a2,b2,c2):\n",
    "    \n",
    "    salto=(c2-a1)/10000 #Tomamos 10000 puntos para mayor precisión\n",
    "    sumatoria1=0\n",
    "    sumatoria2=0\n",
    "    x=a1\n",
    "    while not math.isclose(x,c2):\n",
    "        valor_y = max(salida_mamdani(f1,a1,b1,c1,x), salida_mamdani(f2,a2,b2,c2,x))\n",
    "        valor_y_salto = max(salida_mamdani(f1,a1,b1,c1,x+salto), salida_mamdani(f2,a2,b2,c2,x+salto))\n",
    "        valor_trapecio = (salto)*(valor_y+valor_y_salto)/2\n",
    "        sumatoria1+=x*valor_trapecio\n",
    "        sumatoria2+=valor_trapecio\n",
    "        x+=salto\n",
    "        \n",
    "    print(sumatoria1/sumatoria2)\n",
    "    "
   ]
  },
  {
   "cell_type": "code",
   "execution_count": 9,
   "id": "8db03963-5f26-44be-b4ab-c773d7e05fa7",
   "metadata": {},
   "outputs": [
    {
     "name": "stdout",
     "output_type": "stream",
     "text": [
      "4.578647352244475\n"
     ]
    }
   ],
   "source": [
    "#Ejemplo de ejecución\n",
    "centro_gravedad_mamdani(0.75,2,4,6,0.25,4,6,8)"
   ]
  },
  {
   "cell_type": "markdown",
   "id": "e1512129-5633-4ef5-9eed-c5968ee37c98",
   "metadata": {},
   "source": [
    "# Métodos de Godel"
   ]
  },
  {
   "cell_type": "code",
   "execution_count": 10,
   "id": "c627c097-db83-4031-9765-7e2c01b9dcf6",
   "metadata": {},
   "outputs": [],
   "source": [
    "def implicacion_godel(x,y):\n",
    "    if x<=y:\n",
    "        return 1\n",
    "    else:\n",
    "        return y\n",
    "    "
   ]
  },
  {
   "cell_type": "code",
   "execution_count": 28,
   "id": "e88f895c-b051-4662-bf76-c0cc26188a60",
   "metadata": {},
   "outputs": [],
   "source": [
    "def salida_godel(fir_str, a, b, c, y):\n",
    "    return implicacion_godel(fir_str, obtener_grado_pertenencia(a,b,c,y))"
   ]
  },
  {
   "cell_type": "code",
   "execution_count": 29,
   "id": "19eb9b09-077c-403b-b674-20cf2a6e78a9",
   "metadata": {},
   "outputs": [],
   "source": [
    "def graficar_godel(f1,a1,b1,c1,f2,a2,b2,c2):\n",
    "    X = np.array([])\n",
    "    Y = np.array([])\n",
    "    \n",
    "    x=a1\n",
    "    salto=(c2-a1)/2000 # Tomamos 2000 puntos en el intervalo dado\n",
    "    while not math.isclose(x,c2):\n",
    "        X = np.append(X,x)\n",
    "        valor_y = min(salida_godel(f1,a1,b1,c1,x), salida_godel(f2,a2,b2,c2,x))\n",
    "        Y = np.append(Y, valor_y)\n",
    "        x+=salto\n",
    "    \n",
    "    plt.scatter(X,Y)\n",
    "    plt.show()"
   ]
  },
  {
   "cell_type": "code",
   "execution_count": 30,
   "id": "7541be1d-4a61-49cc-b86e-319b19c48673",
   "metadata": {},
   "outputs": [
    {
     "data": {
      "image/png": "[encoded data removed]",
      "text/plain": [
       "<Figure size 432x288 with 1 Axes>"
      ]
     },
     "metadata": {
      "needs_background": "light"
     },
     "output_type": "display_data"
    }
   ],
   "source": [
    "#Ejemplo de ejecución\n",
    "graficar_godel(0.75,2,4,6,0.25,4,6,8)"
   ]
  },
  {
   "cell_type": "code",
   "execution_count": 31,
   "id": "91bc163c-ac7e-44e0-93a9-2ba7c17b7951",
   "metadata": {},
   "outputs": [],
   "source": [
    "def centro_gravedad_godel(f1,a1,b1,c1,f2,a2,b2,c2):\n",
    "    \n",
    "    salto=(c2-a1)/10000 #Tomamos 10000 puntos para mayor precisión\n",
    "    sumatoria1=0\n",
    "    sumatoria2=0\n",
    "    x=a1\n",
    "    while not math.isclose(x,c2):\n",
    "        valor_y = min(salida_godel(f1,a1,b1,c1,x), salida_godel(f2,a2,b2,c2,x))\n",
    "        valor_y_salto = min(salida_godel(f1,a1,b1,c1,x+salto), salida_godel(f2,a2,b2,c2,x+salto))\n",
    "        valor_trapecio = (salto)*(valor_y+valor_y_salto)/2\n",
    "        sumatoria1+=x*valor_trapecio\n",
    "        sumatoria2+=valor_trapecio\n",
    "        x+=salto\n",
    "        \n",
    "    print(sumatoria1/sumatoria2)"
   ]
  },
  {
   "cell_type": "code",
   "execution_count": 32,
   "id": "7412248f-ae8d-4de7-9657-56a2f002e78c",
   "metadata": {},
   "outputs": [
    {
     "name": "stdout",
     "output_type": "stream",
     "text": [
      "4.932998685442822\n"
     ]
    }
   ],
   "source": [
    "centro_gravedad_godel(0.75,2,4,6,0.25,4,6,8)"
   ]
  },
  {
   "cell_type": "markdown",
   "id": "ddb8ed93-d41f-416b-8f82-7e6c2271b156",
   "metadata": {},
   "source": [
    "# Problema 4"
   ]
  },
  {
   "cell_type": "markdown",
   "id": "ab2090a5-d7b6-4a00-b16d-ee5dd9e5fac1",
   "metadata": {},
   "source": [
    "**a)** Hallar firing strength para $x_0=4$ y graficar"
   ]
  },
  {
   "cell_type": "code",
   "execution_count": 18,
   "id": "b61ff806-a4de-4566-b212-049f609f480f",
   "metadata": {},
   "outputs": [
    {
     "name": "stdout",
     "output_type": "stream",
     "text": [
      "f1: 0.5\n",
      "f2: 0.5\n"
     ]
    }
   ],
   "source": [
    "a1=1\n",
    "b1=3\n",
    "c1=5\n",
    "a2=3\n",
    "b2=5\n",
    "c2=7\n",
    "x=4\n",
    "\n",
    "f1 = obtener_grado_pertenencia(a1,b1,c1,x)\n",
    "f2 = obtener_grado_pertenencia(a2,b2,c2,x)\n",
    "\n",
    "print(\"f1:\", f1)\n",
    "print(\"f2:\", f2)"
   ]
  },
  {
   "cell_type": "code",
   "execution_count": 19,
   "id": "cbbb9835-3463-4dc8-b446-5d822de612dc",
   "metadata": {},
   "outputs": [],
   "source": [
    "# Usar los valores de los consecuentes\n",
    "a1=5\n",
    "b1=10\n",
    "c1=15\n",
    "a2=10\n",
    "b2=15\n",
    "c2=20\n",
    "x=4\n"
   ]
  },
  {
   "cell_type": "code",
   "execution_count": 20,
   "id": "aa8d2280-cc8d-45d5-8a3b-c5152142fc56",
   "metadata": {},
   "outputs": [
    {
     "data": {
      "image/png": "[encoded data removed]",
      "text/plain": [
       "<Figure size 432x288 with 1 Axes>"
      ]
     },
     "metadata": {
      "needs_background": "light"
     },
     "output_type": "display_data"
    }
   ],
   "source": [
    "graficar_mamdani(f1,a1,b1,c1,f2,a2,b2,c2)"
   ]
  },
  {
   "cell_type": "markdown",
   "id": "21dac300-19ed-48fb-bbe5-83a00472e8a6",
   "metadata": {},
   "source": [
    "**b)** Hallar firing strength para $x_0=3.5$ y graficar"
   ]
  },
  {
   "cell_type": "code",
   "execution_count": 24,
   "id": "3cc91840-3cc3-45cc-abf5-1a1b086e9566",
   "metadata": {},
   "outputs": [
    {
     "name": "stdout",
     "output_type": "stream",
     "text": [
      "f1: 0.75\n",
      "f2: 0.25\n"
     ]
    }
   ],
   "source": [
    "a1=1\n",
    "b1=3\n",
    "c1=5\n",
    "a2=3\n",
    "b2=5\n",
    "c2=7\n",
    "x=3.5\n",
    "\n",
    "f1 = obtener_grado_pertenencia(a1,b1,c1,x)\n",
    "f2 = obtener_grado_pertenencia(a2,b2,c2,x)\n",
    "\n",
    "print(\"f1:\", f1)\n",
    "print(\"f2:\", f2)"
   ]
  },
  {
   "cell_type": "code",
   "execution_count": 37,
   "id": "0a7bae5d-9962-4679-a794-aa57c6b8d014",
   "metadata": {},
   "outputs": [],
   "source": [
    "# Usar los valores de los consecuentes\n",
    "a1=5\n",
    "b1=10\n",
    "c1=15\n",
    "a2=10\n",
    "b2=15\n",
    "c2=20\n",
    "x=3.5\n"
   ]
  },
  {
   "cell_type": "code",
   "execution_count": 26,
   "id": "ca987fd2-44cf-48a8-9869-8a627d9014d7",
   "metadata": {},
   "outputs": [
    {
     "data": {
      "image/png": "[encoded data removed]",
      "text/plain": [
       "<Figure size 432x288 with 1 Axes>"
      ]
     },
     "metadata": {
      "needs_background": "light"
     },
     "output_type": "display_data"
    }
   ],
   "source": [
    "graficar_mamdani(f1,a1,b1,c1,f2,a2,b2,c2)"
   ]
  },
  {
   "cell_type": "markdown",
   "id": "489256e8-2aec-4eb4-95e7-058072f233f1",
   "metadata": {},
   "source": [
    "**c)** Verificar si coincide el output con la inferencia de Godel"
   ]
  },
  {
   "cell_type": "markdown",
   "id": "4a053f25-7577-4fc0-94c3-4fee90bf4080",
   "metadata": {},
   "source": [
    "Hallar firing strength para $x_0=4$ y graficar"
   ]
  },
  {
   "cell_type": "code",
   "execution_count": 33,
   "id": "3965f97b-feb3-4809-9772-7c15ee8c6e66",
   "metadata": {},
   "outputs": [
    {
     "name": "stdout",
     "output_type": "stream",
     "text": [
      "f1: 0.5\n",
      "f2: 0.5\n"
     ]
    }
   ],
   "source": [
    "a1=1\n",
    "b1=3\n",
    "c1=5\n",
    "a2=3\n",
    "b2=5\n",
    "c2=7\n",
    "x=4\n",
    "\n",
    "f1 = obtener_grado_pertenencia(a1,b1,c1,x)\n",
    "f2 = obtener_grado_pertenencia(a2,b2,c2,x)\n",
    "\n",
    "print(\"f1:\", f1)\n",
    "print(\"f2:\", f2)"
   ]
  },
  {
   "cell_type": "code",
   "execution_count": 34,
   "id": "d66ca5ad-15b3-4c31-9ee0-6f26905d5bb8",
   "metadata": {},
   "outputs": [],
   "source": [
    "# Usar los valores de los consecuentes\n",
    "a1=5\n",
    "b1=10\n",
    "c1=15\n",
    "a2=10\n",
    "b2=15\n",
    "c2=20\n",
    "x=4"
   ]
  },
  {
   "cell_type": "code",
   "execution_count": 35,
   "id": "12ffeffe-a277-461a-acbb-9211f80a93dc",
   "metadata": {},
   "outputs": [
    {
     "data": {
      "image/png": "[encoded data removed]",
      "text/plain": [
       "<Figure size 432x288 with 1 Axes>"
      ]
     },
     "metadata": {
      "needs_background": "light"
     },
     "output_type": "display_data"
    }
   ],
   "source": [
    "graficar_godel(f1,a1,b1,c1,f2,a2,b2,c2)"
   ]
  },
  {
   "cell_type": "markdown",
   "id": "b94aa143-b218-4f7b-a130-308795077831",
   "metadata": {},
   "source": [
    "Hallar firing strength para $x_0=3.5$ y graficar"
   ]
  },
  {
   "cell_type": "code",
   "execution_count": 36,
   "id": "31625b2c-b2ab-4621-b789-471c472cb883",
   "metadata": {},
   "outputs": [
    {
     "name": "stdout",
     "output_type": "stream",
     "text": [
      "f1: 0.75\n",
      "f2: 0.25\n"
     ]
    }
   ],
   "source": [
    "a1=1\n",
    "b1=3\n",
    "c1=5\n",
    "a2=3\n",
    "b2=5\n",
    "c2=7\n",
    "x=3.5\n",
    "\n",
    "f1 = obtener_grado_pertenencia(a1,b1,c1,x)\n",
    "f2 = obtener_grado_pertenencia(a2,b2,c2,x)\n",
    "\n",
    "print(\"f1:\", f1)\n",
    "print(\"f2:\", f2)"
   ]
  },
  {
   "cell_type": "code",
   "execution_count": 38,
   "id": "cef6ca3a-09f5-4cba-8c19-02c8b29ae5b7",
   "metadata": {},
   "outputs": [],
   "source": [
    "# Usar los valores de los consecuentes\n",
    "a1=5\n",
    "b1=10\n",
    "c1=15\n",
    "a2=10\n",
    "b2=15\n",
    "c2=20\n",
    "x=3.5"
   ]
  },
  {
   "cell_type": "code",
   "execution_count": 39,
   "id": "9ad28e24-7e8a-4270-aabb-39a86bd4194e",
   "metadata": {},
   "outputs": [
    {
     "data": {
      "image/png": "[encoded data removed]",
      "text/plain": [
       "<Figure size 432x288 with 1 Axes>"
      ]
     },
     "metadata": {
      "needs_background": "light"
     },
     "output_type": "display_data"
    }
   ],
   "source": [
    "graficar_godel(f1,a1,b1,c1,f2,a2,b2,c2)"
   ]
  },
  {
   "cell_type": "code",
   "execution_count": null,
   "id": "6475660b-16bd-427b-b510-3ee3db5ad072",
   "metadata": {},
   "outputs": [],
   "source": []
  }
 ],
 "metadata": {
  "kernelspec": {
   "display_name": "Python 3 (ipykernel)",
   "language": "python",
   "name": "python3"
  },
  "language_info": {
   "codemirror_mode": {
    "name": "ipython",
    "version": 3
   },
   "file_extension": ".py",
   "mimetype": "text/x-python",
   "name": "python",
   "nbconvert_exporter": "python",
   "pygments_lexer": "ipython3",
   "version": "3.10.2"
  }
 },
 "nbformat": 4,
 "nbformat_minor": 5
}
