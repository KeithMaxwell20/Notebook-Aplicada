{
 "cells": [
  {
   "cell_type": "markdown",
   "metadata": {},
   "source": [
    "# __Ejercitario 1__: Conjuntos Difusos y sus Operaciones\n",
    "\n",
    "Responde a las preguntas de abajo utilizando este mismo notebook. Recuerda de seguir las instrucciones de envío que están en la plataforma Educa."
   ]
  },
  {
   "cell_type": "markdown",
   "metadata": {},
   "source": [
    "---\n",
    "**Ejercicio 1.** Definimos un poset $(\\mathbb{R}^n,\\leq)$  donde para todo $x=(x_i)_{i=1}^n,y=(y_i)_{i=1}^n\\in \\mathbb{R}$ tenemos que $x\\leq y$ si y solo si $x_i\\leq y_i$ para todo $i=1,\\dots,n$. Demuestra que $(\\mathbb{R}^n,\\leq)$ es de hecho un poset."
   ]
  },
  {
   "cell_type": "markdown",
   "metadata": {},
   "source": [
    "**Solución:**\n",
    "\n",
    "Un poset es una relación binaria que cumple 3 propiedades: reflexividad, antisimetría y transitividad.\n",
    "Para demostrar que $(\\mathbb{R}^n,\\leq)$ es un poset, procederemos a definir la relación, y luego a demostrar que cumple las 3 propiedades previamente mencionadas.\n",
    "\n",
    "En primer lugar, la relación binaria sobre el poset será de la forma $(x_i,y_i)$, desde i=1 hasta n.\n",
    "\n",
    "Para la propiedad reflexiva, tenemos que $x_i\\leq y_i$ para todo i, lo que significa que todos los elementos que tengan la forma $x_i=y_i$ son miembros válidos de la relación. Por tanto, cumple con la propiedad reflexiva.\n",
    "\n",
    "Para la propiedad de transitividad, dados tres elementos cualesquiera de la relación a,b y c, si tenemos como miembros del poset los elementos (a,b) y (b,c), tenemos por definición que se cumple que a<=b y b<=c, por tanto, podemos ver que a<=c es un miembro válido de la relación. Por lo que se cumple con la propiedad transitiva.\n",
    "\n",
    "Para la propiedad antisimétrica, dados 2 elementos cualesquiera a y b pertenecientes al poset, tenemos (a,b) y (b,a). Por definición, esto significa que se cumple que a<=b y b<=a. Esto solamente es posible si a=b. Por tanto, se cumple la propiedad antisimétrica.\n",
    "\n",
    "Esto demuestra que $(\\mathbb{R}^n,\\leq)$ es un poset.\n",
    "\n"
   ]
  },
  {
   "cell_type": "markdown",
   "metadata": {},
   "source": [
    "---\n",
    "**Ejercicio 2.** Sea $\\mathbb{Q}[x]$ el conjunto de todos los polinomios de una sola variable $x$ con coeficientes en los números racionales $\\mathbb{Q}$. Un polinomio de la forma $a_{n-1}x^{n-1}+\\cdots+a_0$ puede representarse como una tupla $(a_{n-1},\\dots,a_0)\\in \\mathbb{Q}^n$.\n",
    "\n",
    "Considera el conjunto de polinomios de una sola variable con coeficientes racionales no negativos $\\mathbb{Q}^{+0}[x]$. Decimos que para dos polinomios $p,q\\in \\mathbb{Q}^{+0}[x]$ se tiene que $p \\leq q$ si los vectores correspondientes de $p$ y $q$ denotados $v_p$ y $v_q$ se cumple que $v_p\\leq v_q$ en el poset $(\\mathbb{R},\\leq)$ del Ejercicio 1. (i) ¿Cuál es el ínfimo de $(\\mathbb{Q}^{+0}[x],\\leq)$? ¿Porqué?. (ii) ¿Cuál es el supremo de $(\\mathbb{Q}^{+0}[x],\\leq)$? ¿Porqué?. (iii) ¿Tiene $(\\mathbb{Q}^{+0}[x],\\leq)$ elementos mínimos o máximos? Explica porque si o porque no, y en caso positivo escribe explícitamente el mínimo o el máximo."
   ]
  },
  {
   "cell_type": "markdown",
   "metadata": {},
   "source": [
    "**Solución:**\n",
    "\n",
    "Para el caso de los números racionales positivos que incluyen al 0, tenemos que el menor vector n-dimensional posible que podemos construir es el siguiente: $(0,0,0,...,0)$. Este vector resulta ser el ínfimo, pues siempre ocurre que para todo elemento del poset este vector es menor o igual a todos los demás dentro del conjunto numérico considerado. Además, como está incluido en el intervalo que estamos considerando (los racionales positivos incluido el 0), también decimos que es el mínimo.\n",
    "\n",
    "En el caso del supremo, conocemos que debido al conjunto de números que consideramos, estos aumentan infinitamente hacia valores más grandes, por lo que nunca llegan a un punto donde exista un vector que necesariamente sea mayor o igual a todos los anteriores. Por esta razón, no existe un supremo ni un máximo para el poset de estas características."
   ]
  },
  {
   "cell_type": "markdown",
   "metadata": {},
   "source": [
    "---\n",
    "**Ejercicio 3.** Demostrar que $([0,1],\\leq)$ es un retículo completo y distributivo."
   ]
  },
  {
   "cell_type": "markdown",
   "metadata": {},
   "source": [
    "**Solución:**\n",
    "\n",
    "Por definición, un poset $(S,R)$ es un retículo completo es un poset donde cada subconjunto A de S tiene tanto un lub como un glb en el poset.\n",
    "\n",
    "Demostraremos que esto es así debido a que, si tomamos cualesquiera 2 elementos del poset, estos necesariamente se encuentran ordenados y relacionados, debido a que los números [0, 1] (que además es un invervalo cerrado) se encuentran en una recta numérica simple, estos siempre están relacionados unos con otros. De ese modo, siempre tendremos glbs y lubs.\n",
    "\n",
    "Demostraremos que el retículo es además distributivo. Dados 3 elementos cualesquiera de cualquier subconjunto del retículo a, b y c, debe cumplirse que:\n",
    "\n",
    "$$x \\land (y \\lor z) = (x \\land y) \\lor (x \\land z)$$\n",
    "\n",
    "Como tenemos asegurado que el poset es un retículo completo y cualesquiera 3 elementos $x$, $y$, y $z$ están ordenados uno respecto a otro, podemos demostrar que el retículo cumple con la propiedad distributiva del siguiente modo:\n",
    "\n",
    " $$min(x, max(y, z)) = max(min(x, y), min(x, z))$$\n",
    "$$\\forall x \\leq y \\land x \\leq z \\rightarrow x=x$$\n",
    " $$\\forall x \\geq y \\land x \\geq z \\rightarrow max(y, z) = max(y, z)$$\n",
    " $$\\forall (y \\geq x \\geq z) \\lor (z \\geq x \\geq y) \\rightarrow x=x$$\n",
    "\n",
    "De este modo queda cubierto que para cualquiera de los 3 casos posibles el resultado del miembro derecho de la igualdad es igual al izquierdo. Demostrando por tanto que el retículo cumple la propiedad distributiva y completando la demostración del ejercicio.\n",
    "\n",
    "**Opcional:**\n",
    "\n",
    "Asumimos que esto se cumple para k elementos y demostramos que se cumple para k+1\n",
    "Para k+1 elementos tenemos la propiedad de la forma a and(b1 or b2 or ... or bk+1)\n",
    "Mientras que sabemos que este resultado se cumple para a and(b1 or b2 or... or bk).\n",
    "\n",
    "Tenemos que para k este resultado es \n",
    "min(a, max(b1, b2, b3..., bk) = max(min(a, b1), min(a, b2), ..., min(a,bk))\n",
    "\n",
    "Queremos demostrar que se cumple que:\n",
    "min(a, max(b1, b2, ..., bk+1) = max(min(a, b1), min(a, b2, ..., min(a, bk+1))"
   ]
  },
  {
   "cell_type": "markdown",
   "metadata": {},
   "source": [
    "---\n",
    "**Ejercicio 4.**\n",
    "Considera los conjuntos difusos $A,B:\\{1,2,\\dots,10\\}\\to [0,1]$ definidos como \n",
    "\n",
    "$$A(x)=0.2/2+0.7/3+1/4+0.7/5+0.2/6$$\n",
    "\n",
    "y\n",
    "\n",
    "$$B(x)=0.3/4+0.5/5+0.8/6+1/7+0.5/8+0.2/9.$$\n",
    "\n",
    "1. Escribe utilizando la notación de Zadeh (i) $A\\cup B$, (ii) $A\\cap B$, (iii) $\\overline A$, (iv) $\\overline B$ , (v) $A\\cup \\overline A$, (vi) $A\\cap \\overline A$, (vii) $\\overline{A\\cap B}$, (viii) $\\overline{A\\cup B}$.\n",
    "2. Dibuja los conjuntos (i) $A\\cup B$, (ii) $A\\cap B$, (iii) $\\overline A$, (iv) $\\overline B$ , (v) $A\\cup \\overline A$, (vi) $A\\cap \\overline A$, (vii) $\\overline{A\\cap B}$, (viii) $\\overline{A\\cup B}$.\n",
    "3. Escribe formalmente el soporte (*support*), núcleo (*core*) y altura (*height*) de $A$ y $B$."
   ]
  },
  {
   "cell_type": "markdown",
   "metadata": {},
   "source": [
    "1.$$A\\cup B=0.2/2+0.7/3+1/4+0.7/5+0.8/6+1/7+0.5/8+0.2/9$$\n",
    "$$A\\cap B=0.3/4+0.5/5+0.2/6$$\n",
    "$$\\overline A=0.8/2+0.3/3+0/4+0.3/5+0.8/6$$\n",
    "$$\\overline B=0.7/4+0.5/5+0.2/6+0/7+0.5/8+0.8/9$$\n",
    "$$A\\cup \\overline A=0.8/2+0.7/3+1/4+0.7/5+0.8/6$$\n",
    "$$A\\cap \\overline A=0.2/2+0.3/3+0/4+0.3/5+0.2/6$$\n",
    "$$\\overline{A\\cap B}= 0.7/4+0.5/5+0.8/6$$\n",
    "$$\\overline{A\\cup B}=0.8/2+0.3/3+0/4+0.3/5+0.2/6+0/7+0.5/8+0.8/9$$\n",
    "2.\n"
   ]
  },
  {
   "cell_type": "code",
   "execution_count": 6,
   "metadata": {},
   "outputs": [
    {
     "data": {
      "image/png": "[encoded data removed]",
      "text/plain": [
       "<Figure size 432x288 with 1 Axes>"
      ]
     },
     "metadata": {
      "needs_background": "light"
     },
     "output_type": "display_data"
    }
   ],
   "source": [
    "import matplotlib.pyplot as plt\n",
    "x=[2,3,4,5,6,7,8,9]\n",
    "y=[0.2,0.7,1,0.7,0.8,1,0.5,0.2]\n",
    "plt.scatter(x, y)\n",
    "plt.title('A unión B')\n",
    "plt.show()"
   ]
  },
  {
   "cell_type": "code",
   "execution_count": 7,
   "metadata": {},
   "outputs": [
    {
     "data": {
      "image/png": "[encoded data removed]",
      "text/plain": [
       "<Figure size 432x288 with 1 Axes>"
      ]
     },
     "metadata": {
      "needs_background": "light"
     },
     "output_type": "display_data"
    }
   ],
   "source": [
    "import matplotlib.pyplot as plt\n",
    "x=[4,5,6]\n",
    "y=[0.3, 0.5, 0.2]\n",
    "plt.scatter(x,y)\n",
    "plt.title('A intersección B')\n",
    "plt.show()"
   ]
  },
  {
   "cell_type": "code",
   "execution_count": 8,
   "metadata": {},
   "outputs": [
    {
     "data": {
      "image/png": "[encoded data removed]",
      "text/plain": [
       "<Figure size 432x288 with 1 Axes>"
      ]
     },
     "metadata": {
      "needs_background": "light"
     },
     "output_type": "display_data"
    }
   ],
   "source": [
    "import matplotlib.pyplot as plt\n",
    "x=[2,3,4,5,6]\n",
    "y=[0.8, 0.3, 0, 0.3, 0.8]\n",
    "plt.scatter(x,y)\n",
    "plt.title('A complemento')\n",
    "plt.show()"
   ]
  },
  {
   "cell_type": "code",
   "execution_count": 9,
   "metadata": {},
   "outputs": [
    {
     "data": {
      "image/png": "[encoded data removed]",
      "text/plain": [
       "<Figure size 432x288 with 1 Axes>"
      ]
     },
     "metadata": {
      "needs_background": "light"
     },
     "output_type": "display_data"
    }
   ],
   "source": [
    "import matplotlib.pyplot as plt\n",
    "x=[4,5,6, 7, 8, 9]\n",
    "y=[0.7, 0.5, 0.2, 0, 0.5, 0.8]\n",
    "plt.scatter(x,y)\n",
    "plt.title('B complemento')\n",
    "plt.show()"
   ]
  },
  {
   "cell_type": "code",
   "execution_count": 10,
   "metadata": {},
   "outputs": [
    {
     "data": {
      "image/png": "[encoded data removed]",
      "text/plain": [
       "<Figure size 432x288 with 1 Axes>"
      ]
     },
     "metadata": {
      "needs_background": "light"
     },
     "output_type": "display_data"
    }
   ],
   "source": [
    "import matplotlib.pyplot as plt\n",
    "x=[2, 3, 4, 5, 6]\n",
    "y=[0.8, 0.7, 1, 0.7, 0.8]\n",
    "plt.scatter(x,y)\n",
    "plt.title('A unión A complemento')\n",
    "plt.show()"
   ]
  },
  {
   "cell_type": "code",
   "execution_count": 11,
   "metadata": {},
   "outputs": [
    {
     "data": {
      "image/png": "[encoded data removed]",
      "text/plain": [
       "<Figure size 432x288 with 1 Axes>"
      ]
     },
     "metadata": {
      "needs_background": "light"
     },
     "output_type": "display_data"
    }
   ],
   "source": [
    "import matplotlib.pyplot as plt\n",
    "x=[2, 3, 4, 5, 6]\n",
    "y=[0.2, 0.3, 0, 0.3, 0.2]\n",
    "plt.scatter(x,y)\n",
    "plt.title('A intersección A complemento')\n",
    "plt.show()"
   ]
  },
  {
   "cell_type": "code",
   "execution_count": 12,
   "metadata": {},
   "outputs": [
    {
     "data": {
      "image/png": "[encoded data removed]",
      "text/plain": [
       "<Figure size 432x288 with 1 Axes>"
      ]
     },
     "metadata": {
      "needs_background": "light"
     },
     "output_type": "display_data"
    }
   ],
   "source": [
    "import matplotlib.pyplot as plt\n",
    "x=[4, 5, 6]\n",
    "y=[0.7, 0.5, 0.8]\n",
    "plt.scatter(x,y)\n",
    "plt.title('Complemento de A intersección B')\n",
    "plt.show()"
   ]
  },
  {
   "cell_type": "code",
   "execution_count": 13,
   "metadata": {},
   "outputs": [
    {
     "data": {
      "image/png": "[encoded data removed]",
      "text/plain": [
       "<Figure size 432x288 with 1 Axes>"
      ]
     },
     "metadata": {
      "needs_background": "light"
     },
     "output_type": "display_data"
    }
   ],
   "source": [
    "import matplotlib.pyplot as plt\n",
    "x=[2, 3, 4, 5, 6, 7, 8, 9]\n",
    "y=[0.8, 0.3, 0, 0.3, 0.2, 0, 0.5, 0.8]\n",
    "plt.scatter(x,y)\n",
    "plt.title('Complemento de A unión B')\n",
    "plt.show()"
   ]
  },
  {
   "cell_type": "code",
   "execution_count": null,
   "metadata": {},
   "outputs": [],
   "source": [
    "3.\n",
    "Altura de A: 1\n",
    "Altura de B: 1\n",
    "Soporte de A: {2, 3, 4, 5, 6}\n",
    "Soporte de B: {4, 5, 6, 7, 8, 9}\n",
    "Núcleo de A: {4}\n",
    "Núcleo de B: {7}\n"
   ]
  },
  {
   "cell_type": "markdown",
   "metadata": {},
   "source": [
    "---\n",
    "**Ejercicio 5.** Considera los conjuntos difusos $A,B:\\mathbb{R}^+\\to [0,1]$ definidos como $A(x)=\\frac{1}{1+x^2}$ y $B(x)=\\frac{1}{10^x}$.\n",
    "\n",
    "1. Escribe utilizando la notación de Zadeh (i) $A\\cup B$, (ii) $A\\cap B$, (iii) $\\overline A$, (iv) $\\overline B$ , (v) $A\\cup \\overline A$, (vi) $A\\cap \\overline A$, (vii) $\\overline{A\\cap B}$, (viii) $\\overline{A\\cup B}$\n",
    "2. Escribe las funciones de membresía de (i) $A\\cup B$, (ii) $A\\cap B$, (iii) $\\overline A$, (iv) $\\overline B$ , (v) $A\\cup \\overline A$, (vi) $A\\cap \\overline A$, (vii) $\\overline{A\\cap B}$, (viii) $\\overline{A\\cup B}$.\n",
    "3. Escribe formalmente el soporte (*support*), núcleo (*core*) y altura (*height*) de $A$ y $B$."
   ]
  },
  {
   "cell_type": "markdown",
   "metadata": {},
   "source": [
    "**Solución:**\n",
    "\n",
    "1. $$A\\cup B = \\int_{x \\in \\mathbb{R}^+\\} \\frac{\\frac{1}{1+x^2}}{x} \\$$\n",
    "\n",
    "$$A\\cap B = \\int_{x \\in \\mathbb{R}^+\\} \\frac{\\frac{1}{10^x}}{x} \\$$\n",
    "\n",
    "$$\\overline A = \\int_{x \\in \\mathbb{R}^+\\} \\frac{1-\\frac{1}{1+x^2}}{x} \\$$\n",
    "\n",
    "$$\\overline B = \\int_{x \\in \\mathbb{R}^+\\} \\frac{1-\\frac{1}{10^x}}{x} \\$$\n",
    "\n",
    "$$A\\cup \\overline A = \\int_{x \\in (0,1]} \\frac{\\frac{1}{1+x^2}}{x} + \\int_{x>1} \\frac{1-\\frac{1}{1+x^2}}{x} $$\n",
    "\n",
    "$$A\\cap \\overline A = \\int_{x \\in (0,1]} \\frac{1-\\frac{1}{1+x^2}}{x} + \\int_{x>1} \\frac{\\frac{1}{1+x^2}}{x}$$\n",
    "\n",
    "$$ \\overline{A\\cap B} = \\int_{x \\in \\mathbb{R}^+\\} \\frac{1-\\frac{1}{10^x}}{x} \\$$\n",
    "\n",
    "$$\\overline{A\\cup B} = \\int_{x \\in \\mathbb{R}^+\\} \\frac{1-\\frac{1}{1+x^2}}{x} \\$$\n",
    "\n",
    "2. $$A\\cup B = A(x)=\\frac{1}{1+x^2}$$\n",
    "\n",
    "   $$A\\cap B = B(x)=\\frac{1}{10^x}$$\n",
    "   \n",
    "   $$\\overline A = 1-A(x)=1-\\frac{1}{1+x^2} $$\n",
    "   \n",
    "   $$\\overline B = 1-B(x)=1-\\frac{1}{10^x}$$\n",
    "   \n",
    "   $$A\\cup \\overline A = \\left\\{ \\begin{array}{l0}\n",
    "    \\frac{1}{1+x^2}             & \\text{ si } x<=1\\\\\n",
    "    1-\\frac{1}{1+x^2} & \\text{ si } x > 1\\,\n",
    "    \\end{array}\\right.\n",
    "    $$\n",
    "    \n",
    "    $$A\\cap \\overline A = \\left\\{ \\begin{array}{l0}\n",
    "    1-\\frac{1}{1+x^2} & \\text{ si } x <= 1\\\\\n",
    "    \\frac{1}{1+x^2}             & \\text{ si } x>1,\n",
    "    \\end{array}\\right.$$\n",
    "    \n",
    "    $$\\overline{A\\cap B} = 1-\\frac{1}{10^x}$$\n",
    "    \n",
    "    $$\\overline{A\\cup B} = 1-\\frac{1}{1+x^2}$$\n",
    "3. \n",
    "\n",
    "Altura de A: 1\n",
    "\n",
    "Altura de B: 1\n",
    "\n",
    "Soporte de A: $\\{x \\mid x \\text{ pertenece a los reales positivos}\\}$\n",
    "\n",
    "Soporte de B: $\\{x \\mid x \\text{ pertenece a los reales positivos}\\}$\n",
    "\n",
    "Núcleo de A: $\\emptyset$\n",
    "\n",
    "Núcleo de B: $\\emptyset$\n"
   ]
  },
  {
   "cell_type": "markdown",
   "metadata": {},
   "source": [
    "---\n",
    "**Ejercicio 6.** Considera los conjuntos difusos $A,B$ definidos como\n",
    "\n",
    "$$A(x)=\\left\\{ \\begin{array}{ll}\n",
    "0             & \\text{ si } x<1\\\\\n",
    "\\frac{x-1}{6} & \\text{ si } 1\\leq x <7\\\\\n",
    "\\frac{10-x}{3}& \\text{ si } 7\\leq x < 10\\\\\n",
    "0             & \\text{ si } 10\\leq x,\n",
    "\\end{array}\\right.\n",
    "$$\n",
    "\n",
    "y\n",
    "\n",
    "$$B(x)=\\left\\{ \\begin{array}{ll}\n",
    "0             & \\text{ si } x<2\\\\\n",
    "x-2           & \\text{ si } 2\\leq x < 3\\\\\n",
    "1             & \\text{ si } 3\\leq x <4\\\\\n",
    "\\frac{6-x}{2} & \\text{ si } 4\\leq x < 6\\\\\n",
    "0             & \\text{ si } 6< x,\n",
    "\\end{array}\\right.\n",
    "$$\n",
    "\n",
    "1. Escribe las funciones de membresía de (i) $A\\cup B$, (ii) $A\\cap B$, (iii) $\\overline A$, (iv) $\\overline B$ , (v) $A\\cup \\overline A$, (vi) $A\\cap \\overline A$, (vii) $\\overline{A\\cap B}$, (viii) $\\overline{A\\cup B}$.\n",
    "2. Dibuja los conjuntos (i) $A\\cup B$, (ii) $A\\cap B$, (iii) $\\overline A$, (iv) $\\overline B$ , (v) $A\\cup \\overline A$, (vi) $A\\cap \\overline A$, (vii) $\\overline{A\\cap B}$, (viii) $\\overline{A\\cup B}$.\n",
    "3. Escribe formalmente el soporte (*support*), núcleo (*core*) y altura (*height*) de $A$ y $B$."
   ]
  },
  {
   "cell_type": "markdown",
   "metadata": {},
   "source": []
  },
  {
   "cell_type": "markdown",
   "metadata": {},
   "source": [
    "---\n",
    "**Ejercicio 7.** Demuestra las propiedades 1 al 5, 7 y 8 en la Proposición 1.15 de libro de Bede (2013)."
   ]
  },
  {
   "cell_type": "markdown",
   "metadata": {},
   "source": [
    "**Solución**\n",
    "1. Asociatividad: $$A \\land (B \\land C) = (A \\land B) \\land C$$\n",
    " \n",
    " $$max(u_{A}, max(u_{B},u_{C}) = max(max(u_{A},u_{B}),u_{C}) = max (u_{A},u_{B},u_{C})$$\n",
    " \n",
    "  $$A \\lor (B \\lor C) = (A \\lor B) \\lor C$$\n",
    " \n",
    " $$min(u_{A}, min(u_{B},u_{C}) = min(min(u_{A},u_{B}),u_{C}) = min (u_{A},u_{B},u_{C})$$\n",
    " \n",
    "2. Conmutatividad : $$A \\lor B = B \\lor A$$\n",
    " \n",
    " $$min(u_{A}, u_{B}) = min(u_{B}, u_{A})$$\n",
    "\n",
    " $$A \\land B = B \\land A$$\n",
    "\n",
    " $$max(u_{A}, u_{B}) = max(u_{B}, u_{A})$$\n",
    "\n",
    "3. Identidad: $$A \\land X = A$$\n",
    " \n",
    " $$min(1, u_{A}) = u_{A}$$\n",
    " \n",
    "  $$A \\lor \\emptyset = A$$\n",
    " \n",
    " $$max(u_{A}, 0) = u_{A}$$\n",
    " \n",
    "4. Absorción por $\\emptyset$ y X: $$A \\land \\emptyset = \\emptyset$$\n",
    " \n",
    " $$min(u_{A}, 0) = 0$$\n",
    " \n",
    "  $$A \\lor X = X$$\n",
    " \n",
    " $$max(u_{A}, 1) = 1$$\n",
    " \n",
    "5. Idempotencia: $$A \\land A = A$$\n",
    "\n",
    " $$max (u_{A}, u_{A}) = u_{A}$$\n",
    "\n",
    " $$A \\lor A = A$$\n",
    "\n",
    "$$min (u_{A}, u_{A}) = u_{A}$$\n",
    " \n",
    "7. Distributividad: $$A \\land (B \\lor C) = (A \\land B) \\lor (A \\land C)$$\n",
    " \n",
    " $$max(u_{A}, min(u_{B}, u_{C})) = min(max(u_{A}, u_{B}), max(u_{A}, u_{C}))$$\n",
    " $$\\forall u_{A} \\geq u_{B} \\land u_{A} \\geq u_{C} \\rightarrow u_{A}=u_{A}$$\n",
    " $$\\forall u_{A} \\leq u_{B} \\land u_{A} \\leq uC \\rightarrow min(u_{B},u_{C}) = min(u_{B}, u_{C})$$\n",
    " $$\\forall (u_{B} \\geq u_{A} \\geq u_{C}) \\lor (u_{C} \\geq u_{A} \\geq u_{B}) \\rightarrow u_{A}=u_{A}$$\n",
    " \n",
    " $$A \\lor (B \\land C) = (A \\lor B) \\land (A \\lor C)$$\n",
    " \n",
    " $$min(u_{A}, max(u_{B}, u_{C})) = max(min(u_{A}, u_{B}), min(u_{A}, u_{C}))$$\n",
    " $$\\forall u_{A} \\leq u_{B} \\land u_{A} \\leq u_{C} \\rightarrow u_{A}=u_{A}$$\n",
    " $$\\forall u_{A} \\geq u_{B} \\land u_{A} \\geq u_{C} \\rightarrow max(u_{B},u_{C}) = max(u_{B},u_{C})$$\n",
    " $$\\forall (u_{B} \\geq u_{A} \\geq u_{C}) \\lor (u_{C} \\geq u_{A} \\geq u_{B}) \\rightarrow u_{A}=u_{A}$$\n",
    "\n",
    "8. Involución: $$\\neg(\\neg A) = A$$\n",
    "\n",
    "$$1 - ( 1 - A(x)) = 1 - 1 + A(x) = A(x)$$\n",
    "\n"
   ]
  },
  {
   "cell_type": "markdown",
   "metadata": {},
   "source": [
    "---\n",
    "**Ejercicio 8.** Demostrar que para cualquier conjunto difuso $A:X\\to[0,1]$ se cumple que para todo $x\\in X$ (i) $A(x)\\cup \\overline A(x) \\geq 0.5$ y (ii) $A(x)\\cap \\overline A(x)\\leq 0.5$."
   ]
  },
  {
   "cell_type": "markdown",
   "metadata": {},
   "source": [
    "**Solución:**\n",
    "\n",
    "(i) Para demostrar que $A(x)\\cup \\overline A(x) \\geq 0.5$ analizaremos 3 casos:\n",
    "\n",
    "1- $A(x) > 0.5$\n",
    " Si A(x) cumple esa condición, entonces su complemento, que es $1-A(x)$, siempre será menor a 0.5. Por tanto, tendremos que $A(x)\\cup \\overline A(x) > 0.5$\n",
    "\n",
    "2- $A(x) < 0.5$\n",
    " Si A(x) cumple esa condicion, entonces su complemento siempre será mayor a 0.5, por tanto $A(x)\\cup \\overline A(x) > 0.5$\n",
    "\n",
    "3- $A(x) = 0.5$\n",
    " Si A(x) es 0.5, entonces 1-A(x) es igual a 0.5, por tanto $A(x)\\cup \\overline A(x) = 0.5$\n",
    " \n",
    "Habiendo analizado todos los casos posibles, tenemos que $A(x)\\cup \\overline A(x) \\geq 0.5$ se cumple, pues en 2 casos es mayor a 0.5, y en uno de ellos es igual a 0.5.\n",
    "\n",
    "(ii) Para demostrar que $A(x)\\cap \\overline A(x)\\leq 0.5$ analizaremos 3 casos:\n",
    "\n",
    "1- $A(x) > 0.5$\n",
    " Si A(x) cumple con esa condición, necesariamente su complemento será menor a 0.5, por lo que la intersección de los valores será menor a 0.5, al tomar el mínimo entre ambos valores.\n",
    "\n",
    "2- $A(x) < 0.5$\n",
    " Si A(x) cumple con esa condición, su complemento es necesariamente mayor a 0.5, por lo que siempre tomaremos un valor menor a 0.5 al obtener el mínimo valor entre esos 2. \n",
    "\n",
    "3- $A(x) = 0.5$\n",
    " Si A(x) tiene ese valor, entonces su complemento también vale 0.5. Por lo que el valor de la intersección es igual a 0.5\n",
    " \n",
    "Por tanto, se cumple que $A(x)\\cap \\overline A(x)\\leq 0.5$\n",
    "\n"
   ]
  },
  {
   "cell_type": "markdown",
   "metadata": {},
   "source": [
    "---\n",
    "**Ejercicio 9.** Demostrar que para cualquier par de conjuntos difusos $A:X\\to[0,1]$ y $B:X\\to[0,1]$ se cumple que\n",
    "\n",
    "1. $(A\\cap \\overline B)\\cup (\\overline A \\cap B)\\supseteq  0.5 \\cap (A\\cup B)\\cap (\\overline A\\cup \\overline B)$ y\n",
    "2. $(A\\cup \\overline B)\\cap (\\overline A \\cup B)\\subseteq  0.5 \\cup (A\\cap B)\\cup (\\overline A\\cap \\overline B)$."
   ]
  },
  {
   "cell_type": "markdown",
   "metadata": {},
   "source": [
    "**Solución:**\n",
    "\n",
    "1. $(A\\cap \\overline B)\\cup (\\overline A \\cap B)\\supseteq  0.5 \\cap (A\\cup B)\\cap (\\overline A\\cup \\overline B)$\n",
    "\n",
    "Para demostrar que el primero se cumple, hallaremos las funciones de membresía de cada uno y demostraremos que la función del primer miembro es mayor o igual a la segunda.\n",
    "\n",
    "Sean la funciones de membresía de A y B, $u_{A}$ y $u_{B}$, respectivamente, entonces:\n",
    "\n",
    "$$max(min(u_{A}, 1-u_{B}), min(1-u_{A}, u_{B})) \\ge min(0.5, max(A, B), max(1-u_{A}, 1-u_{B}))$$\n",
    "\n",
    "La segunda función de membresía puede tomar como valor máximo el 0.5.\n",
    "\n",
    "Consideramos 3 casos para la primera función de membresía:\n",
    "\n",
    "1- Si $u_{A} \\lor u_{B} > 0.5$, entonces\n"
   ]
  },
  {
   "cell_type": "markdown",
   "metadata": {},
   "source": [
    "---\n",
    "**Ejercicio 10.** Denotamos por $T_L$ y $S_L$ la t-norma y t-conomar de Łukasiewicz y están definidas como\n",
    "\n",
    "$$xT_Ly=(x+y-1)\\lor 0$$\n",
    "\n",
    "y\n",
    "\n",
    "$$xS_Ly=(x+y)\\land 1.$$\n",
    "\n",
    "Demostrar que $T_L$ y $S_L$ es una t-norma y t-conorma, respectivamente."
   ]
  },
  {
   "cell_type": "markdown",
   "metadata": {},
   "source": [
    "**Solución:**\n",
    "\n",
    "Demostraremos primeramente que $$xT_Ly=(x+y-1)\\lor 0$$ es una t-norma.\n",
    "\n",
    "Tenemos que es una relación binaria $(x,y)$ que toma valores en el intervalo $[0,1]$\n",
    "\n",
    "Ahora procedemos a demostrar que se cumplen sus propiedades:\n",
    "\n",
    "1- Condición límite: \n",
    "$$a*1=a$$\n",
    "\n",
    "$$aT_L1=(x+1-1)\\lor0 = (x)\\lor0 = x$$\n",
    "\n",
    "$$a*0=0$$\n",
    "\n",
    "$$aT_L0=(x+0-1)\\lor0 = (x-1)\\lor0 = 0$$\n",
    "\n",
    "2- Monotonía:\n",
    "$$b \\leq c \\rightarrow a*b \\leq a*c$$\n",
    "\n",
    "$$b\\leq c$$\n",
    "\n",
    "$$aT_Lb = (a+b-1) \\lor 0$$\n",
    "$$aT_Lc = (a+c-1) \\lor 0$$\n",
    "Como se cumple que $(a+b-1) \\leq (a+c-1)$, debido a que $b\\leq c$, entonces $aT_Lb \\leq aT_Lc$\n",
    "\n",
    "3- Conmutatividad\n",
    "$$a*b = b*a$$\n",
    "\n",
    "$$aT_Lb = bT_La \\rightarrow (a+b-1) \\lor 0 = (b+a-1) \\lor 0$$\n",
    "\n",
    "Son iguales debido a que la operación de la suma es conmutativa\n",
    "\n",
    "4- Asociatividad\n",
    "$$a*(b*c) = (a*b)*c$$\n",
    "\n",
    "$$aT_L(bT_Lc) = (aT_Lb)T_L(c)$$\n",
    "\n",
    "$$(a + (b+c-1 \\lor 0) -1) \\lor 0 = ((a+b-1 \\lor 0) + c - 1 \\lor 0)$$\n",
    "\n",
    "**Falta demostrar la propiedad de asociatividad**\n"
   ]
  },
  {
   "cell_type": "markdown",
   "metadata": {},
   "source": [
    "---\n",
    "**Ejercicio 11.** Considera los conjuntos difusos $A,B:\\mathbb{R}^+\\to[0,1]$ definidos como $A(x)=1/(1+x^2)$ y $B(x)=1/10^x$. Escribe formalmente como funciones $AT_LB$, $AS_LB$, $AT_GB$, $AS_GB$, donde $T_L$ y $S_L$ son la t-norma y t-conorma de Łukasiewicz y $T_G$ y $S_G$ son la t-norma y t-conorma de Goguen. Presenta una gráfica de cada uno."
   ]
  },
  {
   "cell_type": "markdown",
   "metadata": {},
   "source": [
    "**Solución:**\n",
    "\n",
    "$AT_LB$"
   ]
  }
 ],
 "metadata": {
  "kernelspec": {
   "display_name": "Python 3 (ipykernel)",
   "language": "python",
   "name": "python3"
  },
  "language_info": {
   "codemirror_mode": {
    "name": "ipython",
    "version": 3
   },
   "file_extension": ".py",
   "mimetype": "text/x-python",
   "name": "python",
   "nbconvert_exporter": "python",
   "pygments_lexer": "ipython3",
   "version": "3.10.2"
  }
 },
 "nbformat": 4,
 "nbformat_minor": 4
}
